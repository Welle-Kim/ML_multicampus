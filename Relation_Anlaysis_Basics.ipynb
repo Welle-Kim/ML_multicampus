{
  "nbformat": 4,
  "nbformat_minor": 0,
  "metadata": {
    "colab": {
      "name": "Relation Anlaysis Basics.ipynb",
      "private_outputs": true,
      "provenance": [],
      "include_colab_link": true
    },
    "kernelspec": {
      "name": "python3",
      "display_name": "Python 3"
    },
    "language_info": {
      "name": "python"
    }
  },
  "cells": [
    {
      "cell_type": "markdown",
      "metadata": {
        "id": "view-in-github",
        "colab_type": "text"
      },
      "source": [
        "<a href=\"https://colab.research.google.com/github/Welle-Kim/ML_multicampus/blob/master/Relation_Anlaysis_Basics.ipynb\" target=\"_parent\"><img src=\"https://colab.research.google.com/assets/colab-badge.svg\" alt=\"Open In Colab\"/></a>"
      ]
    },
    {
      "cell_type": "code",
      "execution_count": null,
      "metadata": {
        "id": "b9uZYgoAgipQ"
      },
      "outputs": [],
      "source": [
        "import pandas as pd\n",
        "from mlxtend.preprocessing import TransactionEncoder\n",
        "from mlxtend.frequent_patterns import apriori"
      ]
    },
    {
      "cell_type": "code",
      "source": [
        "dataset=[['사과','치즈','생수'],\n",
        "         ['생수','호두','치즈','고등어'],\n",
        "         ['수박','사과','생수'],\n",
        "         ['생수','호두','치즈','옥수수']]"
      ],
      "metadata": {
        "id": "9YGKUeMuhHDt"
      },
      "execution_count": null,
      "outputs": []
    },
    {
      "cell_type": "code",
      "source": [
        "tren=TransactionEncoder()\n",
        "tren_ary=tren.fit(dataset).transform(dataset)\n",
        "print(tren.columns_)"
      ],
      "metadata": {
        "id": "XJ6rZw11M_0k"
      },
      "execution_count": null,
      "outputs": []
    },
    {
      "cell_type": "code",
      "source": [
        "print(tren_ary)"
      ],
      "metadata": {
        "id": "AGb3mdY4NNDl"
      },
      "execution_count": null,
      "outputs": []
    },
    {
      "cell_type": "code",
      "source": [
        "df=pd.DataFrame(tren_ary,columns=tren.columns_)\n",
        "df"
      ],
      "metadata": {
        "id": "JBJwsJBGNS6R"
      },
      "execution_count": null,
      "outputs": []
    },
    {
      "cell_type": "markdown",
      "source": [
        "### apriori: 지지도 계산"
      ],
      "metadata": {
        "id": "PI5eD5UYi1o8"
      }
    },
    {
      "cell_type": "code",
      "source": [
        "print(tren.columns_)\n",
        "fre_items = apriori(df, min_support=0.01)\n",
        "fre_items"
      ],
      "metadata": {
        "id": "WK1qEIakhi0t"
      },
      "execution_count": null,
      "outputs": []
    },
    {
      "cell_type": "code",
      "source": [
        "print(tren.columns_)\n",
        "fre_items=apriori(df,min_support=0.01)\n",
        "fre_items"
      ],
      "metadata": {
        "id": "N2h86rIMN1AU"
      },
      "execution_count": null,
      "outputs": []
    },
    {
      "cell_type": "code",
      "source": [
        "fre_items = apriori(df, min_support=0.01, use_colnames=True)\n",
        "fre_items"
      ],
      "metadata": {
        "id": "II1s8BUShi3k"
      },
      "execution_count": null,
      "outputs": []
    },
    {
      "cell_type": "markdown",
      "source": [
        "#### 람다식(lambda)\n",
        "- lambda 매개변수 : 표현식\n",
        "- df.apply() 함수와 같이 사용\n",
        "- map(함수, 리스트)"
      ],
      "metadata": {
        "id": "wv7eLT7BkoRl"
      }
    },
    {
      "cell_type": "code",
      "source": [
        "def ss(a, b):\n",
        "    return a + b"
      ],
      "metadata": {
        "id": "9RRqlBGyhi6G"
      },
      "execution_count": null,
      "outputs": []
    },
    {
      "cell_type": "code",
      "source": [
        "ss(5, 2)"
      ],
      "metadata": {
        "id": "-pzajEKXlZVF"
      },
      "execution_count": null,
      "outputs": []
    },
    {
      "cell_type": "code",
      "source": [
        "# 람다 표현\n",
        "(lambda a, b: a + b)(5, 2)"
      ],
      "metadata": {
        "id": "J05jasONlZYG"
      },
      "execution_count": null,
      "outputs": []
    },
    {
      "cell_type": "code",
      "source": [
        "#map(함수, 리스트)\n",
        "list(map(lambda x: x **2, range(5)))"
      ],
      "metadata": {
        "id": "0Yv8llF0lwnc"
      },
      "execution_count": null,
      "outputs": []
    },
    {
      "cell_type": "code",
      "source": [
        "# df.apply()을 이용해 fre_items에 \"length\" 필드 추가\n",
        "fre_items['length'] = fre_items['itemsets'].apply(lambda x: len(x))\n",
        "fre_items.tail()"
      ],
      "metadata": {
        "id": "PX0rsPnUmmR0"
      },
      "execution_count": null,
      "outputs": []
    },
    {
      "cell_type": "code",
      "source": [
        "# support가 0.3이상, length가 2 이상인 데이터만 추출 => fre_items에 저장\n",
        "# 결과값은 support 내림차순 정렬\n",
        "\n",
        "fre_items = fre_items[(fre_items['support']>=0.3)&(fre_items['length']>=2)]\n",
        "fre_items.sort_values(by='support', ascending=False)\n",
        "fre_items"
      ],
      "metadata": {
        "id": "ZI41DNYwoDa7"
      },
      "execution_count": null,
      "outputs": []
    },
    {
      "cell_type": "code",
      "source": [
        "# apriori 함수를 이용한 지지도/신뢰도/향상도 확인\n",
        "from mlxtend.frequent_patterns import association_rules\n",
        "fre_items=apriori(df, min_support=0.3, use_colnames=True)\n",
        "\n",
        "association_rules(fre_items, min_threshold=0.3)"
      ],
      "metadata": {
        "id": "5A_5mdzRpab8"
      },
      "execution_count": null,
      "outputs": []
    },
    {
      "cell_type": "code",
      "source": [
        "association_rules(fre_items, metric=\"lift\", min_threshold=1.3)"
      ],
      "metadata": {
        "id": "Anc7lXQKqcp0"
      },
      "execution_count": null,
      "outputs": []
    }
  ]
}