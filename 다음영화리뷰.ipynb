{
  "nbformat": 4,
  "nbformat_minor": 0,
  "metadata": {
    "colab": {
      "name": "다음영화리뷰.ipynb",
      "provenance": [],
      "collapsed_sections": [],
      "authorship_tag": "ABX9TyOf4IZSd6r3l+AnjVR6olAF",
      "include_colab_link": true
    },
    "kernelspec": {
      "name": "python3",
      "display_name": "Python 3"
    },
    "language_info": {
      "name": "python"
    }
  },
  "cells": [
    {
      "cell_type": "markdown",
      "metadata": {
        "id": "view-in-github",
        "colab_type": "text"
      },
      "source": [
        "<a href=\"https://colab.research.google.com/github/Welle-Kim/ML_multicampus/blob/master/%EB%8B%A4%EC%9D%8C%EC%98%81%ED%99%94%EB%A6%AC%EB%B7%B0.ipynb\" target=\"_parent\"><img src=\"https://colab.research.google.com/assets/colab-badge.svg\" alt=\"Open In Colab\"/></a>"
      ]
    },
    {
      "cell_type": "code",
      "source": [
        "from selenium import webdriver\n",
        "from bs4 import BeautifulSoup as bs\n",
        "from urllib.parse import quote\n",
        "import requests\n",
        "import time\n",
        "import pandas as pd\n",
        "import re"
      ],
      "metadata": {
        "id": "3qAKIKjJmukI"
      },
      "execution_count": null,
      "outputs": []
    },
    {
      "cell_type": "code",
      "execution_count": null,
      "metadata": {
        "id": "AdzEnfBYmrlp"
      },
      "outputs": [],
      "source": [
        "## 카카오 페이지 영화순위 -티빙 (1~10순위 크롤링)\n",
        "\n",
        "from selenium import webdriver\n",
        "#드라이버 초기화\n",
        "\n",
        "driver = webdriver.Chrome(\"/opt/homebrew/bin/chromedriver\")\n",
        "#URL 얻기\n",
        "file = open(\"test.txt\",\"w\",encoding=\"utf-8\")\n",
        "file.close()\n",
        "\n",
        "kakaopage=[132303,144054,82809,140168,94116,132347,81103,145316,137628,123374]\n",
        "\n",
        "\n",
        "for k in kakaopage:\n",
        "    driver.get(\"https://movie.daum.net/moviedb/grade?movieId=\"+str(k))\n",
        "    driver.execute_script(\"window.scrollTo(0, 53)\") \n",
        "    review_list=[]\n",
        "    \n",
        "    while True:\n",
        "        try:\n",
        "            last_height = driver.execute_script(\"return document.body.scrollHeight\")\n",
        "            driver.execute_script(\"window.scrollTo(0, document.body.scrollHeight);\")\n",
        "            time.sleep(1)\n",
        "            new_height = driver.execute_script(\"return document.body.scrollHeight\")\n",
        "            if new_height == last_height:\n",
        "                xpath1 = \"\"\"//*[@id=\"alex-area\"]/div/div/div/div[3]/div[1]/button\"\"\"\n",
        "                driver.find_element_by_xpath(xpath1).click()\n",
        "        except:\n",
        "            break\n",
        "        last_height = new_height\n",
        "\n",
        "    html = driver.page_source\n",
        "    soup=bs(html,\"html.parser\")\n",
        "    reviews=soup.find_all(\"p\",{'class':'desc_txt font_size_'})\n",
        "    for review in reviews:\n",
        "        review_list.append(review.get_text().strip())\n",
        "    #print(review_list)\n",
        "    \n",
        "\n",
        "\n",
        "    file = open(\"test.txt\",\"a\",encoding=\"utf-8\")\n",
        "    for a in review_list:\n",
        "        file.write(a+\"\\n\")\n",
        "    file.close()\n",
        "\n",
        "file = open(\"./test.txt\", \"r\")\n",
        "strings = file.read()\n",
        "print(strings)\n",
        "\n",
        "file.close()"
      ]
    }
  ]
}