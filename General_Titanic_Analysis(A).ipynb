{
  "nbformat": 4,
  "nbformat_minor": 0,
  "metadata": {
    "colab": {
      "name": "General  Titanic Analysis(A).ipynb",
      "private_outputs": true,
      "provenance": [],
      "collapsed_sections": [],
      "include_colab_link": true
    },
    "kernelspec": {
      "name": "python3",
      "display_name": "Python 3"
    },
    "language_info": {
      "name": "python"
    }
  },
  "cells": [
    {
      "cell_type": "markdown",
      "metadata": {
        "id": "view-in-github",
        "colab_type": "text"
      },
      "source": [
        "<a href=\"https://colab.research.google.com/github/Welle-Kim/ML_multicampus/blob/master/General_Titanic_Analysis(A).ipynb\" target=\"_parent\"><img src=\"https://colab.research.google.com/assets/colab-badge.svg\" alt=\"Open In Colab\"/></a>"
      ]
    },
    {
      "cell_type": "code",
      "execution_count": null,
      "metadata": {
        "id": "4ZMzvEkAeCFY"
      },
      "outputs": [],
      "source": [
        "# 데이터 불러오기\n",
        "import pandas as pd\n",
        "import numpy as np\n",
        "import random \n",
        "\n",
        "# 시각화\n",
        "import seaborn as sns\n",
        "import matplotlib.pyplot as plt\n",
        "%matplotlib inline\n",
        "\n",
        "# 머신러닝\n",
        "from sklearn.linear_model import LogisticRegression\n",
        "from sklearn.svm import SVC, LinearSVC\n",
        "from sklearn.ensemble import RandomForestClassifier\n",
        "from sklearn.neighbors import KNeighborsClassifier\n",
        "from sklearn.naive_bayes import GaussianNB\n",
        "from sklearn.linear_model import Perceptron\n",
        "from sklearn.linear_model import SGDClassifier\n",
        "from sklearn.tree import DecisionTreeClassifier\n",
        "\n",
        "import warnings\n",
        "warnings.filterwarnings(action='ignore')"
      ]
    },
    {
      "cell_type": "markdown",
      "source": [
        "데이터 셋 불러오기\n",
        "- train.csv : 모델 학습에 사용되는 데이터\n",
        "- test.csv : 모델 적용 대상이 되는 데이터"
      ],
      "metadata": {
        "id": "SDexQAjaeWo0"
      }
    },
    {
      "cell_type": "code",
      "source": [
        "train_df=pd.read_csv(\"train.csv\")\n",
        "test_df=pd.read_csv(\"test.csv\")\n",
        "# 모델 적용의 일관성을 위해,\n",
        "# train과 test를 합한 combine 데이터 셋도 지정\n",
        "combine=[train_df,test_df]"
      ],
      "metadata": {
        "id": "9pgX2v2GeULe"
      },
      "execution_count": null,
      "outputs": []
    },
    {
      "cell_type": "markdown",
      "source": [
        "데이터 변수(Feature) 확인"
      ],
      "metadata": {
        "id": "vH0KeFQ6evU0"
      }
    },
    {
      "cell_type": "code",
      "source": [
        "# 변수 보기\n",
        "print(train_df.columns.values)"
      ],
      "metadata": {
        "id": "GvhXrwJTespt"
      },
      "execution_count": null,
      "outputs": []
    },
    {
      "cell_type": "markdown",
      "source": [
        "#### 변수설명\n",
        "- PassengerId : 각 승객의 고유 번호\n",
        "- Survived : 생존 여부(종속 변수)\n",
        " - 0 = 사망\n",
        " - 1 = 생존\n",
        "- Pclass : 객실 등급 - 승객의 사회적, 경제적 지위\n",
        " - 1st = Upper\n",
        " - 2nd = Middle\n",
        " - 3rd = Lower\n",
        "- Name : 이름\n",
        "- Sex : 성별\n",
        "- Age : 나이\n",
        "- SibSp : 동반한 Sibling(형제자매)와 Spouse(배우자)의 수\n",
        "- Parch : 동반한 Parent(부모) Child(자식)의 수\n",
        "- Ticket : 티켓의 고유넘버\n",
        "- Fare : 티켓의 요금\n",
        "- Cabin : 객실 번호\n",
        "- Embarked : 승선한 항\n",
        " - C = Cherbourg\n",
        " - Q = Queenstown\n",
        " - S = Southampton"
      ],
      "metadata": {
        "id": "6vVcV9NKe1gk"
      }
    },
    {
      "cell_type": "code",
      "source": [
        "# 데이터 미리 보기\n",
        "train_df.head()"
      ],
      "metadata": {
        "id": "UHWqb8Fxexck"
      },
      "execution_count": null,
      "outputs": []
    },
    {
      "cell_type": "markdown",
      "source": [
        "예측의 대상인 object 변수(Label)은 \"Survived\", 나머지는 설명 변수로 작용됨"
      ],
      "metadata": {
        "id": "KY6UdruAfRFc"
      }
    },
    {
      "cell_type": "code",
      "source": [
        "train_df.tail()"
      ],
      "metadata": {
        "id": "t6gpS5dsfNEV"
      },
      "execution_count": null,
      "outputs": []
    },
    {
      "cell_type": "code",
      "source": [
        "# 훈련 자료 정보\n",
        "train_df.info()"
      ],
      "metadata": {
        "id": "aLOAWzz6fUek"
      },
      "execution_count": null,
      "outputs": []
    },
    {
      "cell_type": "code",
      "source": [
        "# 테스트 자료 정보\n",
        "test_df.info()"
      ],
      "metadata": {
        "id": "IqzeZrGifW8M"
      },
      "execution_count": null,
      "outputs": []
    },
    {
      "cell_type": "markdown",
      "source": [
        "데이터 분석"
      ],
      "metadata": {
        "id": "-4Se8dAQfb2t"
      }
    },
    {
      "cell_type": "code",
      "source": [
        "# 훈련 자료 int, float 변수 통계치\n",
        "train_df.describe()"
      ],
      "metadata": {
        "id": "_H5C7_RJfZQk"
      },
      "execution_count": null,
      "outputs": []
    },
    {
      "cell_type": "markdown",
      "source": [
        " - 훈련 자료 샘플 수 : 891 (count=891)\n",
        " - 훈련 자료 샘플 내 생존율 : 38.4% (mean의 Survived=0.383838)"
      ],
      "metadata": {
        "id": "kd1Q8Dasfgo8"
      }
    },
    {
      "cell_type": "code",
      "source": [
        "# 훈련 자료 object 변수 통계치\n",
        "train_df.describe(include=['O'])"
      ],
      "metadata": {
        "id": "Q-XWVS47fd3k"
      },
      "execution_count": null,
      "outputs": []
    },
    {
      "cell_type": "markdown",
      "source": [
        " - 훈련 자료 남성 수 : 577명 (top의 Sex = male, freq의 Sex = 577)\n",
        " - 훈련 자료 가장 많은 승선지 : S, 644명 (top의 Embarked = S, freq의 Emabarked =644)"
      ],
      "metadata": {
        "id": "ghc7dqNqfm98"
      }
    },
    {
      "cell_type": "markdown",
      "source": [
        "훈련 자료에서 객실 등급(Pclass)에 따른 생존율 비교"
      ],
      "metadata": {
        "id": "XIq2bJaufqKT"
      }
    },
    {
      "cell_type": "code",
      "source": [
        "train_df[['Pclass', 'Survived']].groupby(['Pclass'], as_index=False).mean().sort_values(by='Survived', ascending=False)\n",
        "#groupby에 as_index를 False로 하면 Pclass를 index로 사용하지 않음\n",
        "# ascending : 오름차순\n",
        "# as_index를 True로 하면 Pclass를 index로 사용"
      ],
      "metadata": {
        "id": "P9vTQGCKfkQU"
      },
      "execution_count": null,
      "outputs": []
    },
    {
      "cell_type": "markdown",
      "source": [
        " - 객실 등급이 좋을 수록 생존율이 높음"
      ],
      "metadata": {
        "id": "JmvvHn66fuob"
      }
    },
    {
      "cell_type": "markdown",
      "source": [
        "훈련 자료에서 성별(Sex)에 따른 생존율 비교"
      ],
      "metadata": {
        "id": "PTu4w7eKfxwc"
      }
    },
    {
      "cell_type": "code",
      "source": [
        "train_df[[\"Sex\", \"Survived\"]].groupby(['Sex'], as_index=False).mean().sort_values(by='Survived', ascending=False)"
      ],
      "metadata": {
        "id": "wEGxFh0wfsKT"
      },
      "execution_count": null,
      "outputs": []
    },
    {
      "cell_type": "markdown",
      "source": [
        " - 여성의 생존율이 남성보다 높음"
      ],
      "metadata": {
        "id": "rBSQN70xf2YM"
      }
    },
    {
      "cell_type": "markdown",
      "source": [
        "훈련 자료에서 함께 승선한 형제자매와 배우자 수(SibSp)에 따른 생존율 비교"
      ],
      "metadata": {
        "id": "LNzzOs0Ff5QM"
      }
    },
    {
      "cell_type": "code",
      "source": [
        "train_df[[\"SibSp\", \"Survived\"]].groupby(['SibSp'], as_index=False).mean().sort_values(by='Survived', ascending=False)"
      ],
      "metadata": {
        "id": "EmPlyFMuf0Lp"
      },
      "execution_count": null,
      "outputs": []
    },
    {
      "cell_type": "markdown",
      "source": [
        "훈련 자료에서 함께 승선한 부모와 자식 수(Parch)에 따른 생존율 비교"
      ],
      "metadata": {
        "id": "MRO4pyNjf9vM"
      }
    },
    {
      "cell_type": "code",
      "source": [
        "train_df[[\"Parch\", \"Survived\"]].groupby(['Parch'], as_index=False).mean().sort_values(by='Survived', ascending=False)"
      ],
      "metadata": {
        "id": "egd8ILOUf7Ys"
      },
      "execution_count": null,
      "outputs": []
    },
    {
      "cell_type": "markdown",
      "source": [
        " - 동행이 적은 경우, 생존율이 높음"
      ],
      "metadata": {
        "id": "kUTO-vN0gBnO"
      }
    },
    {
      "cell_type": "markdown",
      "source": [
        "훈련 자료에서 생존 여부(Survived)에 따른 연령(Age) 분포"
      ],
      "metadata": {
        "id": "ASj1eDWhgEKs"
      }
    },
    {
      "cell_type": "code",
      "source": [
        "# 열(col)을 생존 여부로 나눔\n",
        "g = sns.FacetGrid(train_df, col='Survived')\n",
        "# 히스토그램으로 시각화, 연령의 분포를 확인, 히스토그램 bin을 20개로 설정\n",
        "g.map(plt.hist, 'Age', bins=20)"
      ],
      "metadata": {
        "id": "hdZ1lCWDf_gE"
      },
      "execution_count": null,
      "outputs": []
    },
    {
      "cell_type": "markdown",
      "source": [
        " - 4세 이하의 유아의 생존율이 높음\n",
        " - 15 ~ 25세 승객들의 생존율이 높음"
      ],
      "metadata": {
        "id": "0soNkav5gIGE"
      }
    },
    {
      "cell_type": "markdown",
      "source": [
        "훈련 자료에서 객실 등급(Pclass)과 생존 여부(Survived)에 따른 연령(Age) 분포"
      ],
      "metadata": {
        "id": "mdZkcsm4gL3z"
      }
    },
    {
      "cell_type": "code",
      "source": [
        "# 열을 생존 여부, 행(row)과 색깔(hue)을 객실 등급으로 나눔, width = height * aspect\n",
        "grid = sns.FacetGrid(train_df, col='Survived', row='Pclass', hue=\"Pclass\", height=2.2, aspect=1.6)\n",
        "\n",
        "grid.map(plt.hist, 'Age', alpha=.5, bins=20) # 투명도(alpha): 0.5\n",
        "\n",
        "# 범례 추가\n",
        "grid.add_legend();"
      ],
      "metadata": {
        "id": "3dnYVS3ogF5j"
      },
      "execution_count": null,
      "outputs": []
    },
    {
      "cell_type": "markdown",
      "source": [
        " - 객실 등급이 3등급인 경우, 승객 수는 가장 많고, 생존율도 가장 낮음\n",
        " - 객실 등급이 2등급인 유아는 대부분 생존함\n",
        " - 객실 등급이 1등급인 경우 생존율이 비교적 높음"
      ],
      "metadata": {
        "id": "1GXyMDYjgQST"
      }
    },
    {
      "cell_type": "markdown",
      "source": [
        "훈련자료에서 승선지(Embarked)와 객실 등급(Pclass)에 따른 생존율(Survived)"
      ],
      "metadata": {
        "id": "Ao1r3V4igU9d"
      }
    },
    {
      "cell_type": "code",
      "source": [
        "grid = sns.FacetGrid(train_df, row='Embarked', height=2.2, aspect=1.6)\n",
        "\n",
        "# Pointplot으로 시각화, x: 객실 등급, y: 생존 여부, 색깔: 성별, x축 순서: [1, 2, 3], 색깔 순서: [남성, 여성]\n",
        "grid.map(sns.pointplot, 'Pclass', 'Survived', 'Sex', palette='deep', order = [1, 2, 3], hue_order = [\"male\", \"female\"])\n",
        "\n",
        "grid.add_legend()"
      ],
      "metadata": {
        "id": "gAb4ofQ6gN3L"
      },
      "execution_count": null,
      "outputs": []
    },
    {
      "cell_type": "markdown",
      "source": [
        " - 승선지가 C와 Q인 경우, 남성의 티켓 등급이 3등급일 때 2등급보다 생존율이 높을 가능성이 있음"
      ],
      "metadata": {
        "id": "wpdWUKFlgZ7v"
      }
    },
    {
      "cell_type": "code",
      "source": [
        "grid = sns.FacetGrid(train_df, row='Embarked', col='Survived', height=2.2, aspect=1.6)\n",
        "\n",
        "# 바그래프로 시각화, x: 성별, y: 요금, Error bar: 표시 안 함\n",
        "grid.map(sns.barplot, 'Sex', 'Fare', alpha=.5, ci=None,order=[\"male\",\"female\"])\n",
        "\n",
        "grid.add_legend()"
      ],
      "metadata": {
        "id": "0Pb07GjrgXNN"
      },
      "execution_count": null,
      "outputs": []
    },
    {
      "cell_type": "markdown",
      "source": [
        " - 승선지가 S또는 C인 경우, 생존한 승객들의 평균 요금이 비교적 높음\n"
      ],
      "metadata": {
        "id": "dvNl6-i9geOV"
      }
    },
    {
      "cell_type": "markdown",
      "source": [
        "## 데이터 전처리"
      ],
      "metadata": {
        "id": "C2qDUDVXghDN"
      }
    },
    {
      "cell_type": "markdown",
      "source": [
        "안쓸 변수(Ticket, Cabin) 제거"
      ],
      "metadata": {
        "id": "HzCCAGWkgjok"
      }
    },
    {
      "cell_type": "code",
      "source": [
        "print(\"Before\", train_df.shape, test_df.shape)\n",
        "\n",
        "# 열(axis=1)제거\n",
        "train_df = train_df.drop(['Ticket', 'Cabin'], axis=1)\n",
        "test_df = test_df.drop(['Ticket', 'Cabin'], axis=1)\n",
        "combine = [train_df, test_df]\n",
        "print(\"After\", train_df.shape, test_df.shape)"
      ],
      "metadata": {
        "id": "M0fJep2OgcW8"
      },
      "execution_count": null,
      "outputs": []
    },
    {
      "cell_type": "code",
      "source": [
        "for dataset in combine:\n",
        "    dataset['Title'] = dataset.Name.str.extract(' ([A-Za-z]+)\\.', expand=False)\n",
        "\n",
        "pd.crosstab(train_df['Title'], train_df['Sex'])"
      ],
      "metadata": {
        "id": "bblvxHyQglmz"
      },
      "execution_count": null,
      "outputs": []
    },
    {
      "cell_type": "markdown",
      "source": [
        "female에서는 Miss와 Mrs가, male에서는 Master와 Mr가 두드러지게 나타남<br>(Mlle와 Ms 는 Miss의, Ms는 Mrs의 불어식 표현)\n",
        "\n",
        "나머지는 Rare로 분류"
      ],
      "metadata": {
        "id": "rb5msQezgtoE"
      }
    },
    {
      "cell_type": "code",
      "source": [
        "for dataset in combine:\n",
        "    dataset['Title'] = dataset['Title'].replace(['Lady', 'Countess','Capt', 'Col',\\\n",
        " \t'Don', 'Dr', 'Major', 'Rev', 'Sir', 'Jonkheer', 'Dona'], 'Rare')\n",
        "\n",
        "    dataset['Title'] = dataset['Title'].replace('Mlle', 'Miss')\n",
        "    dataset['Title'] = dataset['Title'].replace('Ms', 'Miss')\n",
        "    dataset['Title'] = dataset['Title'].replace('Mme', 'Mrs')\n",
        "    \n",
        "train_df[['Title', 'Survived']].groupby(['Title'], as_index=False).mean()"
      ],
      "metadata": {
        "id": "EKuSKstBgosE"
      },
      "execution_count": null,
      "outputs": []
    },
    {
      "cell_type": "markdown",
      "source": [
        "Title 변수를 숫자형 변수로 바꿔줌"
      ],
      "metadata": {
        "id": "2MofE1Jpg1-L"
      }
    },
    {
      "cell_type": "code",
      "source": [
        "title_mapping = {\"Mr\": 1, \"Miss\": 2, \"Mrs\": 3, \"Master\": 4, \"Rare\": 5}\n",
        "for dataset in combine:\n",
        "    dataset['Title'] = dataset['Title'].map(title_mapping)\n",
        "    dataset['Title'] = dataset['Title'].fillna(0)\n",
        "\n",
        "train_df.head()"
      ],
      "metadata": {
        "id": "v-1nALiDgzfz"
      },
      "execution_count": null,
      "outputs": []
    },
    {
      "cell_type": "markdown",
      "source": [
        "안쓸 변수(Name, PassengerId) 제거"
      ],
      "metadata": {
        "id": "y0WDMJnsg53V"
      }
    },
    {
      "cell_type": "code",
      "source": [
        "train_df = train_df.drop(['Name', 'PassengerId'], axis=1)\n",
        "test_df = test_df.drop(['Name'], axis=1)\n",
        "combine = [train_df, test_df]\n",
        "train_df.shape, test_df.shape"
      ],
      "metadata": {
        "id": "xSDDq5m_g4BD"
      },
      "execution_count": null,
      "outputs": []
    },
    {
      "cell_type": "markdown",
      "source": [
        "성별(Sex) 변수를 숫자 범주형 변수로 바꿔줌"
      ],
      "metadata": {
        "id": "hfl5W35Zg9yE"
      }
    },
    {
      "cell_type": "code",
      "source": [
        "for dataset in combine:\n",
        "    dataset['Sex'] = dataset['Sex'].map( {'female': 1, 'male': 0} ).astype(int)\n",
        "\n",
        "train_df.head()\n"
      ],
      "metadata": {
        "id": "T0vqUdkBg7iz"
      },
      "execution_count": null,
      "outputs": []
    },
    {
      "cell_type": "markdown",
      "source": [
        "객실 등급(Pclass)과 성별(Sex) 시각화"
      ],
      "metadata": {
        "id": "8BJpndLAhB8t"
      }
    },
    {
      "cell_type": "code",
      "source": [
        "g = sns.FacetGrid(train_df, row='Pclass', col='Sex', height=2.2, aspect=1.6)\n",
        "g.map(plt.hist, 'Age', alpha=.5, bins=20)\n",
        "g.add_legend()"
      ],
      "metadata": {
        "id": "GQrz_IdjhADU"
      },
      "execution_count": null,
      "outputs": []
    },
    {
      "cell_type": "markdown",
      "source": [
        " - Pclass, Sex와 Age와의 결합이 2열 3행으로 구성됨"
      ],
      "metadata": {
        "id": "iLnDTt89hGCt"
      }
    },
    {
      "cell_type": "code",
      "source": [
        "guess_ages = np.zeros((2,3))\n",
        "for dbset in combine:\n",
        "    for i in range(0, 2):\n",
        "        for j in range(0, 3):\n",
        "            guess_df = dbset[(dbset['Sex'] == i) & \\\n",
        "                                  (dbset['Pclass'] == j+1)]['Age'].dropna()\n",
        "            # 위에서 guess_ages사이즈를 [2,3]으로 잡아뒀으므로 j의 범위도 이를 따름\n",
        "            \n",
        "            age_guess = guess_df.median()\n",
        "\n",
        "            # age의 random값의 소수점을 .5에 가깝도록 변형\n",
        "            guess_ages[i,j] = int( age_guess/0.5 + 0.5 ) * 0.5\n",
        "            \n",
        "    for i in range(0, 2):\n",
        "        for j in range(0, 3):\n",
        "            dbset.loc[ (dbset.Age.isnull()) & (dbset.Sex == i) & (dbset.Pclass == j+1),\\\n",
        "                    'Age'] = guess_ages[i,j]\n",
        "\n",
        "    dbset['Age'] = dbset['Age'].astype(int)\n",
        "\n",
        "train_df.isnull().sum()"
      ],
      "metadata": {
        "id": "ussov4KOhD28"
      },
      "execution_count": null,
      "outputs": []
    },
    {
      "cell_type": "markdown",
      "source": [
        " - Age의 결측치가 채워짐"
      ],
      "metadata": {
        "id": "wO-85tH6hMN1"
      }
    },
    {
      "cell_type": "markdown",
      "source": [
        "연령(Age) 변수를 범주형 변수로 바꿔줌"
      ],
      "metadata": {
        "id": "atW_0OsohPCk"
      }
    },
    {
      "cell_type": "code",
      "source": [
        "train_df['AgeBand'] = pd.cut(train_df['Age'], 5)\n",
        "# 임의로 5개 그룹을 지정\n",
        "train_df[['AgeBand', 'Survived']].groupby(['AgeBand'], as_index=False).mean().sort_values(by='AgeBand', ascending=True)"
      ],
      "metadata": {
        "id": "dxtYMVlDhJyb"
      },
      "execution_count": null,
      "outputs": []
    },
    {
      "cell_type": "markdown",
      "source": [
        "AgeBand를 바탕으로 Age를 범주형 변수로 바꿔준 후, AgeBand변수는 제거"
      ],
      "metadata": {
        "id": "6ALDwyaEhT-1"
      }
    },
    {
      "cell_type": "code",
      "source": [
        "for dbaset in combine:    \n",
        "    dbaset.loc[ dbaset['Age'] <= 16, 'Age'] = 0\n",
        "    dbaset.loc[(dbaset['Age'] > 16) & (dbaset['Age'] <= 32), 'Age'] = 1\n",
        "    dbaset.loc[(dbaset['Age'] > 32) & (dbaset['Age'] <= 48), 'Age'] = 2\n",
        "    dbaset.loc[(dbaset['Age'] > 48) & (dbaset['Age'] <= 64), 'Age'] = 3\n",
        "    dbaset.loc[ dbaset['Age'] > 64, 'Age']\n",
        "train_df = train_df.drop(['AgeBand'], axis=1)\n",
        "combine = [train_df, test_df]\n",
        "train_df.head()"
      ],
      "metadata": {
        "id": "Xw3KRLe3hRa7"
      },
      "execution_count": null,
      "outputs": []
    },
    {
      "cell_type": "markdown",
      "source": [
        "SibSp와 Parch를 가족과의 동반여부를 알 수 있는 새로운 변수로 통합"
      ],
      "metadata": {
        "id": "jsfUXDjhhYNF"
      }
    },
    {
      "cell_type": "code",
      "source": [
        "for dbset in combine:\n",
        "    dbset['FamilySize'] = dbset['SibSp'] + dbset['Parch'] + 1\n",
        "\n",
        "train_df[['FamilySize', 'Survived']].groupby(['FamilySize'], as_index=False).mean().sort_values(by='Survived', ascending=False)"
      ],
      "metadata": {
        "id": "aSGTM6uNhWI0"
      },
      "execution_count": null,
      "outputs": []
    },
    {
      "cell_type": "markdown",
      "source": [
        " - FamilySize가 1인 것은 가족과 동반하지 않음을 의미"
      ],
      "metadata": {
        "id": "_7z2FgTLhcrs"
      }
    },
    {
      "cell_type": "code",
      "source": [
        "for dataset in combine:\n",
        "    dataset['IsAlone'] = 0\n",
        "    dataset.loc[dataset['FamilySize'] == 1, 'IsAlone'] = 1\n",
        "\n",
        "train_df[['IsAlone', 'Survived']].groupby(['IsAlone'], as_index=False).mean()"
      ],
      "metadata": {
        "id": "_T0uT6GrhaLz"
      },
      "execution_count": null,
      "outputs": []
    },
    {
      "cell_type": "markdown",
      "source": [
        " - 1은 동반X\n",
        " - 0은 동반했다는 새로운 변수 IsAlone을 생성"
      ],
      "metadata": {
        "id": "1wDdSnJb4NHy"
      }
    },
    {
      "cell_type": "code",
      "source": [
        "train_df = train_df.drop(['Parch', 'SibSp', 'FamilySize'], axis=1)\n",
        "test_df = test_df.drop(['Parch', 'SibSp', 'FamilySize'], axis=1)\n",
        "combine = [train_df, test_df]\n",
        "train_df.head()"
      ],
      "metadata": {
        "id": "Vbu4CUzd4Kwi"
      },
      "execution_count": null,
      "outputs": []
    },
    {
      "cell_type": "markdown",
      "source": [
        "Age변수와 Pclass를 곱한 Age*Class변수 생성"
      ],
      "metadata": {
        "id": "uAaQPUnI4S8y"
      }
    },
    {
      "cell_type": "code",
      "source": [
        "for dbset in combine:\n",
        "    dbset['Age*Class'] = dbset.Age * dbset.Pclass\n",
        "\n",
        "train_df.loc[:, ['Age*Class', 'Age', 'Pclass']].head(10)"
      ],
      "metadata": {
        "id": "Q-FaDtX_4Q8K"
      },
      "execution_count": null,
      "outputs": []
    },
    {
      "cell_type": "markdown",
      "source": [
        "승선지(Ebmarked) 변수를 최빈값으로 대체"
      ],
      "metadata": {
        "id": "Ug5sLOfx4YdC"
      }
    },
    {
      "cell_type": "code",
      "source": [
        "freq_port = train_df.Embarked.dropna().mode()[0]\n",
        "freq_port"
      ],
      "metadata": {
        "id": "pUkFR9qF4V8B"
      },
      "execution_count": null,
      "outputs": []
    },
    {
      "cell_type": "code",
      "source": [
        "for dbset in combine:\n",
        "    dbset['Embarked'] = dbset['Embarked'].fillna(freq_port)\n",
        "    \n",
        "train_df[['Embarked', 'Survived']].groupby(['Embarked'], as_index=False).mean().sort_values(by='Survived', ascending=False)"
      ],
      "metadata": {
        "id": "HxLNcWHv4adC"
      },
      "execution_count": null,
      "outputs": []
    },
    {
      "cell_type": "markdown",
      "source": [
        "승선지(Ebmarked) 변수를 범주형 변수로 바꿔줌"
      ],
      "metadata": {
        "id": "K-262pvl4fSC"
      }
    },
    {
      "cell_type": "code",
      "source": [
        "for dbset in combine:\n",
        "    dbset['Embarked'] = dbset['Embarked'].map( {'S': 0, 'C': 1, 'Q': 2} ).astype(int)\n",
        "\n",
        "train_df.head()"
      ],
      "metadata": {
        "id": "OSc4Dygz4c7C"
      },
      "execution_count": null,
      "outputs": []
    },
    {
      "cell_type": "markdown",
      "source": [
        "요금(Fare) 변수를 중앙값으로 대체"
      ],
      "metadata": {
        "id": "wa8FG-1d4jpi"
      }
    },
    {
      "cell_type": "code",
      "source": [
        "test_df['Fare'].fillna(test_df['Fare'].dropna().median(), inplace=True)\n",
        "test_df.head()"
      ],
      "metadata": {
        "id": "FkboRVWQ4heB"
      },
      "execution_count": null,
      "outputs": []
    },
    {
      "cell_type": "markdown",
      "source": [
        "요금(Fare)을 숫자 범주형 변수로 바꿔줌"
      ],
      "metadata": {
        "id": "aEJOiJDx4oHb"
      }
    },
    {
      "cell_type": "code",
      "source": [
        "train_df['FareBand'] = pd.qcut(train_df['Fare'], 4)\n",
        "train_df[['FareBand', 'Survived']].groupby(['FareBand'], as_index=False).mean().sort_values(by='FareBand', ascending=True)"
      ],
      "metadata": {
        "id": "oBPsc-Xi4lh5"
      },
      "execution_count": null,
      "outputs": []
    },
    {
      "cell_type": "code",
      "source": [
        "for dbset in combine:\n",
        "    dbset.loc[ dbset['Fare'] <= 7.91, 'Fare'] = 0\n",
        "    dbset.loc[(dbset['Fare'] > 7.91) & (dbset['Fare'] <= 14.454), 'Fare'] = 1\n",
        "    dbset.loc[(dbset['Fare'] > 14.454) & (dbset['Fare'] <= 31), 'Fare']   = 2\n",
        "    dbset.loc[ dbset['Fare'] > 31, 'Fare'] = 3\n",
        "    dbset['Fare'] = dbset['Fare'].astype(int)\n",
        "\n",
        "train_df = train_df.drop(['FareBand'], axis=1)\n",
        "combine = [train_df, test_df]\n",
        "    \n",
        "train_df.head(10)"
      ],
      "metadata": {
        "id": "5MCt6Zum4p92"
      },
      "execution_count": null,
      "outputs": []
    },
    {
      "cell_type": "code",
      "source": [
        "test_df.head(10)"
      ],
      "metadata": {
        "id": "p-TsAQHB4sp2"
      },
      "execution_count": null,
      "outputs": []
    },
    {
      "cell_type": "markdown",
      "source": [
        " - 훈련(train) 데이터셋 준비완료"
      ],
      "metadata": {
        "id": "i0DFtn5n41Sa"
      }
    },
    {
      "cell_type": "markdown",
      "source": [
        "데이터 준비"
      ],
      "metadata": {
        "id": "VlsRPx5V434J"
      }
    },
    {
      "cell_type": "code",
      "source": [
        "# 목적 변수 제거\n",
        "X_train = train_df.drop(\"Survived\", axis=1)\n",
        "#목적 변수 적용\n",
        "Y_train = train_df[\"Survived\"]\n",
        "#예측 대상 데이터 셋\n",
        "X_test  = test_df.drop(\"PassengerId\", axis=1).copy()\n",
        "X_train.shape, Y_train.shape, X_test.shape"
      ],
      "metadata": {
        "id": "QBvSOW7T4zFy"
      },
      "execution_count": null,
      "outputs": []
    },
    {
      "cell_type": "markdown",
      "source": [
        "Logistic Regression"
      ],
      "metadata": {
        "id": "qEFC43vI5FQK"
      }
    },
    {
      "cell_type": "code",
      "source": [
        "# Logistic Regression\n",
        "\n",
        "logreg = LogisticRegression()\n",
        "logreg.fit(X_train, Y_train)\n",
        "Y_pred = logreg.predict(X_test)\n",
        "acc_log = round(logreg.score(X_train, Y_train) * 100, 2)\n",
        "acc_log"
      ],
      "metadata": {
        "id": "f96yknzQ46sB"
      },
      "execution_count": null,
      "outputs": []
    },
    {
      "cell_type": "code",
      "source": [
        "coeff_df = pd.DataFrame(train_df.columns.delete(0))\n",
        "coeff_df.columns = ['Feature']\n",
        "coeff_df[\"Correlation\"] = pd.Series(logreg.coef_[0])\n",
        "\n",
        "coeff_df.sort_values(by='Correlation', ascending=False)"
      ],
      "metadata": {
        "id": "dSCKH57G5HS5"
      },
      "execution_count": null,
      "outputs": []
    },
    {
      "cell_type": "markdown",
      "source": [
        "- 생존 여부 예측에 영향력이 큰 변수는 성별(Sex)"
      ],
      "metadata": {
        "id": "qkOdrVQw5jRK"
      }
    },
    {
      "cell_type": "markdown",
      "source": [
        "SVC(Support Vector Machines)"
      ],
      "metadata": {
        "id": "_qV4k3CZ5uMS"
      }
    },
    {
      "cell_type": "code",
      "source": [
        "# Support Vector Machines\n",
        "\n",
        "svc = SVC()\n",
        "svc.fit(X_train, Y_train)\n",
        "Y_pred = svc.predict(X_test)\n",
        "acc_svc = round(svc.score(X_train, Y_train) * 100, 2)\n",
        "acc_svc"
      ],
      "metadata": {
        "id": "t27_cKZW5eSy"
      },
      "execution_count": null,
      "outputs": []
    },
    {
      "cell_type": "markdown",
      "source": [
        "K-NN(K Nearest Neighberhood)"
      ],
      "metadata": {
        "id": "ThY6QO5251Ei"
      }
    },
    {
      "cell_type": "code",
      "source": [
        "knn = KNeighborsClassifier(n_neighbors = 3)\n",
        "knn.fit(X_train, Y_train)\n",
        "Y_pred = knn.predict(X_test)\n",
        "acc_knn = round(knn.score(X_train, Y_train) * 100, 2)\n",
        "acc_knn"
      ],
      "metadata": {
        "id": "Sdfxpemi5wQv"
      },
      "execution_count": null,
      "outputs": []
    },
    {
      "cell_type": "markdown",
      "source": [
        "Decision Tree"
      ],
      "metadata": {
        "id": "UDr_oBVd5_Zy"
      }
    },
    {
      "cell_type": "code",
      "source": [
        "# Decision Tree\n",
        "\n",
        "decision_tree = DecisionTreeClassifier()\n",
        "decision_tree.fit(X_train, Y_train)\n",
        "Y_pred = decision_tree.predict(X_test)\n",
        "acc_decision_tree = round(decision_tree.score(X_train, Y_train) * 100, 2)\n",
        "acc_decision_tree"
      ],
      "metadata": {
        "id": "6Y2HhLt953F5"
      },
      "execution_count": null,
      "outputs": []
    },
    {
      "cell_type": "markdown",
      "source": [
        "Random Forest"
      ],
      "metadata": {
        "id": "IkX0Ix3f6J8i"
      }
    },
    {
      "cell_type": "code",
      "source": [
        "# Random Forest\n",
        "\n",
        "random_forest = RandomForestClassifier(n_estimators=100)\n",
        "random_forest.fit(X_train, Y_train)\n",
        "Y_pred = random_forest.predict(X_test)\n",
        "random_forest.score(X_train, Y_train)\n",
        "acc_random_forest = round(random_forest.score(X_train, Y_train) * 100, 2)\n",
        "acc_random_forest"
      ],
      "metadata": {
        "id": "Tlvs3sCB6ELC"
      },
      "execution_count": null,
      "outputs": []
    },
    {
      "cell_type": "markdown",
      "source": [
        "전체 모델 비교"
      ],
      "metadata": {
        "id": "Liapsto86vE7"
      }
    },
    {
      "cell_type": "code",
      "source": [
        "models = pd.DataFrame({\n",
        "    'Model': ['Support Vector Machines', 'KNN', 'Logistic Regression', \n",
        "              'Random Forest', 'Decision Tree'],\n",
        "    'Score': [acc_svc, acc_knn, acc_log, \n",
        "              acc_random_forest, acc_decision_tree]})\n",
        "models.sort_values(by='Score', ascending=False)"
      ],
      "metadata": {
        "id": "GYDrmg176qOp"
      },
      "execution_count": null,
      "outputs": []
    },
    {
      "cell_type": "markdown",
      "source": [
        "참조: https://computer-science-student.tistory.com/113"
      ],
      "metadata": {
        "id": "GwiQsdWQXuQB"
      }
    }
  ]
}