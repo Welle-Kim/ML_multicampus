{
  "nbformat": 4,
  "nbformat_minor": 0,
  "metadata": {
    "colab": {
      "name": "SVC_Basics.ipynb",
      "provenance": [],
      "authorship_tag": "ABX9TyORuZOYtEnxcPvJXSILDGaG",
      "include_colab_link": true
    },
    "kernelspec": {
      "name": "python3",
      "display_name": "Python 3"
    },
    "language_info": {
      "name": "python"
    }
  },
  "cells": [
    {
      "cell_type": "markdown",
      "metadata": {
        "id": "view-in-github",
        "colab_type": "text"
      },
      "source": [
        "<a href=\"https://colab.research.google.com/github/Welle-Kim/ML_multicampus/blob/master/SVC_Basics.ipynb\" target=\"_parent\"><img src=\"https://colab.research.google.com/assets/colab-badge.svg\" alt=\"Open In Colab\"/></a>"
      ]
    },
    {
      "cell_type": "code",
      "execution_count": 1,
      "metadata": {
        "colab": {
          "base_uri": "https://localhost:8080/"
        },
        "id": "SC1znxKUvRLn",
        "outputId": "f3eecd41-02ba-4c3c-c0e2-5624eaad6128"
      },
      "outputs": [
        {
          "output_type": "execute_result",
          "data": {
            "text/plain": [
              "SVC(kernel='linear')"
            ]
          },
          "metadata": {},
          "execution_count": 1
        }
      ],
      "source": [
        "from sklearn.svm import SVC\n",
        "\n",
        "clf = SVC(kernel=\"linear\")\n",
        "train_points=[[1,2],[1,5],[2,2],[7,5],[9,4],[8,3]]\n",
        "labels=[1,1,1,0,0,0]\n",
        "\n",
        "clf.fit(train_points,labels)"
      ]
    },
    {
      "cell_type": "code",
      "source": [
        "clf.predict([[6,4]])"
      ],
      "metadata": {
        "colab": {
          "base_uri": "https://localhost:8080/"
        },
        "id": "gDiYTT7QwWff",
        "outputId": "8e191cbc-d04c-4053-ff26-d3ae281afdb4"
      },
      "execution_count": 3,
      "outputs": [
        {
          "output_type": "execute_result",
          "data": {
            "text/plain": [
              "array([0])"
            ]
          },
          "metadata": {},
          "execution_count": 3
        }
      ]
    },
    {
      "cell_type": "code",
      "source": [
        "clf.support_vectors_ # 서포트 백터값 반환(결정 경계를 정의 한 값)"
      ],
      "metadata": {
        "colab": {
          "base_uri": "https://localhost:8080/"
        },
        "id": "hPpQ-8f4wb49",
        "outputId": "2e9afd48-a03a-428f-eb5a-7797763bbf09"
      },
      "execution_count": 4,
      "outputs": [
        {
          "output_type": "execute_result",
          "data": {
            "text/plain": [
              "array([[7., 5.],\n",
              "       [1., 5.],\n",
              "       [2., 2.]])"
            ]
          },
          "metadata": {},
          "execution_count": 4
        }
      ]
    }
  ]
}