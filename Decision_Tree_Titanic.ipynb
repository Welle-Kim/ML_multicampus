{
  "nbformat": 4,
  "nbformat_minor": 0,
  "metadata": {
    "colab": {
      "name": "Decision Tree - Titanic ",
      "provenance": [],
      "authorship_tag": "ABX9TyOrZ4fnyDNaZJ4ZObpZ4PMH",
      "include_colab_link": true
    },
    "kernelspec": {
      "name": "python3",
      "display_name": "Python 3"
    },
    "language_info": {
      "name": "python"
    }
  },
  "cells": [
    {
      "cell_type": "markdown",
      "metadata": {
        "id": "view-in-github",
        "colab_type": "text"
      },
      "source": [
        "<a href=\"https://colab.research.google.com/github/Welle-Kim/ML_multicampus/blob/master/Decision_Tree_Titanic.ipynb\" target=\"_parent\"><img src=\"https://colab.research.google.com/assets/colab-badge.svg\" alt=\"Open In Colab\"/></a>"
      ]
    },
    {
      "cell_type": "code",
      "execution_count": null,
      "metadata": {
        "id": "g-n7lPH92JWV"
      },
      "outputs": [],
      "source": [
        "import pandas as pd\n",
        "import numpy as np\n",
        "\n",
        "train_f = pd.read_csv(\"train.csv\")\n",
        "test_f = pd.read_csv(\"test.csv\")\n",
        "test_a =pd.read_csv(\"gender_submission.csv\")"
      ]
    },
    {
      "cell_type": "code",
      "source": [
        "train_f.head(2)"
      ],
      "metadata": {
        "id": "Dgwp-ETg2yxZ",
        "colab": {
          "base_uri": "https://localhost:8080/",
          "height": 191
        },
        "outputId": "28a630d7-993b-4c16-bc59-e810b1f7b944"
      },
      "execution_count": 3,
      "outputs": [
        {
          "output_type": "execute_result",
          "data": {
            "text/plain": [
              "   PassengerId  Survived  Pclass  \\\n",
              "0            1         0       3   \n",
              "1            2         1       1   \n",
              "\n",
              "                                                Name     Sex   Age  SibSp  \\\n",
              "0                            Braund, Mr. Owen Harris    male  22.0      1   \n",
              "1  Cumings, Mrs. John Bradley (Florence Briggs Th...  female  38.0      1   \n",
              "\n",
              "   Parch     Ticket     Fare Cabin Embarked  \n",
              "0      0  A/5 21171   7.2500   NaN        S  \n",
              "1      0   PC 17599  71.2833   C85        C  "
            ],
            "text/html": [
              "\n",
              "  <div id=\"df-460ff3aa-c907-4cb0-af75-1cfa4203fee8\">\n",
              "    <div class=\"colab-df-container\">\n",
              "      <div>\n",
              "<style scoped>\n",
              "    .dataframe tbody tr th:only-of-type {\n",
              "        vertical-align: middle;\n",
              "    }\n",
              "\n",
              "    .dataframe tbody tr th {\n",
              "        vertical-align: top;\n",
              "    }\n",
              "\n",
              "    .dataframe thead th {\n",
              "        text-align: right;\n",
              "    }\n",
              "</style>\n",
              "<table border=\"1\" class=\"dataframe\">\n",
              "  <thead>\n",
              "    <tr style=\"text-align: right;\">\n",
              "      <th></th>\n",
              "      <th>PassengerId</th>\n",
              "      <th>Survived</th>\n",
              "      <th>Pclass</th>\n",
              "      <th>Name</th>\n",
              "      <th>Sex</th>\n",
              "      <th>Age</th>\n",
              "      <th>SibSp</th>\n",
              "      <th>Parch</th>\n",
              "      <th>Ticket</th>\n",
              "      <th>Fare</th>\n",
              "      <th>Cabin</th>\n",
              "      <th>Embarked</th>\n",
              "    </tr>\n",
              "  </thead>\n",
              "  <tbody>\n",
              "    <tr>\n",
              "      <th>0</th>\n",
              "      <td>1</td>\n",
              "      <td>0</td>\n",
              "      <td>3</td>\n",
              "      <td>Braund, Mr. Owen Harris</td>\n",
              "      <td>male</td>\n",
              "      <td>22.0</td>\n",
              "      <td>1</td>\n",
              "      <td>0</td>\n",
              "      <td>A/5 21171</td>\n",
              "      <td>7.2500</td>\n",
              "      <td>NaN</td>\n",
              "      <td>S</td>\n",
              "    </tr>\n",
              "    <tr>\n",
              "      <th>1</th>\n",
              "      <td>2</td>\n",
              "      <td>1</td>\n",
              "      <td>1</td>\n",
              "      <td>Cumings, Mrs. John Bradley (Florence Briggs Th...</td>\n",
              "      <td>female</td>\n",
              "      <td>38.0</td>\n",
              "      <td>1</td>\n",
              "      <td>0</td>\n",
              "      <td>PC 17599</td>\n",
              "      <td>71.2833</td>\n",
              "      <td>C85</td>\n",
              "      <td>C</td>\n",
              "    </tr>\n",
              "  </tbody>\n",
              "</table>\n",
              "</div>\n",
              "      <button class=\"colab-df-convert\" onclick=\"convertToInteractive('df-460ff3aa-c907-4cb0-af75-1cfa4203fee8')\"\n",
              "              title=\"Convert this dataframe to an interactive table.\"\n",
              "              style=\"display:none;\">\n",
              "        \n",
              "  <svg xmlns=\"http://www.w3.org/2000/svg\" height=\"24px\"viewBox=\"0 0 24 24\"\n",
              "       width=\"24px\">\n",
              "    <path d=\"M0 0h24v24H0V0z\" fill=\"none\"/>\n",
              "    <path d=\"M18.56 5.44l.94 2.06.94-2.06 2.06-.94-2.06-.94-.94-2.06-.94 2.06-2.06.94zm-11 1L8.5 8.5l.94-2.06 2.06-.94-2.06-.94L8.5 2.5l-.94 2.06-2.06.94zm10 10l.94 2.06.94-2.06 2.06-.94-2.06-.94-.94-2.06-.94 2.06-2.06.94z\"/><path d=\"M17.41 7.96l-1.37-1.37c-.4-.4-.92-.59-1.43-.59-.52 0-1.04.2-1.43.59L10.3 9.45l-7.72 7.72c-.78.78-.78 2.05 0 2.83L4 21.41c.39.39.9.59 1.41.59.51 0 1.02-.2 1.41-.59l7.78-7.78 2.81-2.81c.8-.78.8-2.07 0-2.86zM5.41 20L4 18.59l7.72-7.72 1.47 1.35L5.41 20z\"/>\n",
              "  </svg>\n",
              "      </button>\n",
              "      \n",
              "  <style>\n",
              "    .colab-df-container {\n",
              "      display:flex;\n",
              "      flex-wrap:wrap;\n",
              "      gap: 12px;\n",
              "    }\n",
              "\n",
              "    .colab-df-convert {\n",
              "      background-color: #E8F0FE;\n",
              "      border: none;\n",
              "      border-radius: 50%;\n",
              "      cursor: pointer;\n",
              "      display: none;\n",
              "      fill: #1967D2;\n",
              "      height: 32px;\n",
              "      padding: 0 0 0 0;\n",
              "      width: 32px;\n",
              "    }\n",
              "\n",
              "    .colab-df-convert:hover {\n",
              "      background-color: #E2EBFA;\n",
              "      box-shadow: 0px 1px 2px rgba(60, 64, 67, 0.3), 0px 1px 3px 1px rgba(60, 64, 67, 0.15);\n",
              "      fill: #174EA6;\n",
              "    }\n",
              "\n",
              "    [theme=dark] .colab-df-convert {\n",
              "      background-color: #3B4455;\n",
              "      fill: #D2E3FC;\n",
              "    }\n",
              "\n",
              "    [theme=dark] .colab-df-convert:hover {\n",
              "      background-color: #434B5C;\n",
              "      box-shadow: 0px 1px 3px 1px rgba(0, 0, 0, 0.15);\n",
              "      filter: drop-shadow(0px 1px 2px rgba(0, 0, 0, 0.3));\n",
              "      fill: #FFFFFF;\n",
              "    }\n",
              "  </style>\n",
              "\n",
              "      <script>\n",
              "        const buttonEl =\n",
              "          document.querySelector('#df-460ff3aa-c907-4cb0-af75-1cfa4203fee8 button.colab-df-convert');\n",
              "        buttonEl.style.display =\n",
              "          google.colab.kernel.accessAllowed ? 'block' : 'none';\n",
              "\n",
              "        async function convertToInteractive(key) {\n",
              "          const element = document.querySelector('#df-460ff3aa-c907-4cb0-af75-1cfa4203fee8');\n",
              "          const dataTable =\n",
              "            await google.colab.kernel.invokeFunction('convertToInteractive',\n",
              "                                                     [key], {});\n",
              "          if (!dataTable) return;\n",
              "\n",
              "          const docLinkHtml = 'Like what you see? Visit the ' +\n",
              "            '<a target=\"_blank\" href=https://colab.research.google.com/notebooks/data_table.ipynb>data table notebook</a>'\n",
              "            + ' to learn more about interactive tables.';\n",
              "          element.innerHTML = '';\n",
              "          dataTable['output_type'] = 'display_data';\n",
              "          await google.colab.output.renderOutput(dataTable, element);\n",
              "          const docLink = document.createElement('div');\n",
              "          docLink.innerHTML = docLinkHtml;\n",
              "          element.appendChild(docLink);\n",
              "        }\n",
              "      </script>\n",
              "    </div>\n",
              "  </div>\n",
              "  "
            ]
          },
          "metadata": {},
          "execution_count": 3
        }
      ]
    },
    {
      "cell_type": "code",
      "source": [
        "test_a.head()"
      ],
      "metadata": {
        "colab": {
          "base_uri": "https://localhost:8080/",
          "height": 206
        },
        "id": "17Twkbqo6GBX",
        "outputId": "f03e7206-da81-41bb-8ffc-6364641c8010"
      },
      "execution_count": 5,
      "outputs": [
        {
          "output_type": "execute_result",
          "data": {
            "text/plain": [
              "   PassengerId  Survived\n",
              "0          892         0\n",
              "1          893         1\n",
              "2          894         0\n",
              "3          895         0\n",
              "4          896         1"
            ],
            "text/html": [
              "\n",
              "  <div id=\"df-3ad1f839-f529-4b03-ac06-a20a0d6e3283\">\n",
              "    <div class=\"colab-df-container\">\n",
              "      <div>\n",
              "<style scoped>\n",
              "    .dataframe tbody tr th:only-of-type {\n",
              "        vertical-align: middle;\n",
              "    }\n",
              "\n",
              "    .dataframe tbody tr th {\n",
              "        vertical-align: top;\n",
              "    }\n",
              "\n",
              "    .dataframe thead th {\n",
              "        text-align: right;\n",
              "    }\n",
              "</style>\n",
              "<table border=\"1\" class=\"dataframe\">\n",
              "  <thead>\n",
              "    <tr style=\"text-align: right;\">\n",
              "      <th></th>\n",
              "      <th>PassengerId</th>\n",
              "      <th>Survived</th>\n",
              "    </tr>\n",
              "  </thead>\n",
              "  <tbody>\n",
              "    <tr>\n",
              "      <th>0</th>\n",
              "      <td>892</td>\n",
              "      <td>0</td>\n",
              "    </tr>\n",
              "    <tr>\n",
              "      <th>1</th>\n",
              "      <td>893</td>\n",
              "      <td>1</td>\n",
              "    </tr>\n",
              "    <tr>\n",
              "      <th>2</th>\n",
              "      <td>894</td>\n",
              "      <td>0</td>\n",
              "    </tr>\n",
              "    <tr>\n",
              "      <th>3</th>\n",
              "      <td>895</td>\n",
              "      <td>0</td>\n",
              "    </tr>\n",
              "    <tr>\n",
              "      <th>4</th>\n",
              "      <td>896</td>\n",
              "      <td>1</td>\n",
              "    </tr>\n",
              "  </tbody>\n",
              "</table>\n",
              "</div>\n",
              "      <button class=\"colab-df-convert\" onclick=\"convertToInteractive('df-3ad1f839-f529-4b03-ac06-a20a0d6e3283')\"\n",
              "              title=\"Convert this dataframe to an interactive table.\"\n",
              "              style=\"display:none;\">\n",
              "        \n",
              "  <svg xmlns=\"http://www.w3.org/2000/svg\" height=\"24px\"viewBox=\"0 0 24 24\"\n",
              "       width=\"24px\">\n",
              "    <path d=\"M0 0h24v24H0V0z\" fill=\"none\"/>\n",
              "    <path d=\"M18.56 5.44l.94 2.06.94-2.06 2.06-.94-2.06-.94-.94-2.06-.94 2.06-2.06.94zm-11 1L8.5 8.5l.94-2.06 2.06-.94-2.06-.94L8.5 2.5l-.94 2.06-2.06.94zm10 10l.94 2.06.94-2.06 2.06-.94-2.06-.94-.94-2.06-.94 2.06-2.06.94z\"/><path d=\"M17.41 7.96l-1.37-1.37c-.4-.4-.92-.59-1.43-.59-.52 0-1.04.2-1.43.59L10.3 9.45l-7.72 7.72c-.78.78-.78 2.05 0 2.83L4 21.41c.39.39.9.59 1.41.59.51 0 1.02-.2 1.41-.59l7.78-7.78 2.81-2.81c.8-.78.8-2.07 0-2.86zM5.41 20L4 18.59l7.72-7.72 1.47 1.35L5.41 20z\"/>\n",
              "  </svg>\n",
              "      </button>\n",
              "      \n",
              "  <style>\n",
              "    .colab-df-container {\n",
              "      display:flex;\n",
              "      flex-wrap:wrap;\n",
              "      gap: 12px;\n",
              "    }\n",
              "\n",
              "    .colab-df-convert {\n",
              "      background-color: #E8F0FE;\n",
              "      border: none;\n",
              "      border-radius: 50%;\n",
              "      cursor: pointer;\n",
              "      display: none;\n",
              "      fill: #1967D2;\n",
              "      height: 32px;\n",
              "      padding: 0 0 0 0;\n",
              "      width: 32px;\n",
              "    }\n",
              "\n",
              "    .colab-df-convert:hover {\n",
              "      background-color: #E2EBFA;\n",
              "      box-shadow: 0px 1px 2px rgba(60, 64, 67, 0.3), 0px 1px 3px 1px rgba(60, 64, 67, 0.15);\n",
              "      fill: #174EA6;\n",
              "    }\n",
              "\n",
              "    [theme=dark] .colab-df-convert {\n",
              "      background-color: #3B4455;\n",
              "      fill: #D2E3FC;\n",
              "    }\n",
              "\n",
              "    [theme=dark] .colab-df-convert:hover {\n",
              "      background-color: #434B5C;\n",
              "      box-shadow: 0px 1px 3px 1px rgba(0, 0, 0, 0.15);\n",
              "      filter: drop-shadow(0px 1px 2px rgba(0, 0, 0, 0.3));\n",
              "      fill: #FFFFFF;\n",
              "    }\n",
              "  </style>\n",
              "\n",
              "      <script>\n",
              "        const buttonEl =\n",
              "          document.querySelector('#df-3ad1f839-f529-4b03-ac06-a20a0d6e3283 button.colab-df-convert');\n",
              "        buttonEl.style.display =\n",
              "          google.colab.kernel.accessAllowed ? 'block' : 'none';\n",
              "\n",
              "        async function convertToInteractive(key) {\n",
              "          const element = document.querySelector('#df-3ad1f839-f529-4b03-ac06-a20a0d6e3283');\n",
              "          const dataTable =\n",
              "            await google.colab.kernel.invokeFunction('convertToInteractive',\n",
              "                                                     [key], {});\n",
              "          if (!dataTable) return;\n",
              "\n",
              "          const docLinkHtml = 'Like what you see? Visit the ' +\n",
              "            '<a target=\"_blank\" href=https://colab.research.google.com/notebooks/data_table.ipynb>data table notebook</a>'\n",
              "            + ' to learn more about interactive tables.';\n",
              "          element.innerHTML = '';\n",
              "          dataTable['output_type'] = 'display_data';\n",
              "          await google.colab.output.renderOutput(dataTable, element);\n",
              "          const docLink = document.createElement('div');\n",
              "          docLink.innerHTML = docLinkHtml;\n",
              "          element.appendChild(docLink);\n",
              "        }\n",
              "      </script>\n",
              "    </div>\n",
              "  </div>\n",
              "  "
            ]
          },
          "metadata": {},
          "execution_count": 5
        }
      ]
    },
    {
      "cell_type": "code",
      "source": [
        "test_td=pd.concat([test_f,test_a],axis=1)\n",
        "test_td.head(3)"
      ],
      "metadata": {
        "colab": {
          "base_uri": "https://localhost:8080/",
          "height": 222
        },
        "id": "p-FuT8BI6PJl",
        "outputId": "17dced3a-2c59-4379-f250-c24916f450db"
      },
      "execution_count": 9,
      "outputs": [
        {
          "output_type": "execute_result",
          "data": {
            "text/plain": [
              "   PassengerId  Pclass                              Name     Sex   Age  SibSp  \\\n",
              "0          892       3                  Kelly, Mr. James    male  34.5      0   \n",
              "1          893       3  Wilkes, Mrs. James (Ellen Needs)  female  47.0      1   \n",
              "2          894       2         Myles, Mr. Thomas Francis    male  62.0      0   \n",
              "\n",
              "   Parch  Ticket    Fare Cabin Embarked  PassengerId  Survived  \n",
              "0      0  330911  7.8292   NaN        Q          892         0  \n",
              "1      0  363272  7.0000   NaN        S          893         1  \n",
              "2      0  240276  9.6875   NaN        Q          894         0  "
            ],
            "text/html": [
              "\n",
              "  <div id=\"df-304efdca-ffc6-462d-9c95-771c92f6cc4d\">\n",
              "    <div class=\"colab-df-container\">\n",
              "      <div>\n",
              "<style scoped>\n",
              "    .dataframe tbody tr th:only-of-type {\n",
              "        vertical-align: middle;\n",
              "    }\n",
              "\n",
              "    .dataframe tbody tr th {\n",
              "        vertical-align: top;\n",
              "    }\n",
              "\n",
              "    .dataframe thead th {\n",
              "        text-align: right;\n",
              "    }\n",
              "</style>\n",
              "<table border=\"1\" class=\"dataframe\">\n",
              "  <thead>\n",
              "    <tr style=\"text-align: right;\">\n",
              "      <th></th>\n",
              "      <th>PassengerId</th>\n",
              "      <th>Pclass</th>\n",
              "      <th>Name</th>\n",
              "      <th>Sex</th>\n",
              "      <th>Age</th>\n",
              "      <th>SibSp</th>\n",
              "      <th>Parch</th>\n",
              "      <th>Ticket</th>\n",
              "      <th>Fare</th>\n",
              "      <th>Cabin</th>\n",
              "      <th>Embarked</th>\n",
              "      <th>PassengerId</th>\n",
              "      <th>Survived</th>\n",
              "    </tr>\n",
              "  </thead>\n",
              "  <tbody>\n",
              "    <tr>\n",
              "      <th>0</th>\n",
              "      <td>892</td>\n",
              "      <td>3</td>\n",
              "      <td>Kelly, Mr. James</td>\n",
              "      <td>male</td>\n",
              "      <td>34.5</td>\n",
              "      <td>0</td>\n",
              "      <td>0</td>\n",
              "      <td>330911</td>\n",
              "      <td>7.8292</td>\n",
              "      <td>NaN</td>\n",
              "      <td>Q</td>\n",
              "      <td>892</td>\n",
              "      <td>0</td>\n",
              "    </tr>\n",
              "    <tr>\n",
              "      <th>1</th>\n",
              "      <td>893</td>\n",
              "      <td>3</td>\n",
              "      <td>Wilkes, Mrs. James (Ellen Needs)</td>\n",
              "      <td>female</td>\n",
              "      <td>47.0</td>\n",
              "      <td>1</td>\n",
              "      <td>0</td>\n",
              "      <td>363272</td>\n",
              "      <td>7.0000</td>\n",
              "      <td>NaN</td>\n",
              "      <td>S</td>\n",
              "      <td>893</td>\n",
              "      <td>1</td>\n",
              "    </tr>\n",
              "    <tr>\n",
              "      <th>2</th>\n",
              "      <td>894</td>\n",
              "      <td>2</td>\n",
              "      <td>Myles, Mr. Thomas Francis</td>\n",
              "      <td>male</td>\n",
              "      <td>62.0</td>\n",
              "      <td>0</td>\n",
              "      <td>0</td>\n",
              "      <td>240276</td>\n",
              "      <td>9.6875</td>\n",
              "      <td>NaN</td>\n",
              "      <td>Q</td>\n",
              "      <td>894</td>\n",
              "      <td>0</td>\n",
              "    </tr>\n",
              "  </tbody>\n",
              "</table>\n",
              "</div>\n",
              "      <button class=\"colab-df-convert\" onclick=\"convertToInteractive('df-304efdca-ffc6-462d-9c95-771c92f6cc4d')\"\n",
              "              title=\"Convert this dataframe to an interactive table.\"\n",
              "              style=\"display:none;\">\n",
              "        \n",
              "  <svg xmlns=\"http://www.w3.org/2000/svg\" height=\"24px\"viewBox=\"0 0 24 24\"\n",
              "       width=\"24px\">\n",
              "    <path d=\"M0 0h24v24H0V0z\" fill=\"none\"/>\n",
              "    <path d=\"M18.56 5.44l.94 2.06.94-2.06 2.06-.94-2.06-.94-.94-2.06-.94 2.06-2.06.94zm-11 1L8.5 8.5l.94-2.06 2.06-.94-2.06-.94L8.5 2.5l-.94 2.06-2.06.94zm10 10l.94 2.06.94-2.06 2.06-.94-2.06-.94-.94-2.06-.94 2.06-2.06.94z\"/><path d=\"M17.41 7.96l-1.37-1.37c-.4-.4-.92-.59-1.43-.59-.52 0-1.04.2-1.43.59L10.3 9.45l-7.72 7.72c-.78.78-.78 2.05 0 2.83L4 21.41c.39.39.9.59 1.41.59.51 0 1.02-.2 1.41-.59l7.78-7.78 2.81-2.81c.8-.78.8-2.07 0-2.86zM5.41 20L4 18.59l7.72-7.72 1.47 1.35L5.41 20z\"/>\n",
              "  </svg>\n",
              "      </button>\n",
              "      \n",
              "  <style>\n",
              "    .colab-df-container {\n",
              "      display:flex;\n",
              "      flex-wrap:wrap;\n",
              "      gap: 12px;\n",
              "    }\n",
              "\n",
              "    .colab-df-convert {\n",
              "      background-color: #E8F0FE;\n",
              "      border: none;\n",
              "      border-radius: 50%;\n",
              "      cursor: pointer;\n",
              "      display: none;\n",
              "      fill: #1967D2;\n",
              "      height: 32px;\n",
              "      padding: 0 0 0 0;\n",
              "      width: 32px;\n",
              "    }\n",
              "\n",
              "    .colab-df-convert:hover {\n",
              "      background-color: #E2EBFA;\n",
              "      box-shadow: 0px 1px 2px rgba(60, 64, 67, 0.3), 0px 1px 3px 1px rgba(60, 64, 67, 0.15);\n",
              "      fill: #174EA6;\n",
              "    }\n",
              "\n",
              "    [theme=dark] .colab-df-convert {\n",
              "      background-color: #3B4455;\n",
              "      fill: #D2E3FC;\n",
              "    }\n",
              "\n",
              "    [theme=dark] .colab-df-convert:hover {\n",
              "      background-color: #434B5C;\n",
              "      box-shadow: 0px 1px 3px 1px rgba(0, 0, 0, 0.15);\n",
              "      filter: drop-shadow(0px 1px 2px rgba(0, 0, 0, 0.3));\n",
              "      fill: #FFFFFF;\n",
              "    }\n",
              "  </style>\n",
              "\n",
              "      <script>\n",
              "        const buttonEl =\n",
              "          document.querySelector('#df-304efdca-ffc6-462d-9c95-771c92f6cc4d button.colab-df-convert');\n",
              "        buttonEl.style.display =\n",
              "          google.colab.kernel.accessAllowed ? 'block' : 'none';\n",
              "\n",
              "        async function convertToInteractive(key) {\n",
              "          const element = document.querySelector('#df-304efdca-ffc6-462d-9c95-771c92f6cc4d');\n",
              "          const dataTable =\n",
              "            await google.colab.kernel.invokeFunction('convertToInteractive',\n",
              "                                                     [key], {});\n",
              "          if (!dataTable) return;\n",
              "\n",
              "          const docLinkHtml = 'Like what you see? Visit the ' +\n",
              "            '<a target=\"_blank\" href=https://colab.research.google.com/notebooks/data_table.ipynb>data table notebook</a>'\n",
              "            + ' to learn more about interactive tables.';\n",
              "          element.innerHTML = '';\n",
              "          dataTable['output_type'] = 'display_data';\n",
              "          await google.colab.output.renderOutput(dataTable, element);\n",
              "          const docLink = document.createElement('div');\n",
              "          docLink.innerHTML = docLinkHtml;\n",
              "          element.appendChild(docLink);\n",
              "        }\n",
              "      </script>\n",
              "    </div>\n",
              "  </div>\n",
              "  "
            ]
          },
          "metadata": {},
          "execution_count": 9
        }
      ]
    },
    {
      "cell_type": "code",
      "source": [
        "test_td.columns"
      ],
      "metadata": {
        "colab": {
          "base_uri": "https://localhost:8080/"
        },
        "id": "cP_98umt6eKH",
        "outputId": "e0061ed6-3221-4902-dc01-1e0001ee115e"
      },
      "execution_count": 12,
      "outputs": [
        {
          "output_type": "execute_result",
          "data": {
            "text/plain": [
              "Index(['PassengerId', 'Pclass', 'Name', 'Sex', 'Age', 'SibSp', 'Parch',\n",
              "       'Ticket', 'Fare', 'Cabin', 'Embarked', 'PassengerId', 'Survived'],\n",
              "      dtype='object')"
            ]
          },
          "metadata": {},
          "execution_count": 12
        }
      ]
    },
    {
      "cell_type": "code",
      "source": [
        "train_f.head(3)"
      ],
      "metadata": {
        "colab": {
          "base_uri": "https://localhost:8080/",
          "height": 222
        },
        "id": "tfyeT7SK78fq",
        "outputId": "077ec9f1-1aa7-4e8d-feb9-0996bf0ed3ef"
      },
      "execution_count": 14,
      "outputs": [
        {
          "output_type": "execute_result",
          "data": {
            "text/plain": [
              "   PassengerId  Survived  Pclass  \\\n",
              "0            1         0       3   \n",
              "1            2         1       1   \n",
              "2            3         1       3   \n",
              "\n",
              "                                                Name     Sex   Age  SibSp  \\\n",
              "0                            Braund, Mr. Owen Harris    male  22.0      1   \n",
              "1  Cumings, Mrs. John Bradley (Florence Briggs Th...  female  38.0      1   \n",
              "2                             Heikkinen, Miss. Laina  female  26.0      0   \n",
              "\n",
              "   Parch            Ticket     Fare Cabin Embarked  \n",
              "0      0         A/5 21171   7.2500   NaN        S  \n",
              "1      0          PC 17599  71.2833   C85        C  \n",
              "2      0  STON/O2. 3101282   7.9250   NaN        S  "
            ],
            "text/html": [
              "\n",
              "  <div id=\"df-0c11d3db-6ff5-42d7-b300-652e650d022d\">\n",
              "    <div class=\"colab-df-container\">\n",
              "      <div>\n",
              "<style scoped>\n",
              "    .dataframe tbody tr th:only-of-type {\n",
              "        vertical-align: middle;\n",
              "    }\n",
              "\n",
              "    .dataframe tbody tr th {\n",
              "        vertical-align: top;\n",
              "    }\n",
              "\n",
              "    .dataframe thead th {\n",
              "        text-align: right;\n",
              "    }\n",
              "</style>\n",
              "<table border=\"1\" class=\"dataframe\">\n",
              "  <thead>\n",
              "    <tr style=\"text-align: right;\">\n",
              "      <th></th>\n",
              "      <th>PassengerId</th>\n",
              "      <th>Survived</th>\n",
              "      <th>Pclass</th>\n",
              "      <th>Name</th>\n",
              "      <th>Sex</th>\n",
              "      <th>Age</th>\n",
              "      <th>SibSp</th>\n",
              "      <th>Parch</th>\n",
              "      <th>Ticket</th>\n",
              "      <th>Fare</th>\n",
              "      <th>Cabin</th>\n",
              "      <th>Embarked</th>\n",
              "    </tr>\n",
              "  </thead>\n",
              "  <tbody>\n",
              "    <tr>\n",
              "      <th>0</th>\n",
              "      <td>1</td>\n",
              "      <td>0</td>\n",
              "      <td>3</td>\n",
              "      <td>Braund, Mr. Owen Harris</td>\n",
              "      <td>male</td>\n",
              "      <td>22.0</td>\n",
              "      <td>1</td>\n",
              "      <td>0</td>\n",
              "      <td>A/5 21171</td>\n",
              "      <td>7.2500</td>\n",
              "      <td>NaN</td>\n",
              "      <td>S</td>\n",
              "    </tr>\n",
              "    <tr>\n",
              "      <th>1</th>\n",
              "      <td>2</td>\n",
              "      <td>1</td>\n",
              "      <td>1</td>\n",
              "      <td>Cumings, Mrs. John Bradley (Florence Briggs Th...</td>\n",
              "      <td>female</td>\n",
              "      <td>38.0</td>\n",
              "      <td>1</td>\n",
              "      <td>0</td>\n",
              "      <td>PC 17599</td>\n",
              "      <td>71.2833</td>\n",
              "      <td>C85</td>\n",
              "      <td>C</td>\n",
              "    </tr>\n",
              "    <tr>\n",
              "      <th>2</th>\n",
              "      <td>3</td>\n",
              "      <td>1</td>\n",
              "      <td>3</td>\n",
              "      <td>Heikkinen, Miss. Laina</td>\n",
              "      <td>female</td>\n",
              "      <td>26.0</td>\n",
              "      <td>0</td>\n",
              "      <td>0</td>\n",
              "      <td>STON/O2. 3101282</td>\n",
              "      <td>7.9250</td>\n",
              "      <td>NaN</td>\n",
              "      <td>S</td>\n",
              "    </tr>\n",
              "  </tbody>\n",
              "</table>\n",
              "</div>\n",
              "      <button class=\"colab-df-convert\" onclick=\"convertToInteractive('df-0c11d3db-6ff5-42d7-b300-652e650d022d')\"\n",
              "              title=\"Convert this dataframe to an interactive table.\"\n",
              "              style=\"display:none;\">\n",
              "        \n",
              "  <svg xmlns=\"http://www.w3.org/2000/svg\" height=\"24px\"viewBox=\"0 0 24 24\"\n",
              "       width=\"24px\">\n",
              "    <path d=\"M0 0h24v24H0V0z\" fill=\"none\"/>\n",
              "    <path d=\"M18.56 5.44l.94 2.06.94-2.06 2.06-.94-2.06-.94-.94-2.06-.94 2.06-2.06.94zm-11 1L8.5 8.5l.94-2.06 2.06-.94-2.06-.94L8.5 2.5l-.94 2.06-2.06.94zm10 10l.94 2.06.94-2.06 2.06-.94-2.06-.94-.94-2.06-.94 2.06-2.06.94z\"/><path d=\"M17.41 7.96l-1.37-1.37c-.4-.4-.92-.59-1.43-.59-.52 0-1.04.2-1.43.59L10.3 9.45l-7.72 7.72c-.78.78-.78 2.05 0 2.83L4 21.41c.39.39.9.59 1.41.59.51 0 1.02-.2 1.41-.59l7.78-7.78 2.81-2.81c.8-.78.8-2.07 0-2.86zM5.41 20L4 18.59l7.72-7.72 1.47 1.35L5.41 20z\"/>\n",
              "  </svg>\n",
              "      </button>\n",
              "      \n",
              "  <style>\n",
              "    .colab-df-container {\n",
              "      display:flex;\n",
              "      flex-wrap:wrap;\n",
              "      gap: 12px;\n",
              "    }\n",
              "\n",
              "    .colab-df-convert {\n",
              "      background-color: #E8F0FE;\n",
              "      border: none;\n",
              "      border-radius: 50%;\n",
              "      cursor: pointer;\n",
              "      display: none;\n",
              "      fill: #1967D2;\n",
              "      height: 32px;\n",
              "      padding: 0 0 0 0;\n",
              "      width: 32px;\n",
              "    }\n",
              "\n",
              "    .colab-df-convert:hover {\n",
              "      background-color: #E2EBFA;\n",
              "      box-shadow: 0px 1px 2px rgba(60, 64, 67, 0.3), 0px 1px 3px 1px rgba(60, 64, 67, 0.15);\n",
              "      fill: #174EA6;\n",
              "    }\n",
              "\n",
              "    [theme=dark] .colab-df-convert {\n",
              "      background-color: #3B4455;\n",
              "      fill: #D2E3FC;\n",
              "    }\n",
              "\n",
              "    [theme=dark] .colab-df-convert:hover {\n",
              "      background-color: #434B5C;\n",
              "      box-shadow: 0px 1px 3px 1px rgba(0, 0, 0, 0.15);\n",
              "      filter: drop-shadow(0px 1px 2px rgba(0, 0, 0, 0.3));\n",
              "      fill: #FFFFFF;\n",
              "    }\n",
              "  </style>\n",
              "\n",
              "      <script>\n",
              "        const buttonEl =\n",
              "          document.querySelector('#df-0c11d3db-6ff5-42d7-b300-652e650d022d button.colab-df-convert');\n",
              "        buttonEl.style.display =\n",
              "          google.colab.kernel.accessAllowed ? 'block' : 'none';\n",
              "\n",
              "        async function convertToInteractive(key) {\n",
              "          const element = document.querySelector('#df-0c11d3db-6ff5-42d7-b300-652e650d022d');\n",
              "          const dataTable =\n",
              "            await google.colab.kernel.invokeFunction('convertToInteractive',\n",
              "                                                     [key], {});\n",
              "          if (!dataTable) return;\n",
              "\n",
              "          const docLinkHtml = 'Like what you see? Visit the ' +\n",
              "            '<a target=\"_blank\" href=https://colab.research.google.com/notebooks/data_table.ipynb>data table notebook</a>'\n",
              "            + ' to learn more about interactive tables.';\n",
              "          element.innerHTML = '';\n",
              "          dataTable['output_type'] = 'display_data';\n",
              "          await google.colab.output.renderOutput(dataTable, element);\n",
              "          const docLink = document.createElement('div');\n",
              "          docLink.innerHTML = docLinkHtml;\n",
              "          element.appendChild(docLink);\n",
              "        }\n",
              "      </script>\n",
              "    </div>\n",
              "  </div>\n",
              "  "
            ]
          },
          "metadata": {},
          "execution_count": 14
        }
      ]
    },
    {
      "cell_type": "code",
      "source": [
        "test_td= test_td.iloc[:,[0,12,1,2,3,4,5,6,7,8,9,10]]\n",
        "titanic_df=pd.concat([train_f,test_td],axis=0)\n",
        "titanic_df.head()"
      ],
      "metadata": {
        "colab": {
          "base_uri": "https://localhost:8080/",
          "height": 302
        },
        "id": "g76vrp3T6uVy",
        "outputId": "6dca9e3f-3232-4ab3-f0cc-f62ff902a6bd"
      },
      "execution_count": 15,
      "outputs": [
        {
          "output_type": "execute_result",
          "data": {
            "text/plain": [
              "   PassengerId  Survived  Pclass  \\\n",
              "0            1         0       3   \n",
              "1            2         1       1   \n",
              "2            3         1       3   \n",
              "3            4         1       1   \n",
              "4            5         0       3   \n",
              "\n",
              "                                                Name     Sex   Age  SibSp  \\\n",
              "0                            Braund, Mr. Owen Harris    male  22.0      1   \n",
              "1  Cumings, Mrs. John Bradley (Florence Briggs Th...  female  38.0      1   \n",
              "2                             Heikkinen, Miss. Laina  female  26.0      0   \n",
              "3       Futrelle, Mrs. Jacques Heath (Lily May Peel)  female  35.0      1   \n",
              "4                           Allen, Mr. William Henry    male  35.0      0   \n",
              "\n",
              "   Parch            Ticket     Fare Cabin Embarked  \n",
              "0      0         A/5 21171   7.2500   NaN        S  \n",
              "1      0          PC 17599  71.2833   C85        C  \n",
              "2      0  STON/O2. 3101282   7.9250   NaN        S  \n",
              "3      0            113803  53.1000  C123        S  \n",
              "4      0            373450   8.0500   NaN        S  "
            ],
            "text/html": [
              "\n",
              "  <div id=\"df-c65d59f3-9381-42e6-9703-5221dac52e6a\">\n",
              "    <div class=\"colab-df-container\">\n",
              "      <div>\n",
              "<style scoped>\n",
              "    .dataframe tbody tr th:only-of-type {\n",
              "        vertical-align: middle;\n",
              "    }\n",
              "\n",
              "    .dataframe tbody tr th {\n",
              "        vertical-align: top;\n",
              "    }\n",
              "\n",
              "    .dataframe thead th {\n",
              "        text-align: right;\n",
              "    }\n",
              "</style>\n",
              "<table border=\"1\" class=\"dataframe\">\n",
              "  <thead>\n",
              "    <tr style=\"text-align: right;\">\n",
              "      <th></th>\n",
              "      <th>PassengerId</th>\n",
              "      <th>Survived</th>\n",
              "      <th>Pclass</th>\n",
              "      <th>Name</th>\n",
              "      <th>Sex</th>\n",
              "      <th>Age</th>\n",
              "      <th>SibSp</th>\n",
              "      <th>Parch</th>\n",
              "      <th>Ticket</th>\n",
              "      <th>Fare</th>\n",
              "      <th>Cabin</th>\n",
              "      <th>Embarked</th>\n",
              "    </tr>\n",
              "  </thead>\n",
              "  <tbody>\n",
              "    <tr>\n",
              "      <th>0</th>\n",
              "      <td>1</td>\n",
              "      <td>0</td>\n",
              "      <td>3</td>\n",
              "      <td>Braund, Mr. Owen Harris</td>\n",
              "      <td>male</td>\n",
              "      <td>22.0</td>\n",
              "      <td>1</td>\n",
              "      <td>0</td>\n",
              "      <td>A/5 21171</td>\n",
              "      <td>7.2500</td>\n",
              "      <td>NaN</td>\n",
              "      <td>S</td>\n",
              "    </tr>\n",
              "    <tr>\n",
              "      <th>1</th>\n",
              "      <td>2</td>\n",
              "      <td>1</td>\n",
              "      <td>1</td>\n",
              "      <td>Cumings, Mrs. John Bradley (Florence Briggs Th...</td>\n",
              "      <td>female</td>\n",
              "      <td>38.0</td>\n",
              "      <td>1</td>\n",
              "      <td>0</td>\n",
              "      <td>PC 17599</td>\n",
              "      <td>71.2833</td>\n",
              "      <td>C85</td>\n",
              "      <td>C</td>\n",
              "    </tr>\n",
              "    <tr>\n",
              "      <th>2</th>\n",
              "      <td>3</td>\n",
              "      <td>1</td>\n",
              "      <td>3</td>\n",
              "      <td>Heikkinen, Miss. Laina</td>\n",
              "      <td>female</td>\n",
              "      <td>26.0</td>\n",
              "      <td>0</td>\n",
              "      <td>0</td>\n",
              "      <td>STON/O2. 3101282</td>\n",
              "      <td>7.9250</td>\n",
              "      <td>NaN</td>\n",
              "      <td>S</td>\n",
              "    </tr>\n",
              "    <tr>\n",
              "      <th>3</th>\n",
              "      <td>4</td>\n",
              "      <td>1</td>\n",
              "      <td>1</td>\n",
              "      <td>Futrelle, Mrs. Jacques Heath (Lily May Peel)</td>\n",
              "      <td>female</td>\n",
              "      <td>35.0</td>\n",
              "      <td>1</td>\n",
              "      <td>0</td>\n",
              "      <td>113803</td>\n",
              "      <td>53.1000</td>\n",
              "      <td>C123</td>\n",
              "      <td>S</td>\n",
              "    </tr>\n",
              "    <tr>\n",
              "      <th>4</th>\n",
              "      <td>5</td>\n",
              "      <td>0</td>\n",
              "      <td>3</td>\n",
              "      <td>Allen, Mr. William Henry</td>\n",
              "      <td>male</td>\n",
              "      <td>35.0</td>\n",
              "      <td>0</td>\n",
              "      <td>0</td>\n",
              "      <td>373450</td>\n",
              "      <td>8.0500</td>\n",
              "      <td>NaN</td>\n",
              "      <td>S</td>\n",
              "    </tr>\n",
              "  </tbody>\n",
              "</table>\n",
              "</div>\n",
              "      <button class=\"colab-df-convert\" onclick=\"convertToInteractive('df-c65d59f3-9381-42e6-9703-5221dac52e6a')\"\n",
              "              title=\"Convert this dataframe to an interactive table.\"\n",
              "              style=\"display:none;\">\n",
              "        \n",
              "  <svg xmlns=\"http://www.w3.org/2000/svg\" height=\"24px\"viewBox=\"0 0 24 24\"\n",
              "       width=\"24px\">\n",
              "    <path d=\"M0 0h24v24H0V0z\" fill=\"none\"/>\n",
              "    <path d=\"M18.56 5.44l.94 2.06.94-2.06 2.06-.94-2.06-.94-.94-2.06-.94 2.06-2.06.94zm-11 1L8.5 8.5l.94-2.06 2.06-.94-2.06-.94L8.5 2.5l-.94 2.06-2.06.94zm10 10l.94 2.06.94-2.06 2.06-.94-2.06-.94-.94-2.06-.94 2.06-2.06.94z\"/><path d=\"M17.41 7.96l-1.37-1.37c-.4-.4-.92-.59-1.43-.59-.52 0-1.04.2-1.43.59L10.3 9.45l-7.72 7.72c-.78.78-.78 2.05 0 2.83L4 21.41c.39.39.9.59 1.41.59.51 0 1.02-.2 1.41-.59l7.78-7.78 2.81-2.81c.8-.78.8-2.07 0-2.86zM5.41 20L4 18.59l7.72-7.72 1.47 1.35L5.41 20z\"/>\n",
              "  </svg>\n",
              "      </button>\n",
              "      \n",
              "  <style>\n",
              "    .colab-df-container {\n",
              "      display:flex;\n",
              "      flex-wrap:wrap;\n",
              "      gap: 12px;\n",
              "    }\n",
              "\n",
              "    .colab-df-convert {\n",
              "      background-color: #E8F0FE;\n",
              "      border: none;\n",
              "      border-radius: 50%;\n",
              "      cursor: pointer;\n",
              "      display: none;\n",
              "      fill: #1967D2;\n",
              "      height: 32px;\n",
              "      padding: 0 0 0 0;\n",
              "      width: 32px;\n",
              "    }\n",
              "\n",
              "    .colab-df-convert:hover {\n",
              "      background-color: #E2EBFA;\n",
              "      box-shadow: 0px 1px 2px rgba(60, 64, 67, 0.3), 0px 1px 3px 1px rgba(60, 64, 67, 0.15);\n",
              "      fill: #174EA6;\n",
              "    }\n",
              "\n",
              "    [theme=dark] .colab-df-convert {\n",
              "      background-color: #3B4455;\n",
              "      fill: #D2E3FC;\n",
              "    }\n",
              "\n",
              "    [theme=dark] .colab-df-convert:hover {\n",
              "      background-color: #434B5C;\n",
              "      box-shadow: 0px 1px 3px 1px rgba(0, 0, 0, 0.15);\n",
              "      filter: drop-shadow(0px 1px 2px rgba(0, 0, 0, 0.3));\n",
              "      fill: #FFFFFF;\n",
              "    }\n",
              "  </style>\n",
              "\n",
              "      <script>\n",
              "        const buttonEl =\n",
              "          document.querySelector('#df-c65d59f3-9381-42e6-9703-5221dac52e6a button.colab-df-convert');\n",
              "        buttonEl.style.display =\n",
              "          google.colab.kernel.accessAllowed ? 'block' : 'none';\n",
              "\n",
              "        async function convertToInteractive(key) {\n",
              "          const element = document.querySelector('#df-c65d59f3-9381-42e6-9703-5221dac52e6a');\n",
              "          const dataTable =\n",
              "            await google.colab.kernel.invokeFunction('convertToInteractive',\n",
              "                                                     [key], {});\n",
              "          if (!dataTable) return;\n",
              "\n",
              "          const docLinkHtml = 'Like what you see? Visit the ' +\n",
              "            '<a target=\"_blank\" href=https://colab.research.google.com/notebooks/data_table.ipynb>data table notebook</a>'\n",
              "            + ' to learn more about interactive tables.';\n",
              "          element.innerHTML = '';\n",
              "          dataTable['output_type'] = 'display_data';\n",
              "          await google.colab.output.renderOutput(dataTable, element);\n",
              "          const docLink = document.createElement('div');\n",
              "          docLink.innerHTML = docLinkHtml;\n",
              "          element.appendChild(docLink);\n",
              "        }\n",
              "      </script>\n",
              "    </div>\n",
              "  </div>\n",
              "  "
            ]
          },
          "metadata": {},
          "execution_count": 15
        }
      ]
    },
    {
      "cell_type": "code",
      "source": [
        "titanic_df.to_csv(\"titanic_df.csv\")"
      ],
      "metadata": {
        "id": "REWUPeXn8ew2"
      },
      "execution_count": 18,
      "outputs": []
    },
    {
      "cell_type": "code",
      "source": [
        "titanic_df=pd.read_csv(\"titanic_df.csv\")"
      ],
      "metadata": {
        "id": "RtQ4Lbso8okw"
      },
      "execution_count": 19,
      "outputs": []
    },
    {
      "cell_type": "code",
      "source": [
        "titanic_df.info()"
      ],
      "metadata": {
        "colab": {
          "base_uri": "https://localhost:8080/"
        },
        "id": "zNdnIIy480MD",
        "outputId": "ca470413-0576-46d0-96e8-4668c3b3ea15"
      },
      "execution_count": 20,
      "outputs": [
        {
          "output_type": "stream",
          "name": "stdout",
          "text": [
            "<class 'pandas.core.frame.DataFrame'>\n",
            "RangeIndex: 1309 entries, 0 to 1308\n",
            "Data columns (total 13 columns):\n",
            " #   Column       Non-Null Count  Dtype  \n",
            "---  ------       --------------  -----  \n",
            " 0   Unnamed: 0   1309 non-null   int64  \n",
            " 1   PassengerId  1309 non-null   int64  \n",
            " 2   Survived     1309 non-null   int64  \n",
            " 3   Pclass       1309 non-null   int64  \n",
            " 4   Name         1309 non-null   object \n",
            " 5   Sex          1309 non-null   object \n",
            " 6   Age          1046 non-null   float64\n",
            " 7   SibSp        1309 non-null   int64  \n",
            " 8   Parch        1309 non-null   int64  \n",
            " 9   Ticket       1309 non-null   object \n",
            " 10  Fare         1308 non-null   float64\n",
            " 11  Cabin        295 non-null    object \n",
            " 12  Embarked     1307 non-null   object \n",
            "dtypes: float64(2), int64(6), object(5)\n",
            "memory usage: 133.1+ KB\n"
          ]
        }
      ]
    },
    {
      "cell_type": "code",
      "source": [
        "titanic_df.isnull().sum()"
      ],
      "metadata": {
        "colab": {
          "base_uri": "https://localhost:8080/"
        },
        "id": "AnNVSA-i83BV",
        "outputId": "c5368639-2e1a-4370-d246-aab44e3d0a84"
      },
      "execution_count": 22,
      "outputs": [
        {
          "output_type": "execute_result",
          "data": {
            "text/plain": [
              "Unnamed: 0        0\n",
              "PassengerId       0\n",
              "Survived          0\n",
              "Pclass            0\n",
              "Name              0\n",
              "Sex               0\n",
              "Age             263\n",
              "SibSp             0\n",
              "Parch             0\n",
              "Ticket            0\n",
              "Fare              1\n",
              "Cabin          1014\n",
              "Embarked          2\n",
              "dtype: int64"
            ]
          },
          "metadata": {},
          "execution_count": 22
        }
      ]
    },
    {
      "cell_type": "code",
      "source": [
        "del titanic_df[\"Unnamed: 0\"]\n",
        "del titanic_df[\"Ticket\"]\n",
        "del titanic_df[\"Cabin\"]\n",
        "del titanic_df[\"Name\"]\n",
        "del titanic_df[\"Embarked\"]"
      ],
      "metadata": {
        "id": "9MLAvWIG8_qD"
      },
      "execution_count": 23,
      "outputs": []
    },
    {
      "cell_type": "code",
      "source": [
        "titanic_df.loc[titanic_df[\"Sex\"]==\"female\",[\"Sex\"]]='0'\n",
        "titanic_df.loc[titanic_df[\"Sex\"]==\"male\",[\"Sex\"]]='1'\n",
        "titanic_df= titanic_df.dropna()"
      ],
      "metadata": {
        "id": "klpNulGp9nYC"
      },
      "execution_count": 62,
      "outputs": []
    },
    {
      "cell_type": "code",
      "source": [
        "titanic_df.head()"
      ],
      "metadata": {
        "colab": {
          "base_uri": "https://localhost:8080/",
          "height": 206
        },
        "id": "hG3YLsuS-SJN",
        "outputId": "be6e8453-3a79-47ec-fdcc-93fabab323c1"
      },
      "execution_count": 63,
      "outputs": [
        {
          "output_type": "execute_result",
          "data": {
            "text/plain": [
              "   PassengerId  Survived  Pclass Sex   Age  SibSp  Parch     Fare\n",
              "0            1         0       3   1  22.0      1      0   7.2500\n",
              "1            2         1       1   0  38.0      1      0  71.2833\n",
              "2            3         1       3   0  26.0      0      0   7.9250\n",
              "3            4         1       1   0  35.0      1      0  53.1000\n",
              "4            5         0       3   1  35.0      0      0   8.0500"
            ],
            "text/html": [
              "\n",
              "  <div id=\"df-567750c9-1560-48ad-9b87-b6dfe44caa10\">\n",
              "    <div class=\"colab-df-container\">\n",
              "      <div>\n",
              "<style scoped>\n",
              "    .dataframe tbody tr th:only-of-type {\n",
              "        vertical-align: middle;\n",
              "    }\n",
              "\n",
              "    .dataframe tbody tr th {\n",
              "        vertical-align: top;\n",
              "    }\n",
              "\n",
              "    .dataframe thead th {\n",
              "        text-align: right;\n",
              "    }\n",
              "</style>\n",
              "<table border=\"1\" class=\"dataframe\">\n",
              "  <thead>\n",
              "    <tr style=\"text-align: right;\">\n",
              "      <th></th>\n",
              "      <th>PassengerId</th>\n",
              "      <th>Survived</th>\n",
              "      <th>Pclass</th>\n",
              "      <th>Sex</th>\n",
              "      <th>Age</th>\n",
              "      <th>SibSp</th>\n",
              "      <th>Parch</th>\n",
              "      <th>Fare</th>\n",
              "    </tr>\n",
              "  </thead>\n",
              "  <tbody>\n",
              "    <tr>\n",
              "      <th>0</th>\n",
              "      <td>1</td>\n",
              "      <td>0</td>\n",
              "      <td>3</td>\n",
              "      <td>1</td>\n",
              "      <td>22.0</td>\n",
              "      <td>1</td>\n",
              "      <td>0</td>\n",
              "      <td>7.2500</td>\n",
              "    </tr>\n",
              "    <tr>\n",
              "      <th>1</th>\n",
              "      <td>2</td>\n",
              "      <td>1</td>\n",
              "      <td>1</td>\n",
              "      <td>0</td>\n",
              "      <td>38.0</td>\n",
              "      <td>1</td>\n",
              "      <td>0</td>\n",
              "      <td>71.2833</td>\n",
              "    </tr>\n",
              "    <tr>\n",
              "      <th>2</th>\n",
              "      <td>3</td>\n",
              "      <td>1</td>\n",
              "      <td>3</td>\n",
              "      <td>0</td>\n",
              "      <td>26.0</td>\n",
              "      <td>0</td>\n",
              "      <td>0</td>\n",
              "      <td>7.9250</td>\n",
              "    </tr>\n",
              "    <tr>\n",
              "      <th>3</th>\n",
              "      <td>4</td>\n",
              "      <td>1</td>\n",
              "      <td>1</td>\n",
              "      <td>0</td>\n",
              "      <td>35.0</td>\n",
              "      <td>1</td>\n",
              "      <td>0</td>\n",
              "      <td>53.1000</td>\n",
              "    </tr>\n",
              "    <tr>\n",
              "      <th>4</th>\n",
              "      <td>5</td>\n",
              "      <td>0</td>\n",
              "      <td>3</td>\n",
              "      <td>1</td>\n",
              "      <td>35.0</td>\n",
              "      <td>0</td>\n",
              "      <td>0</td>\n",
              "      <td>8.0500</td>\n",
              "    </tr>\n",
              "  </tbody>\n",
              "</table>\n",
              "</div>\n",
              "      <button class=\"colab-df-convert\" onclick=\"convertToInteractive('df-567750c9-1560-48ad-9b87-b6dfe44caa10')\"\n",
              "              title=\"Convert this dataframe to an interactive table.\"\n",
              "              style=\"display:none;\">\n",
              "        \n",
              "  <svg xmlns=\"http://www.w3.org/2000/svg\" height=\"24px\"viewBox=\"0 0 24 24\"\n",
              "       width=\"24px\">\n",
              "    <path d=\"M0 0h24v24H0V0z\" fill=\"none\"/>\n",
              "    <path d=\"M18.56 5.44l.94 2.06.94-2.06 2.06-.94-2.06-.94-.94-2.06-.94 2.06-2.06.94zm-11 1L8.5 8.5l.94-2.06 2.06-.94-2.06-.94L8.5 2.5l-.94 2.06-2.06.94zm10 10l.94 2.06.94-2.06 2.06-.94-2.06-.94-.94-2.06-.94 2.06-2.06.94z\"/><path d=\"M17.41 7.96l-1.37-1.37c-.4-.4-.92-.59-1.43-.59-.52 0-1.04.2-1.43.59L10.3 9.45l-7.72 7.72c-.78.78-.78 2.05 0 2.83L4 21.41c.39.39.9.59 1.41.59.51 0 1.02-.2 1.41-.59l7.78-7.78 2.81-2.81c.8-.78.8-2.07 0-2.86zM5.41 20L4 18.59l7.72-7.72 1.47 1.35L5.41 20z\"/>\n",
              "  </svg>\n",
              "      </button>\n",
              "      \n",
              "  <style>\n",
              "    .colab-df-container {\n",
              "      display:flex;\n",
              "      flex-wrap:wrap;\n",
              "      gap: 12px;\n",
              "    }\n",
              "\n",
              "    .colab-df-convert {\n",
              "      background-color: #E8F0FE;\n",
              "      border: none;\n",
              "      border-radius: 50%;\n",
              "      cursor: pointer;\n",
              "      display: none;\n",
              "      fill: #1967D2;\n",
              "      height: 32px;\n",
              "      padding: 0 0 0 0;\n",
              "      width: 32px;\n",
              "    }\n",
              "\n",
              "    .colab-df-convert:hover {\n",
              "      background-color: #E2EBFA;\n",
              "      box-shadow: 0px 1px 2px rgba(60, 64, 67, 0.3), 0px 1px 3px 1px rgba(60, 64, 67, 0.15);\n",
              "      fill: #174EA6;\n",
              "    }\n",
              "\n",
              "    [theme=dark] .colab-df-convert {\n",
              "      background-color: #3B4455;\n",
              "      fill: #D2E3FC;\n",
              "    }\n",
              "\n",
              "    [theme=dark] .colab-df-convert:hover {\n",
              "      background-color: #434B5C;\n",
              "      box-shadow: 0px 1px 3px 1px rgba(0, 0, 0, 0.15);\n",
              "      filter: drop-shadow(0px 1px 2px rgba(0, 0, 0, 0.3));\n",
              "      fill: #FFFFFF;\n",
              "    }\n",
              "  </style>\n",
              "\n",
              "      <script>\n",
              "        const buttonEl =\n",
              "          document.querySelector('#df-567750c9-1560-48ad-9b87-b6dfe44caa10 button.colab-df-convert');\n",
              "        buttonEl.style.display =\n",
              "          google.colab.kernel.accessAllowed ? 'block' : 'none';\n",
              "\n",
              "        async function convertToInteractive(key) {\n",
              "          const element = document.querySelector('#df-567750c9-1560-48ad-9b87-b6dfe44caa10');\n",
              "          const dataTable =\n",
              "            await google.colab.kernel.invokeFunction('convertToInteractive',\n",
              "                                                     [key], {});\n",
              "          if (!dataTable) return;\n",
              "\n",
              "          const docLinkHtml = 'Like what you see? Visit the ' +\n",
              "            '<a target=\"_blank\" href=https://colab.research.google.com/notebooks/data_table.ipynb>data table notebook</a>'\n",
              "            + ' to learn more about interactive tables.';\n",
              "          element.innerHTML = '';\n",
              "          dataTable['output_type'] = 'display_data';\n",
              "          await google.colab.output.renderOutput(dataTable, element);\n",
              "          const docLink = document.createElement('div');\n",
              "          docLink.innerHTML = docLinkHtml;\n",
              "          element.appendChild(docLink);\n",
              "        }\n",
              "      </script>\n",
              "    </div>\n",
              "  </div>\n",
              "  "
            ]
          },
          "metadata": {},
          "execution_count": 63
        }
      ]
    },
    {
      "cell_type": "code",
      "source": [
        "titanic_df.describe()"
      ],
      "metadata": {
        "colab": {
          "base_uri": "https://localhost:8080/",
          "height": 300
        },
        "id": "7306u_2E-brh",
        "outputId": "6dc4f045-0850-456d-cc42-a39e989f7452"
      },
      "execution_count": 49,
      "outputs": [
        {
          "output_type": "execute_result",
          "data": {
            "text/plain": [
              "       PassengerId     Survived       Pclass          Age        SibSp  \\\n",
              "count  1045.000000  1045.000000  1045.000000  1045.000000  1045.000000   \n",
              "mean    654.990431     0.399043     2.206699    29.851837     0.503349   \n",
              "std     377.650551     0.489936     0.841542    14.389194     0.912471   \n",
              "min       1.000000     0.000000     1.000000     0.170000     0.000000   \n",
              "25%     326.000000     0.000000     1.000000    21.000000     0.000000   \n",
              "50%     662.000000     0.000000     2.000000    28.000000     0.000000   \n",
              "75%     973.000000     1.000000     3.000000    39.000000     1.000000   \n",
              "max    1307.000000     1.000000     3.000000    80.000000     8.000000   \n",
              "\n",
              "             Parch         Fare  \n",
              "count  1045.000000  1045.000000  \n",
              "mean      0.421053    36.686080  \n",
              "std       0.840052    55.732533  \n",
              "min       0.000000     0.000000  \n",
              "25%       0.000000     8.050000  \n",
              "50%       0.000000    15.750000  \n",
              "75%       1.000000    35.500000  \n",
              "max       6.000000   512.329200  "
            ],
            "text/html": [
              "\n",
              "  <div id=\"df-f5a7011b-6511-4837-a42b-041437db4c82\">\n",
              "    <div class=\"colab-df-container\">\n",
              "      <div>\n",
              "<style scoped>\n",
              "    .dataframe tbody tr th:only-of-type {\n",
              "        vertical-align: middle;\n",
              "    }\n",
              "\n",
              "    .dataframe tbody tr th {\n",
              "        vertical-align: top;\n",
              "    }\n",
              "\n",
              "    .dataframe thead th {\n",
              "        text-align: right;\n",
              "    }\n",
              "</style>\n",
              "<table border=\"1\" class=\"dataframe\">\n",
              "  <thead>\n",
              "    <tr style=\"text-align: right;\">\n",
              "      <th></th>\n",
              "      <th>PassengerId</th>\n",
              "      <th>Survived</th>\n",
              "      <th>Pclass</th>\n",
              "      <th>Age</th>\n",
              "      <th>SibSp</th>\n",
              "      <th>Parch</th>\n",
              "      <th>Fare</th>\n",
              "    </tr>\n",
              "  </thead>\n",
              "  <tbody>\n",
              "    <tr>\n",
              "      <th>count</th>\n",
              "      <td>1045.000000</td>\n",
              "      <td>1045.000000</td>\n",
              "      <td>1045.000000</td>\n",
              "      <td>1045.000000</td>\n",
              "      <td>1045.000000</td>\n",
              "      <td>1045.000000</td>\n",
              "      <td>1045.000000</td>\n",
              "    </tr>\n",
              "    <tr>\n",
              "      <th>mean</th>\n",
              "      <td>654.990431</td>\n",
              "      <td>0.399043</td>\n",
              "      <td>2.206699</td>\n",
              "      <td>29.851837</td>\n",
              "      <td>0.503349</td>\n",
              "      <td>0.421053</td>\n",
              "      <td>36.686080</td>\n",
              "    </tr>\n",
              "    <tr>\n",
              "      <th>std</th>\n",
              "      <td>377.650551</td>\n",
              "      <td>0.489936</td>\n",
              "      <td>0.841542</td>\n",
              "      <td>14.389194</td>\n",
              "      <td>0.912471</td>\n",
              "      <td>0.840052</td>\n",
              "      <td>55.732533</td>\n",
              "    </tr>\n",
              "    <tr>\n",
              "      <th>min</th>\n",
              "      <td>1.000000</td>\n",
              "      <td>0.000000</td>\n",
              "      <td>1.000000</td>\n",
              "      <td>0.170000</td>\n",
              "      <td>0.000000</td>\n",
              "      <td>0.000000</td>\n",
              "      <td>0.000000</td>\n",
              "    </tr>\n",
              "    <tr>\n",
              "      <th>25%</th>\n",
              "      <td>326.000000</td>\n",
              "      <td>0.000000</td>\n",
              "      <td>1.000000</td>\n",
              "      <td>21.000000</td>\n",
              "      <td>0.000000</td>\n",
              "      <td>0.000000</td>\n",
              "      <td>8.050000</td>\n",
              "    </tr>\n",
              "    <tr>\n",
              "      <th>50%</th>\n",
              "      <td>662.000000</td>\n",
              "      <td>0.000000</td>\n",
              "      <td>2.000000</td>\n",
              "      <td>28.000000</td>\n",
              "      <td>0.000000</td>\n",
              "      <td>0.000000</td>\n",
              "      <td>15.750000</td>\n",
              "    </tr>\n",
              "    <tr>\n",
              "      <th>75%</th>\n",
              "      <td>973.000000</td>\n",
              "      <td>1.000000</td>\n",
              "      <td>3.000000</td>\n",
              "      <td>39.000000</td>\n",
              "      <td>1.000000</td>\n",
              "      <td>1.000000</td>\n",
              "      <td>35.500000</td>\n",
              "    </tr>\n",
              "    <tr>\n",
              "      <th>max</th>\n",
              "      <td>1307.000000</td>\n",
              "      <td>1.000000</td>\n",
              "      <td>3.000000</td>\n",
              "      <td>80.000000</td>\n",
              "      <td>8.000000</td>\n",
              "      <td>6.000000</td>\n",
              "      <td>512.329200</td>\n",
              "    </tr>\n",
              "  </tbody>\n",
              "</table>\n",
              "</div>\n",
              "      <button class=\"colab-df-convert\" onclick=\"convertToInteractive('df-f5a7011b-6511-4837-a42b-041437db4c82')\"\n",
              "              title=\"Convert this dataframe to an interactive table.\"\n",
              "              style=\"display:none;\">\n",
              "        \n",
              "  <svg xmlns=\"http://www.w3.org/2000/svg\" height=\"24px\"viewBox=\"0 0 24 24\"\n",
              "       width=\"24px\">\n",
              "    <path d=\"M0 0h24v24H0V0z\" fill=\"none\"/>\n",
              "    <path d=\"M18.56 5.44l.94 2.06.94-2.06 2.06-.94-2.06-.94-.94-2.06-.94 2.06-2.06.94zm-11 1L8.5 8.5l.94-2.06 2.06-.94-2.06-.94L8.5 2.5l-.94 2.06-2.06.94zm10 10l.94 2.06.94-2.06 2.06-.94-2.06-.94-.94-2.06-.94 2.06-2.06.94z\"/><path d=\"M17.41 7.96l-1.37-1.37c-.4-.4-.92-.59-1.43-.59-.52 0-1.04.2-1.43.59L10.3 9.45l-7.72 7.72c-.78.78-.78 2.05 0 2.83L4 21.41c.39.39.9.59 1.41.59.51 0 1.02-.2 1.41-.59l7.78-7.78 2.81-2.81c.8-.78.8-2.07 0-2.86zM5.41 20L4 18.59l7.72-7.72 1.47 1.35L5.41 20z\"/>\n",
              "  </svg>\n",
              "      </button>\n",
              "      \n",
              "  <style>\n",
              "    .colab-df-container {\n",
              "      display:flex;\n",
              "      flex-wrap:wrap;\n",
              "      gap: 12px;\n",
              "    }\n",
              "\n",
              "    .colab-df-convert {\n",
              "      background-color: #E8F0FE;\n",
              "      border: none;\n",
              "      border-radius: 50%;\n",
              "      cursor: pointer;\n",
              "      display: none;\n",
              "      fill: #1967D2;\n",
              "      height: 32px;\n",
              "      padding: 0 0 0 0;\n",
              "      width: 32px;\n",
              "    }\n",
              "\n",
              "    .colab-df-convert:hover {\n",
              "      background-color: #E2EBFA;\n",
              "      box-shadow: 0px 1px 2px rgba(60, 64, 67, 0.3), 0px 1px 3px 1px rgba(60, 64, 67, 0.15);\n",
              "      fill: #174EA6;\n",
              "    }\n",
              "\n",
              "    [theme=dark] .colab-df-convert {\n",
              "      background-color: #3B4455;\n",
              "      fill: #D2E3FC;\n",
              "    }\n",
              "\n",
              "    [theme=dark] .colab-df-convert:hover {\n",
              "      background-color: #434B5C;\n",
              "      box-shadow: 0px 1px 3px 1px rgba(0, 0, 0, 0.15);\n",
              "      filter: drop-shadow(0px 1px 2px rgba(0, 0, 0, 0.3));\n",
              "      fill: #FFFFFF;\n",
              "    }\n",
              "  </style>\n",
              "\n",
              "      <script>\n",
              "        const buttonEl =\n",
              "          document.querySelector('#df-f5a7011b-6511-4837-a42b-041437db4c82 button.colab-df-convert');\n",
              "        buttonEl.style.display =\n",
              "          google.colab.kernel.accessAllowed ? 'block' : 'none';\n",
              "\n",
              "        async function convertToInteractive(key) {\n",
              "          const element = document.querySelector('#df-f5a7011b-6511-4837-a42b-041437db4c82');\n",
              "          const dataTable =\n",
              "            await google.colab.kernel.invokeFunction('convertToInteractive',\n",
              "                                                     [key], {});\n",
              "          if (!dataTable) return;\n",
              "\n",
              "          const docLinkHtml = 'Like what you see? Visit the ' +\n",
              "            '<a target=\"_blank\" href=https://colab.research.google.com/notebooks/data_table.ipynb>data table notebook</a>'\n",
              "            + ' to learn more about interactive tables.';\n",
              "          element.innerHTML = '';\n",
              "          dataTable['output_type'] = 'display_data';\n",
              "          await google.colab.output.renderOutput(dataTable, element);\n",
              "          const docLink = document.createElement('div');\n",
              "          docLink.innerHTML = docLinkHtml;\n",
              "          element.appendChild(docLink);\n",
              "        }\n",
              "      </script>\n",
              "    </div>\n",
              "  </div>\n",
              "  "
            ]
          },
          "metadata": {},
          "execution_count": 49
        }
      ]
    },
    {
      "cell_type": "code",
      "source": [
        "import matplotlib.pyplot as plt\n",
        "import seaborn as sns\n",
        "%matplotlib inline\n",
        "\n",
        "f,ax=plt.subplots(1,2,figsize=(12,6))\n",
        "\n",
        "titanic_df['Survived'].value_counts().plot.pie(explode=[0,0.1],autopct='%1.2f%%',ax=ax[0])\n",
        "ax[0].set_title('Survived')\n",
        "ax[0].set_ylabel('')\n",
        "\n",
        "sns.countplot('Survived',data=titanic_df,ax=ax[1])\n",
        "ax[1].set_title('Survived')\n",
        "plt.show()"
      ],
      "metadata": {
        "colab": {
          "base_uri": "https://localhost:8080/",
          "height": 460
        },
        "id": "uJCpgSUq-en3",
        "outputId": "2cad9df0-4657-47f1-cef7-409d31d7caed"
      },
      "execution_count": 50,
      "outputs": [
        {
          "output_type": "stream",
          "name": "stderr",
          "text": [
            "/usr/local/lib/python3.7/dist-packages/seaborn/_decorators.py:43: FutureWarning: Pass the following variable as a keyword arg: x. From version 0.12, the only valid positional argument will be `data`, and passing other arguments without an explicit keyword will result in an error or misinterpretation.\n",
            "  FutureWarning\n"
          ]
        },
        {
          "output_type": "display_data",
          "data": {
            "text/plain": [
              "<Figure size 864x432 with 2 Axes>"
            ],
            "image/png": "[encoded data removed]"
          },
          "metadata": {
            "needs_background": "light"
          }
        }
      ]
    },
    {
      "cell_type": "code",
      "source": [
        "ax = titanic_df[\"Age\"].hist(bins=15, color='teal', alpha=0.8)\n",
        "ax.set(xlabel='Age', ylabel='Count')\n",
        "plt.show()"
      ],
      "metadata": {
        "colab": {
          "base_uri": "https://localhost:8080/",
          "height": 279
        },
        "id": "HUUqDph5GKEF",
        "outputId": "615d77cc-d224-4642-8d3d-88fbdce1a1bf"
      },
      "execution_count": 61,
      "outputs": [
        {
          "output_type": "display_data",
          "data": {
            "text/plain": [
              "<Figure size 432x288 with 1 Axes>"
            ],
            "image/png": "[encoded data removed]"
          },
          "metadata": {
            "needs_background": "light"
          }
        }
      ]
    },
    {
      "cell_type": "code",
      "source": [
        "titanic_df.groupby('Pclass').mean()"
      ],
      "metadata": {
        "colab": {
          "base_uri": "https://localhost:8080/",
          "height": 175
        },
        "id": "xK6RoH7bGXW3",
        "outputId": "3f7de7c2-627e-4ae3-c253-d867c2f642d5"
      },
      "execution_count": 57,
      "outputs": [
        {
          "output_type": "execute_result",
          "data": {
            "text/plain": [
              "        PassengerId  Survived        Age     SibSp     Parch       Fare\n",
              "Pclass                                                                 \n",
              "1        684.161972  0.598592  39.159930  0.475352  0.411972  92.229358\n",
              "2        674.245211  0.429119  29.506705  0.417625  0.390805  21.855044\n",
              "3        628.370000  0.270000  24.745000  0.564000  0.442000  12.879299"
            ],
            "text/html": [
              "\n",
              "  <div id=\"df-d689b031-33c0-4363-a90a-65bc7b0a05a3\">\n",
              "    <div class=\"colab-df-container\">\n",
              "      <div>\n",
              "<style scoped>\n",
              "    .dataframe tbody tr th:only-of-type {\n",
              "        vertical-align: middle;\n",
              "    }\n",
              "\n",
              "    .dataframe tbody tr th {\n",
              "        vertical-align: top;\n",
              "    }\n",
              "\n",
              "    .dataframe thead th {\n",
              "        text-align: right;\n",
              "    }\n",
              "</style>\n",
              "<table border=\"1\" class=\"dataframe\">\n",
              "  <thead>\n",
              "    <tr style=\"text-align: right;\">\n",
              "      <th></th>\n",
              "      <th>PassengerId</th>\n",
              "      <th>Survived</th>\n",
              "      <th>Age</th>\n",
              "      <th>SibSp</th>\n",
              "      <th>Parch</th>\n",
              "      <th>Fare</th>\n",
              "    </tr>\n",
              "    <tr>\n",
              "      <th>Pclass</th>\n",
              "      <th></th>\n",
              "      <th></th>\n",
              "      <th></th>\n",
              "      <th></th>\n",
              "      <th></th>\n",
              "      <th></th>\n",
              "    </tr>\n",
              "  </thead>\n",
              "  <tbody>\n",
              "    <tr>\n",
              "      <th>1</th>\n",
              "      <td>684.161972</td>\n",
              "      <td>0.598592</td>\n",
              "      <td>39.159930</td>\n",
              "      <td>0.475352</td>\n",
              "      <td>0.411972</td>\n",
              "      <td>92.229358</td>\n",
              "    </tr>\n",
              "    <tr>\n",
              "      <th>2</th>\n",
              "      <td>674.245211</td>\n",
              "      <td>0.429119</td>\n",
              "      <td>29.506705</td>\n",
              "      <td>0.417625</td>\n",
              "      <td>0.390805</td>\n",
              "      <td>21.855044</td>\n",
              "    </tr>\n",
              "    <tr>\n",
              "      <th>3</th>\n",
              "      <td>628.370000</td>\n",
              "      <td>0.270000</td>\n",
              "      <td>24.745000</td>\n",
              "      <td>0.564000</td>\n",
              "      <td>0.442000</td>\n",
              "      <td>12.879299</td>\n",
              "    </tr>\n",
              "  </tbody>\n",
              "</table>\n",
              "</div>\n",
              "      <button class=\"colab-df-convert\" onclick=\"convertToInteractive('df-d689b031-33c0-4363-a90a-65bc7b0a05a3')\"\n",
              "              title=\"Convert this dataframe to an interactive table.\"\n",
              "              style=\"display:none;\">\n",
              "        \n",
              "  <svg xmlns=\"http://www.w3.org/2000/svg\" height=\"24px\"viewBox=\"0 0 24 24\"\n",
              "       width=\"24px\">\n",
              "    <path d=\"M0 0h24v24H0V0z\" fill=\"none\"/>\n",
              "    <path d=\"M18.56 5.44l.94 2.06.94-2.06 2.06-.94-2.06-.94-.94-2.06-.94 2.06-2.06.94zm-11 1L8.5 8.5l.94-2.06 2.06-.94-2.06-.94L8.5 2.5l-.94 2.06-2.06.94zm10 10l.94 2.06.94-2.06 2.06-.94-2.06-.94-.94-2.06-.94 2.06-2.06.94z\"/><path d=\"M17.41 7.96l-1.37-1.37c-.4-.4-.92-.59-1.43-.59-.52 0-1.04.2-1.43.59L10.3 9.45l-7.72 7.72c-.78.78-.78 2.05 0 2.83L4 21.41c.39.39.9.59 1.41.59.51 0 1.02-.2 1.41-.59l7.78-7.78 2.81-2.81c.8-.78.8-2.07 0-2.86zM5.41 20L4 18.59l7.72-7.72 1.47 1.35L5.41 20z\"/>\n",
              "  </svg>\n",
              "      </button>\n",
              "      \n",
              "  <style>\n",
              "    .colab-df-container {\n",
              "      display:flex;\n",
              "      flex-wrap:wrap;\n",
              "      gap: 12px;\n",
              "    }\n",
              "\n",
              "    .colab-df-convert {\n",
              "      background-color: #E8F0FE;\n",
              "      border: none;\n",
              "      border-radius: 50%;\n",
              "      cursor: pointer;\n",
              "      display: none;\n",
              "      fill: #1967D2;\n",
              "      height: 32px;\n",
              "      padding: 0 0 0 0;\n",
              "      width: 32px;\n",
              "    }\n",
              "\n",
              "    .colab-df-convert:hover {\n",
              "      background-color: #E2EBFA;\n",
              "      box-shadow: 0px 1px 2px rgba(60, 64, 67, 0.3), 0px 1px 3px 1px rgba(60, 64, 67, 0.15);\n",
              "      fill: #174EA6;\n",
              "    }\n",
              "\n",
              "    [theme=dark] .colab-df-convert {\n",
              "      background-color: #3B4455;\n",
              "      fill: #D2E3FC;\n",
              "    }\n",
              "\n",
              "    [theme=dark] .colab-df-convert:hover {\n",
              "      background-color: #434B5C;\n",
              "      box-shadow: 0px 1px 3px 1px rgba(0, 0, 0, 0.15);\n",
              "      filter: drop-shadow(0px 1px 2px rgba(0, 0, 0, 0.3));\n",
              "      fill: #FFFFFF;\n",
              "    }\n",
              "  </style>\n",
              "\n",
              "      <script>\n",
              "        const buttonEl =\n",
              "          document.querySelector('#df-d689b031-33c0-4363-a90a-65bc7b0a05a3 button.colab-df-convert');\n",
              "        buttonEl.style.display =\n",
              "          google.colab.kernel.accessAllowed ? 'block' : 'none';\n",
              "\n",
              "        async function convertToInteractive(key) {\n",
              "          const element = document.querySelector('#df-d689b031-33c0-4363-a90a-65bc7b0a05a3');\n",
              "          const dataTable =\n",
              "            await google.colab.kernel.invokeFunction('convertToInteractive',\n",
              "                                                     [key], {});\n",
              "          if (!dataTable) return;\n",
              "\n",
              "          const docLinkHtml = 'Like what you see? Visit the ' +\n",
              "            '<a target=\"_blank\" href=https://colab.research.google.com/notebooks/data_table.ipynb>data table notebook</a>'\n",
              "            + ' to learn more about interactive tables.';\n",
              "          element.innerHTML = '';\n",
              "          dataTable['output_type'] = 'display_data';\n",
              "          await google.colab.output.renderOutput(dataTable, element);\n",
              "          const docLink = document.createElement('div');\n",
              "          docLink.innerHTML = docLinkHtml;\n",
              "          element.appendChild(docLink);\n",
              "        }\n",
              "      </script>\n",
              "    </div>\n",
              "  </div>\n",
              "  "
            ]
          },
          "metadata": {},
          "execution_count": 57
        }
      ]
    },
    {
      "cell_type": "code",
      "source": [
        "plt.figure(figsize=(10, 10))\n",
        "sns.heatmap(titanic_df.corr(), linewidths=0.01, square=True,\n",
        "            annot=True, cmap=plt.cm.viridis, linecolor=\"white\")\n",
        "plt.title('Correlation between features')\n",
        "plt.show()"
      ],
      "metadata": {
        "colab": {
          "base_uri": "https://localhost:8080/",
          "height": 578
        },
        "id": "ksEpbz6JGhdD",
        "outputId": "b066fa3c-6c03-49cb-b626-f4b1675b89ca"
      },
      "execution_count": 59,
      "outputs": [
        {
          "output_type": "display_data",
          "data": {
            "text/plain": [
              "<Figure size 720x720 with 2 Axes>"
            ],
            "image/png": "[encoded data removed]"
          },
          "metadata": {
            "needs_background": "light"
          }
        }
      ]
    },
    {
      "cell_type": "code",
      "source": [
        "f,ax=plt.subplots(1,2,figsize=(12,4))\n",
        "sns.barplot('Pclass', 'Survived', data=titanic_df, ax=ax[0])\n",
        "ax[0].set_title('Survived by class')\n",
        "\n",
        "sns.countplot('Sex',hue='Survived',data=titanic_df, ax=ax[1])\n",
        "ax[1].set_title('Sex:Survived vs Dead')\n",
        "plt.show()"
      ],
      "metadata": {
        "colab": {
          "base_uri": "https://localhost:8080/",
          "height": 387
        },
        "id": "VM8DTj04CPZB",
        "outputId": "aebf1958-6198-41f7-801a-df372c9c1b98"
      },
      "execution_count": 46,
      "outputs": [
        {
          "output_type": "stream",
          "name": "stderr",
          "text": [
            "/usr/local/lib/python3.7/dist-packages/seaborn/_decorators.py:43: FutureWarning: Pass the following variables as keyword args: x, y. From version 0.12, the only valid positional argument will be `data`, and passing other arguments without an explicit keyword will result in an error or misinterpretation.\n",
            "  FutureWarning\n",
            "/usr/local/lib/python3.7/dist-packages/seaborn/_decorators.py:43: FutureWarning: Pass the following variable as a keyword arg: x. From version 0.12, the only valid positional argument will be `data`, and passing other arguments without an explicit keyword will result in an error or misinterpretation.\n",
            "  FutureWarning\n"
          ]
        },
        {
          "output_type": "display_data",
          "data": {
            "text/plain": [
              "<Figure size 864x288 with 2 Axes>"
            ],
            "image/png": "[encoded data removed]"
          },
          "metadata": {
            "needs_background": "light"
          }
        }
      ]
    },
    {
      "cell_type": "code",
      "source": [
        "plt.subplot(133)\n",
        "sns.barplot('Sex', 'Survived', data=titanic_df)\n",
        "plt.subplots_adjust(top=1, bottom=0.1, left=0.10, right=1, hspace=0.5, wspace=0.5)\n",
        "plt.show()"
      ],
      "metadata": {
        "colab": {
          "base_uri": "https://localhost:8080/",
          "height": 377
        },
        "id": "P57JUKDyD_wD",
        "outputId": "5d780331-44a8-4fda-bbd3-77ea0acff337"
      },
      "execution_count": 66,
      "outputs": [
        {
          "output_type": "stream",
          "name": "stderr",
          "text": [
            "/usr/local/lib/python3.7/dist-packages/seaborn/_decorators.py:43: FutureWarning: Pass the following variables as keyword args: x, y. From version 0.12, the only valid positional argument will be `data`, and passing other arguments without an explicit keyword will result in an error or misinterpretation.\n",
            "  FutureWarning\n"
          ]
        },
        {
          "output_type": "display_data",
          "data": {
            "text/plain": [
              "<Figure size 432x288 with 1 Axes>"
            ],
            "image/png": "[encoded data removed]"
          },
          "metadata": {
            "needs_background": "light"
          }
        }
      ]
    },
    {
      "cell_type": "code",
      "source": [
        "f,ax = plt.subplots(figsize=(12,6))\n",
        "g = sns.kdeplot(titanic_df[\"Age\"][(titanic_df[\"Survived\"] == 0) & (titanic_df[\"Age\"].notnull())], \n",
        "                ax = ax, color=\"Blue\", shade = True)\n",
        "g = sns.kdeplot(titanic_df[\"Age\"][(titanic_df[\"Survived\"] == 1) & (titanic_df[\"Age\"].notnull())], \n",
        "                ax =g, color=\"Green\", shade= True)\n",
        "g.set_xlabel(\"Age\")\n",
        "g.set_ylabel(\"Frequency\")\n",
        "g = g.legend([\"Not Survived\",\"Survived\"])"
      ],
      "metadata": {
        "colab": {
          "base_uri": "https://localhost:8080/",
          "height": 388
        },
        "id": "OddvzJsVHREN",
        "outputId": "12032bd1-58b2-4be1-a1c9-8649887c3ddc"
      },
      "execution_count": 68,
      "outputs": [
        {
          "output_type": "display_data",
          "data": {
            "text/plain": [
              "<Figure size 864x432 with 1 Axes>"
            ],
            "image/png": "[encoded data removed]"
          },
          "metadata": {
            "needs_background": "light"
          }
        }
      ]
    },
    {
      "cell_type": "code",
      "source": [
        "from sklearn.model_selection import train_test_split\n",
        "train, test = train_test_split(titanic_df, test_size=0.2)\n",
        "\n",
        "import pickle\n",
        "with open('fifa_train.pkl', 'wb') as train_df:\n",
        "    pickle.dump(train, train_df)\n",
        "with open('fifa_test.pkl', 'wb') as test_df:\n",
        "    pickle.dump(test, test_df)\n",
        "with open('fifa_train.pkl', 'rb') as train_df:\n",
        "    train = pickle.load(train_df)\n",
        "    \n",
        "with open('fifa_test.pkl', 'rb') as test_df:\n",
        "    test = pickle.load(test_df)"
      ],
      "metadata": {
        "id": "ahyB7uNHJ0WK"
      },
      "execution_count": 70,
      "outputs": []
    },
    {
      "cell_type": "code",
      "source": [
        "from sklearn import tree\n",
        "from sklearn import preprocessing\n",
        "\n",
        "X_train = train[['Pclass', 'Sex', 'Age', 'SibSp', 'Parch', 'Fare']]\n",
        "y_train = train[['Survived']]\n",
        "\n",
        "X_test = test[['Pclass', 'Sex', 'Age', 'SibSp', 'Parch', 'Fare']]\n",
        "y_test = test[['Survived']]\n",
        "\n",
        "X_train.shape, X_test.shape #열이 같아야함 (행은 데이터의 개수이기에 상관없음)"
      ],
      "metadata": {
        "colab": {
          "base_uri": "https://localhost:8080/"
        },
        "id": "eaL-flIGKzC8",
        "outputId": "acdd235e-e4a2-4d21-f7c4-dd4a1b5b152a"
      },
      "execution_count": 72,
      "outputs": [
        {
          "output_type": "execute_result",
          "data": {
            "text/plain": [
              "((836, 6), (209, 6))"
            ]
          },
          "metadata": {},
          "execution_count": 72
        }
      ]
    },
    {
      "cell_type": "code",
      "source": [
        "#Researching for a best Parameter\n",
        "\n",
        "depth = list(range(1,100,5))\n",
        "sample_split = list(range(2,100,5))\n",
        "sample_leaf = list(range(2,100,5))\n",
        "random_state = list(range(1,100,5))\n",
        "clf_list = []\n",
        "for i in depth:\n",
        "    for j in sample_split:\n",
        "        for k in sample_leaf:\n",
        "            for l in random_state:\n",
        "                clf_list.append(tree.DecisionTreeClassifier(max_depth=i, \n",
        "                                                            min_samples_split=j,\n",
        "                                                            min_samples_leaf=k, \n",
        "                                                            random_state=l).fit(X_train, y_train))"
      ],
      "metadata": {
        "id": "CBYAzNWOujHS"
      },
      "execution_count": 73,
      "outputs": []
    },
    {
      "cell_type": "code",
      "source": [
        "clf_list[-5:]"
      ],
      "metadata": {
        "colab": {
          "base_uri": "https://localhost:8080/"
        },
        "id": "lJ0QmFAVxyZU",
        "outputId": "9a3283a3-76b2-41d1-eab0-f0936c54fc37"
      },
      "execution_count": 74,
      "outputs": [
        {
          "output_type": "execute_result",
          "data": {
            "text/plain": [
              "[DecisionTreeClassifier(max_depth=96, min_samples_leaf=97, min_samples_split=97,\n",
              "                        random_state=76),\n",
              " DecisionTreeClassifier(max_depth=96, min_samples_leaf=97, min_samples_split=97,\n",
              "                        random_state=81),\n",
              " DecisionTreeClassifier(max_depth=96, min_samples_leaf=97, min_samples_split=97,\n",
              "                        random_state=86),\n",
              " DecisionTreeClassifier(max_depth=96, min_samples_leaf=97, min_samples_split=97,\n",
              "                        random_state=91),\n",
              " DecisionTreeClassifier(max_depth=96, min_samples_leaf=97, min_samples_split=97,\n",
              "                        random_state=96)]"
            ]
          },
          "metadata": {},
          "execution_count": 74
        }
      ]
    },
    {
      "cell_type": "code",
      "source": [
        "from sklearn.metrics import accuracy_score\n",
        "\n",
        "accuracy_score_list = {}\n",
        "\n",
        "for clf in clf_list:\n",
        "    y_pred = clf.predict(X_test)\n",
        "    accuracy_score_list[clf] = accuracy_score(y_test, y_pred)"
      ],
      "metadata": {
        "id": "t42UrxXwxy1P"
      },
      "execution_count": 75,
      "outputs": []
    },
    {
      "cell_type": "code",
      "source": [
        "len(accuracy_score_list)"
      ],
      "metadata": {
        "colab": {
          "base_uri": "https://localhost:8080/"
        },
        "id": "n0IInalGx1sC",
        "outputId": "c7eefce6-a93f-455e-ac7b-1163fe45dab4"
      },
      "execution_count": 76,
      "outputs": [
        {
          "output_type": "execute_result",
          "data": {
            "text/plain": [
              "160000"
            ]
          },
          "metadata": {},
          "execution_count": 76
        }
      ]
    },
    {
      "cell_type": "code",
      "source": [
        "max_accuracy = max(list(accuracy_score_list.values()))\n",
        "best_clf = list(accuracy_score_list.keys())[list(accuracy_score_list.values()).index(max_accuracy)]\n",
        "best_clf"
      ],
      "metadata": {
        "colab": {
          "base_uri": "https://localhost:8080/"
        },
        "id": "oaaHsdDFzGHf",
        "outputId": "06107632-db0c-4095-8880-54a085e2b5ca"
      },
      "execution_count": 77,
      "outputs": [
        {
          "output_type": "execute_result",
          "data": {
            "text/plain": [
              "DecisionTreeClassifier(max_depth=6, min_samples_leaf=2, random_state=6)"
            ]
          },
          "metadata": {},
          "execution_count": 77
        }
      ]
    },
    {
      "cell_type": "code",
      "source": [
        "### model test\n",
        "pred = best_clf.predict(X_test)\n",
        "print(\"accuracy : \" + str( accuracy_score(y_test, pred)) ) #모델 예측 정확도 확인"
      ],
      "metadata": {
        "colab": {
          "base_uri": "https://localhost:8080/"
        },
        "id": "kGJGjZNAzGeQ",
        "outputId": "e4cf832e-1499-41e3-838d-e894fcf834e3"
      },
      "execution_count": 78,
      "outputs": [
        {
          "output_type": "stream",
          "name": "stdout",
          "text": [
            "accuracy : 0.8708133971291866\n"
          ]
        }
      ]
    },
    {
      "cell_type": "code",
      "source": [
        "comparison = pd.DataFrame({'prediction':pred, 'ground_truth':y_test[\"Survived\"]}) \n",
        "comparison #실제값과 예측값 비교"
      ],
      "metadata": {
        "colab": {
          "base_uri": "https://localhost:8080/",
          "height": 423
        },
        "id": "NhBTgIbLzwtj",
        "outputId": "60f20629-4cac-4c20-8af2-4af100e6389c"
      },
      "execution_count": 80,
      "outputs": [
        {
          "output_type": "execute_result",
          "data": {
            "text/plain": [
              "      prediction  ground_truth\n",
              "769            0             0\n",
              "372            0             0\n",
              "707            0             1\n",
              "1062           0             0\n",
              "239            0             0\n",
              "...          ...           ...\n",
              "403            0             0\n",
              "287            0             0\n",
              "191            0             0\n",
              "1245           1             1\n",
              "271            0             1\n",
              "\n",
              "[209 rows x 2 columns]"
            ],
            "text/html": [
              "\n",
              "  <div id=\"df-f93f5539-8664-472d-af72-b8927a7f76c3\">\n",
              "    <div class=\"colab-df-container\">\n",
              "      <div>\n",
              "<style scoped>\n",
              "    .dataframe tbody tr th:only-of-type {\n",
              "        vertical-align: middle;\n",
              "    }\n",
              "\n",
              "    .dataframe tbody tr th {\n",
              "        vertical-align: top;\n",
              "    }\n",
              "\n",
              "    .dataframe thead th {\n",
              "        text-align: right;\n",
              "    }\n",
              "</style>\n",
              "<table border=\"1\" class=\"dataframe\">\n",
              "  <thead>\n",
              "    <tr style=\"text-align: right;\">\n",
              "      <th></th>\n",
              "      <th>prediction</th>\n",
              "      <th>ground_truth</th>\n",
              "    </tr>\n",
              "  </thead>\n",
              "  <tbody>\n",
              "    <tr>\n",
              "      <th>769</th>\n",
              "      <td>0</td>\n",
              "      <td>0</td>\n",
              "    </tr>\n",
              "    <tr>\n",
              "      <th>372</th>\n",
              "      <td>0</td>\n",
              "      <td>0</td>\n",
              "    </tr>\n",
              "    <tr>\n",
              "      <th>707</th>\n",
              "      <td>0</td>\n",
              "      <td>1</td>\n",
              "    </tr>\n",
              "    <tr>\n",
              "      <th>1062</th>\n",
              "      <td>0</td>\n",
              "      <td>0</td>\n",
              "    </tr>\n",
              "    <tr>\n",
              "      <th>239</th>\n",
              "      <td>0</td>\n",
              "      <td>0</td>\n",
              "    </tr>\n",
              "    <tr>\n",
              "      <th>...</th>\n",
              "      <td>...</td>\n",
              "      <td>...</td>\n",
              "    </tr>\n",
              "    <tr>\n",
              "      <th>403</th>\n",
              "      <td>0</td>\n",
              "      <td>0</td>\n",
              "    </tr>\n",
              "    <tr>\n",
              "      <th>287</th>\n",
              "      <td>0</td>\n",
              "      <td>0</td>\n",
              "    </tr>\n",
              "    <tr>\n",
              "      <th>191</th>\n",
              "      <td>0</td>\n",
              "      <td>0</td>\n",
              "    </tr>\n",
              "    <tr>\n",
              "      <th>1245</th>\n",
              "      <td>1</td>\n",
              "      <td>1</td>\n",
              "    </tr>\n",
              "    <tr>\n",
              "      <th>271</th>\n",
              "      <td>0</td>\n",
              "      <td>1</td>\n",
              "    </tr>\n",
              "  </tbody>\n",
              "</table>\n",
              "<p>209 rows × 2 columns</p>\n",
              "</div>\n",
              "      <button class=\"colab-df-convert\" onclick=\"convertToInteractive('df-f93f5539-8664-472d-af72-b8927a7f76c3')\"\n",
              "              title=\"Convert this dataframe to an interactive table.\"\n",
              "              style=\"display:none;\">\n",
              "        \n",
              "  <svg xmlns=\"http://www.w3.org/2000/svg\" height=\"24px\"viewBox=\"0 0 24 24\"\n",
              "       width=\"24px\">\n",
              "    <path d=\"M0 0h24v24H0V0z\" fill=\"none\"/>\n",
              "    <path d=\"M18.56 5.44l.94 2.06.94-2.06 2.06-.94-2.06-.94-.94-2.06-.94 2.06-2.06.94zm-11 1L8.5 8.5l.94-2.06 2.06-.94-2.06-.94L8.5 2.5l-.94 2.06-2.06.94zm10 10l.94 2.06.94-2.06 2.06-.94-2.06-.94-.94-2.06-.94 2.06-2.06.94z\"/><path d=\"M17.41 7.96l-1.37-1.37c-.4-.4-.92-.59-1.43-.59-.52 0-1.04.2-1.43.59L10.3 9.45l-7.72 7.72c-.78.78-.78 2.05 0 2.83L4 21.41c.39.39.9.59 1.41.59.51 0 1.02-.2 1.41-.59l7.78-7.78 2.81-2.81c.8-.78.8-2.07 0-2.86zM5.41 20L4 18.59l7.72-7.72 1.47 1.35L5.41 20z\"/>\n",
              "  </svg>\n",
              "      </button>\n",
              "      \n",
              "  <style>\n",
              "    .colab-df-container {\n",
              "      display:flex;\n",
              "      flex-wrap:wrap;\n",
              "      gap: 12px;\n",
              "    }\n",
              "\n",
              "    .colab-df-convert {\n",
              "      background-color: #E8F0FE;\n",
              "      border: none;\n",
              "      border-radius: 50%;\n",
              "      cursor: pointer;\n",
              "      display: none;\n",
              "      fill: #1967D2;\n",
              "      height: 32px;\n",
              "      padding: 0 0 0 0;\n",
              "      width: 32px;\n",
              "    }\n",
              "\n",
              "    .colab-df-convert:hover {\n",
              "      background-color: #E2EBFA;\n",
              "      box-shadow: 0px 1px 2px rgba(60, 64, 67, 0.3), 0px 1px 3px 1px rgba(60, 64, 67, 0.15);\n",
              "      fill: #174EA6;\n",
              "    }\n",
              "\n",
              "    [theme=dark] .colab-df-convert {\n",
              "      background-color: #3B4455;\n",
              "      fill: #D2E3FC;\n",
              "    }\n",
              "\n",
              "    [theme=dark] .colab-df-convert:hover {\n",
              "      background-color: #434B5C;\n",
              "      box-shadow: 0px 1px 3px 1px rgba(0, 0, 0, 0.15);\n",
              "      filter: drop-shadow(0px 1px 2px rgba(0, 0, 0, 0.3));\n",
              "      fill: #FFFFFF;\n",
              "    }\n",
              "  </style>\n",
              "\n",
              "      <script>\n",
              "        const buttonEl =\n",
              "          document.querySelector('#df-f93f5539-8664-472d-af72-b8927a7f76c3 button.colab-df-convert');\n",
              "        buttonEl.style.display =\n",
              "          google.colab.kernel.accessAllowed ? 'block' : 'none';\n",
              "\n",
              "        async function convertToInteractive(key) {\n",
              "          const element = document.querySelector('#df-f93f5539-8664-472d-af72-b8927a7f76c3');\n",
              "          const dataTable =\n",
              "            await google.colab.kernel.invokeFunction('convertToInteractive',\n",
              "                                                     [key], {});\n",
              "          if (!dataTable) return;\n",
              "\n",
              "          const docLinkHtml = 'Like what you see? Visit the ' +\n",
              "            '<a target=\"_blank\" href=https://colab.research.google.com/notebooks/data_table.ipynb>data table notebook</a>'\n",
              "            + ' to learn more about interactive tables.';\n",
              "          element.innerHTML = '';\n",
              "          dataTable['output_type'] = 'display_data';\n",
              "          await google.colab.output.renderOutput(dataTable, element);\n",
              "          const docLink = document.createElement('div');\n",
              "          docLink.innerHTML = docLinkHtml;\n",
              "          element.appendChild(docLink);\n",
              "        }\n",
              "      </script>\n",
              "    </div>\n",
              "  </div>\n",
              "  "
            ]
          },
          "metadata": {},
          "execution_count": 80
        }
      ]
    },
    {
      "cell_type": "code",
      "source": [
        "#의사결정트리 시각화\n",
        "import graphviz\n",
        "dot_data = tree.export_graphviz(best_clf, out_file=None)\n",
        "graph = graphviz.Source(dot_data)\n",
        "graph.render(\"titanic survived\")\n",
        "\n",
        "dot_data = tree.export_graphviz(best_clf, out_file=None, \n",
        "                         feature_names=['Pclass', 'Sex', 'Age', 'SibSp', 'Parch', 'Fare'],  \n",
        "                         class_names=['Not Survived', 'Survived'],  \n",
        "                         filled=True, rounded=True,  \n",
        "                         special_characters=True)  \n",
        "graph = graphviz.Source(dot_data)  \n",
        "graph"
      ],
      "metadata": {
        "colab": {
          "base_uri": "https://localhost:8080/",
          "height": 1000
        },
        "id": "ZsHgalPtzxtB",
        "outputId": "52951a05-50ba-4249-c7cd-881cc249664b"
      },
      "execution_count": 81,
      "outputs": [
        {
          "output_type": "execute_result",
          "data": {
            "text/plain": [
              "<graphviz.files.Source at 0x7fcc06203bd0>"
            ],
            "image/svg+xml": "<?xml version=\"1.0\" encoding=\"UTF-8\" standalone=\"no\"?>\n<!DOCTYPE svg PUBLIC \"-//W3C//DTD SVG 1.1//EN\"\n \"http://www.w3.org/Graphics/SVG/1.1/DTD/svg11.dtd\">\n<!-- Generated by graphviz version 2.40.1 (20161225.0304)\n -->\n<!-- Title: Tree Pages: 1 -->\n<svg width=\"4424pt\" height=\"790pt\"\n viewBox=\"0.00 0.00 4424.00 790.00\" xmlns=\"http://www.w3.org/2000/svg\" xmlns:xlink=\"http://www.w3.org/1999/xlink\">\n<g id=\"graph0\" class=\"graph\" transform=\"scale(1 1) rotate(0) translate(4 786)\">\n<title>Tree</title>\n<polygon fill=\"#ffffff\" stroke=\"transparent\" points=\"-4,4 -4,-786 4420,-786 4420,4 -4,4\"/>\n<!-- 0 -->\n<g id=\"node1\" class=\"node\">\n<title>0</title>\n<path fill=\"#f6d6be\" stroke=\"#000000\" d=\"M1675,-782C1675,-782 1550,-782 1550,-782 1544,-782 1538,-776 1538,-770 1538,-770 1538,-711 1538,-711 1538,-705 1544,-699 1550,-699 1550,-699 1675,-699 1675,-699 1681,-699 1687,-705 1687,-711 1687,-711 1687,-770 1687,-770 1687,-776 1681,-782 1675,-782\"/>\n<text text-anchor=\"start\" x=\"1582\" y=\"-766.8\" font-family=\"Helvetica,sans-Serif\" font-size=\"14.00\" fill=\"#000000\">Sex ≤ 0.5</text>\n<text text-anchor=\"start\" x=\"1574.5\" y=\"-751.8\" font-family=\"Helvetica,sans-Serif\" font-size=\"14.00\" fill=\"#000000\">gini = 0.481</text>\n<text text-anchor=\"start\" x=\"1564.5\" y=\"-736.8\" font-family=\"Helvetica,sans-Serif\" font-size=\"14.00\" fill=\"#000000\">samples = 836</text>\n<text text-anchor=\"start\" x=\"1554.5\" y=\"-721.8\" font-family=\"Helvetica,sans-Serif\" font-size=\"14.00\" fill=\"#000000\">value = [500, 336]</text>\n<text text-anchor=\"start\" x=\"1546\" y=\"-706.8\" font-family=\"Helvetica,sans-Serif\" font-size=\"14.00\" fill=\"#000000\">class = Not Survived</text>\n</g>\n<!-- 1 -->\n<g id=\"node2\" class=\"node\">\n<title>1</title>\n<path fill=\"#5fb0ea\" stroke=\"#000000\" d=\"M1117.5,-663C1117.5,-663 1017.5,-663 1017.5,-663 1011.5,-663 1005.5,-657 1005.5,-651 1005.5,-651 1005.5,-592 1005.5,-592 1005.5,-586 1011.5,-580 1017.5,-580 1017.5,-580 1117.5,-580 1117.5,-580 1123.5,-580 1129.5,-586 1129.5,-592 1129.5,-592 1129.5,-651 1129.5,-651 1129.5,-657 1123.5,-663 1117.5,-663\"/>\n<text text-anchor=\"start\" x=\"1028\" y=\"-647.8\" font-family=\"Helvetica,sans-Serif\" font-size=\"14.00\" fill=\"#000000\">Pclass ≤ 2.5</text>\n<text text-anchor=\"start\" x=\"1034\" y=\"-632.8\" font-family=\"Helvetica,sans-Serif\" font-size=\"14.00\" fill=\"#000000\">gini = 0.27</text>\n<text text-anchor=\"start\" x=\"1019.5\" y=\"-617.8\" font-family=\"Helvetica,sans-Serif\" font-size=\"14.00\" fill=\"#000000\">samples = 311</text>\n<text text-anchor=\"start\" x=\"1013.5\" y=\"-602.8\" font-family=\"Helvetica,sans-Serif\" font-size=\"14.00\" fill=\"#000000\">value = [50, 261]</text>\n<text text-anchor=\"start\" x=\"1014\" y=\"-587.8\" font-family=\"Helvetica,sans-Serif\" font-size=\"14.00\" fill=\"#000000\">class = Survived</text>\n</g>\n<!-- 0&#45;&gt;1 -->\n<g id=\"edge1\" class=\"edge\">\n<title>0&#45;&gt;1</title>\n<path fill=\"none\" stroke=\"#000000\" d=\"M1537.8628,-724.2031C1433.0508,-701.3175 1243.5067,-659.9308 1139.9104,-637.3107\"/>\n<polygon fill=\"#000000\" stroke=\"#000000\" points=\"1140.3699,-633.8287 1129.8535,-635.1148 1138.8766,-640.6675 1140.3699,-633.8287\"/>\n<text text-anchor=\"middle\" x=\"1143.3532\" y=\"-652.4566\" font-family=\"Helvetica,sans-Serif\" font-size=\"14.00\" fill=\"#000000\">True</text>\n</g>\n<!-- 32 -->\n<g id=\"node33\" class=\"node\">\n<title>32</title>\n<path fill=\"#e9965a\" stroke=\"#000000\" d=\"M2292,-663C2292,-663 2167,-663 2167,-663 2161,-663 2155,-657 2155,-651 2155,-651 2155,-592 2155,-592 2155,-586 2161,-580 2167,-580 2167,-580 2292,-580 2292,-580 2298,-580 2304,-586 2304,-592 2304,-592 2304,-651 2304,-651 2304,-657 2298,-663 2292,-663\"/>\n<text text-anchor=\"start\" x=\"2194.5\" y=\"-647.8\" font-family=\"Helvetica,sans-Serif\" font-size=\"14.00\" fill=\"#000000\">Age ≤ 12.5</text>\n<text text-anchor=\"start\" x=\"2191.5\" y=\"-632.8\" font-family=\"Helvetica,sans-Serif\" font-size=\"14.00\" fill=\"#000000\">gini = 0.245</text>\n<text text-anchor=\"start\" x=\"2181.5\" y=\"-617.8\" font-family=\"Helvetica,sans-Serif\" font-size=\"14.00\" fill=\"#000000\">samples = 525</text>\n<text text-anchor=\"start\" x=\"2175.5\" y=\"-602.8\" font-family=\"Helvetica,sans-Serif\" font-size=\"14.00\" fill=\"#000000\">value = [450, 75]</text>\n<text text-anchor=\"start\" x=\"2163\" y=\"-587.8\" font-family=\"Helvetica,sans-Serif\" font-size=\"14.00\" fill=\"#000000\">class = Not Survived</text>\n</g>\n<!-- 0&#45;&gt;32 -->\n<g id=\"edge32\" class=\"edge\">\n<title>0&#45;&gt;32</title>\n<path fill=\"none\" stroke=\"#000000\" d=\"M1687.2318,-726.0866C1802.695,-703.8173 2023.7555,-661.1817 2144.9194,-637.8129\"/>\n<polygon fill=\"#000000\" stroke=\"#000000\" points=\"2145.7405,-641.2192 2154.8967,-635.8887 2144.4148,-634.3459 2145.7405,-641.2192\"/>\n<text text-anchor=\"middle\" x=\"2140.8867\" y=\"-652.8942\" font-family=\"Helvetica,sans-Serif\" font-size=\"14.00\" fill=\"#000000\">False</text>\n</g>\n<!-- 2 -->\n<g id=\"node3\" class=\"node\">\n<title>2</title>\n<path fill=\"#41a1e6\" stroke=\"#000000\" d=\"M534,-544C534,-544 435,-544 435,-544 429,-544 423,-538 423,-532 423,-532 423,-473 423,-473 423,-467 429,-461 435,-461 435,-461 534,-461 534,-461 540,-461 546,-467 546,-473 546,-473 546,-532 546,-532 546,-538 540,-544 534,-544\"/>\n<text text-anchor=\"start\" x=\"453.5\" y=\"-528.8\" font-family=\"Helvetica,sans-Serif\" font-size=\"14.00\" fill=\"#000000\">Age ≤ 2.5</text>\n<text text-anchor=\"start\" x=\"446.5\" y=\"-513.8\" font-family=\"Helvetica,sans-Serif\" font-size=\"14.00\" fill=\"#000000\">gini = 0.072</text>\n<text text-anchor=\"start\" x=\"436.5\" y=\"-498.8\" font-family=\"Helvetica,sans-Serif\" font-size=\"14.00\" fill=\"#000000\">samples = 186</text>\n<text text-anchor=\"start\" x=\"434.5\" y=\"-483.8\" font-family=\"Helvetica,sans-Serif\" font-size=\"14.00\" fill=\"#000000\">value = [7, 179]</text>\n<text text-anchor=\"start\" x=\"431\" y=\"-468.8\" font-family=\"Helvetica,sans-Serif\" font-size=\"14.00\" fill=\"#000000\">class = Survived</text>\n</g>\n<!-- 1&#45;&gt;2 -->\n<g id=\"edge2\" class=\"edge\">\n<title>1&#45;&gt;2</title>\n<path fill=\"none\" stroke=\"#000000\" d=\"M1005.385,-608.8213C896.4476,-586.5854 671.5806,-540.6863 556.2137,-517.138\"/>\n<polygon fill=\"#000000\" stroke=\"#000000\" points=\"556.5714,-513.6389 546.0734,-515.0682 555.1714,-520.4975 556.5714,-513.6389\"/>\n</g>\n<!-- 15 -->\n<g id=\"node16\" class=\"node\">\n<title>15</title>\n<path fill=\"#a1d0f3\" stroke=\"#000000\" d=\"M1117,-544C1117,-544 1018,-544 1018,-544 1012,-544 1006,-538 1006,-532 1006,-532 1006,-473 1006,-473 1006,-467 1012,-461 1018,-461 1018,-461 1117,-461 1117,-461 1123,-461 1129,-467 1129,-473 1129,-473 1129,-532 1129,-532 1129,-538 1123,-544 1117,-544\"/>\n<text text-anchor=\"start\" x=\"1022\" y=\"-528.8\" font-family=\"Helvetica,sans-Serif\" font-size=\"14.00\" fill=\"#000000\">Fare ≤ 23.087</text>\n<text text-anchor=\"start\" x=\"1029.5\" y=\"-513.8\" font-family=\"Helvetica,sans-Serif\" font-size=\"14.00\" fill=\"#000000\">gini = 0.451</text>\n<text text-anchor=\"start\" x=\"1019.5\" y=\"-498.8\" font-family=\"Helvetica,sans-Serif\" font-size=\"14.00\" fill=\"#000000\">samples = 125</text>\n<text text-anchor=\"start\" x=\"1017.5\" y=\"-483.8\" font-family=\"Helvetica,sans-Serif\" font-size=\"14.00\" fill=\"#000000\">value = [43, 82]</text>\n<text text-anchor=\"start\" x=\"1014\" y=\"-468.8\" font-family=\"Helvetica,sans-Serif\" font-size=\"14.00\" fill=\"#000000\">class = Survived</text>\n</g>\n<!-- 1&#45;&gt;15 -->\n<g id=\"edge15\" class=\"edge\">\n<title>1&#45;&gt;15</title>\n<path fill=\"none\" stroke=\"#000000\" d=\"M1067.5,-579.8796C1067.5,-571.6838 1067.5,-562.9891 1067.5,-554.5013\"/>\n<polygon fill=\"#000000\" stroke=\"#000000\" points=\"1071.0001,-554.298 1067.5,-544.2981 1064.0001,-554.2981 1071.0001,-554.298\"/>\n</g>\n<!-- 3 -->\n<g id=\"node4\" class=\"node\">\n<title>3</title>\n<path fill=\"#9ccef2\" stroke=\"#000000\" d=\"M393,-417.5C393,-417.5 294,-417.5 294,-417.5 288,-417.5 282,-411.5 282,-405.5 282,-405.5 282,-361.5 282,-361.5 282,-355.5 288,-349.5 294,-349.5 294,-349.5 393,-349.5 393,-349.5 399,-349.5 405,-355.5 405,-361.5 405,-361.5 405,-405.5 405,-405.5 405,-411.5 399,-417.5 393,-417.5\"/>\n<text text-anchor=\"start\" x=\"305.5\" y=\"-402.3\" font-family=\"Helvetica,sans-Serif\" font-size=\"14.00\" fill=\"#000000\">gini = 0.444</text>\n<text text-anchor=\"start\" x=\"304\" y=\"-387.3\" font-family=\"Helvetica,sans-Serif\" font-size=\"14.00\" fill=\"#000000\">samples = 3</text>\n<text text-anchor=\"start\" x=\"302\" y=\"-372.3\" font-family=\"Helvetica,sans-Serif\" font-size=\"14.00\" fill=\"#000000\">value = [1, 2]</text>\n<text text-anchor=\"start\" x=\"290\" y=\"-357.3\" font-family=\"Helvetica,sans-Serif\" font-size=\"14.00\" fill=\"#000000\">class = Survived</text>\n</g>\n<!-- 2&#45;&gt;3 -->\n<g id=\"edge3\" class=\"edge\">\n<title>2&#45;&gt;3</title>\n<path fill=\"none\" stroke=\"#000000\" d=\"M435.185,-460.8796C421.244,-449.1138 406.0846,-436.3197 392.1812,-424.5855\"/>\n<polygon fill=\"#000000\" stroke=\"#000000\" points=\"394.0584,-421.5899 384.1589,-417.8149 389.5436,-426.9394 394.0584,-421.5899\"/>\n</g>\n<!-- 4 -->\n<g id=\"node5\" class=\"node\">\n<title>4</title>\n<path fill=\"#40a0e6\" stroke=\"#000000\" d=\"M534,-425C534,-425 435,-425 435,-425 429,-425 423,-419 423,-413 423,-413 423,-354 423,-354 423,-348 429,-342 435,-342 435,-342 534,-342 534,-342 540,-342 546,-348 546,-354 546,-354 546,-413 546,-413 546,-419 540,-425 534,-425\"/>\n<text text-anchor=\"start\" x=\"439\" y=\"-409.8\" font-family=\"Helvetica,sans-Serif\" font-size=\"14.00\" fill=\"#000000\">Fare ≤ 28.856</text>\n<text text-anchor=\"start\" x=\"446.5\" y=\"-394.8\" font-family=\"Helvetica,sans-Serif\" font-size=\"14.00\" fill=\"#000000\">gini = 0.063</text>\n<text text-anchor=\"start\" x=\"436.5\" y=\"-379.8\" font-family=\"Helvetica,sans-Serif\" font-size=\"14.00\" fill=\"#000000\">samples = 183</text>\n<text text-anchor=\"start\" x=\"434.5\" y=\"-364.8\" font-family=\"Helvetica,sans-Serif\" font-size=\"14.00\" fill=\"#000000\">value = [6, 177]</text>\n<text text-anchor=\"start\" x=\"431\" y=\"-349.8\" font-family=\"Helvetica,sans-Serif\" font-size=\"14.00\" fill=\"#000000\">class = Survived</text>\n</g>\n<!-- 2&#45;&gt;4 -->\n<g id=\"edge4\" class=\"edge\">\n<title>2&#45;&gt;4</title>\n<path fill=\"none\" stroke=\"#000000\" d=\"M484.5,-460.8796C484.5,-452.6838 484.5,-443.9891 484.5,-435.5013\"/>\n<polygon fill=\"#000000\" stroke=\"#000000\" points=\"488.0001,-435.298 484.5,-425.2981 481.0001,-435.2981 488.0001,-435.298\"/>\n</g>\n<!-- 5 -->\n<g id=\"node6\" class=\"node\">\n<title>5</title>\n<path fill=\"#47a4e7\" stroke=\"#000000\" d=\"M322,-306C322,-306 223,-306 223,-306 217,-306 211,-300 211,-294 211,-294 211,-235 211,-235 211,-229 217,-223 223,-223 223,-223 322,-223 322,-223 328,-223 334,-229 334,-235 334,-235 334,-294 334,-294 334,-300 328,-306 322,-306\"/>\n<text text-anchor=\"start\" x=\"227\" y=\"-290.8\" font-family=\"Helvetica,sans-Serif\" font-size=\"14.00\" fill=\"#000000\">Fare ≤ 27.735</text>\n<text text-anchor=\"start\" x=\"234.5\" y=\"-275.8\" font-family=\"Helvetica,sans-Serif\" font-size=\"14.00\" fill=\"#000000\">gini = 0.126</text>\n<text text-anchor=\"start\" x=\"228.5\" y=\"-260.8\" font-family=\"Helvetica,sans-Serif\" font-size=\"14.00\" fill=\"#000000\">samples = 74</text>\n<text text-anchor=\"start\" x=\"227\" y=\"-245.8\" font-family=\"Helvetica,sans-Serif\" font-size=\"14.00\" fill=\"#000000\">value = [5, 69]</text>\n<text text-anchor=\"start\" x=\"219\" y=\"-230.8\" font-family=\"Helvetica,sans-Serif\" font-size=\"14.00\" fill=\"#000000\">class = Survived</text>\n</g>\n<!-- 4&#45;&gt;5 -->\n<g id=\"edge5\" class=\"edge\">\n<title>4&#45;&gt;5</title>\n<path fill=\"none\" stroke=\"#000000\" d=\"M422.9838,-347.4101C419.7808,-345.5728 416.6051,-343.7604 413.5,-342 390.6536,-329.0474 365.5701,-315.1554 342.9742,-302.7611\"/>\n<polygon fill=\"#000000\" stroke=\"#000000\" points=\"344.5703,-299.6448 334.1184,-297.9102 341.2074,-305.7841 344.5703,-299.6448\"/>\n</g>\n<!-- 10 -->\n<g id=\"node11\" class=\"node\">\n<title>10</title>\n<path fill=\"#3b9ee5\" stroke=\"#000000\" d=\"M534,-306C534,-306 435,-306 435,-306 429,-306 423,-300 423,-294 423,-294 423,-235 423,-235 423,-229 429,-223 435,-223 435,-223 534,-223 534,-223 540,-223 546,-229 546,-235 546,-235 546,-294 546,-294 546,-300 540,-306 534,-306\"/>\n<text text-anchor=\"start\" x=\"447.5\" y=\"-290.8\" font-family=\"Helvetica,sans-Serif\" font-size=\"14.00\" fill=\"#000000\">Parch ≤ 1.5</text>\n<text text-anchor=\"start\" x=\"446.5\" y=\"-275.8\" font-family=\"Helvetica,sans-Serif\" font-size=\"14.00\" fill=\"#000000\">gini = 0.018</text>\n<text text-anchor=\"start\" x=\"436.5\" y=\"-260.8\" font-family=\"Helvetica,sans-Serif\" font-size=\"14.00\" fill=\"#000000\">samples = 109</text>\n<text text-anchor=\"start\" x=\"434.5\" y=\"-245.8\" font-family=\"Helvetica,sans-Serif\" font-size=\"14.00\" fill=\"#000000\">value = [1, 108]</text>\n<text text-anchor=\"start\" x=\"431\" y=\"-230.8\" font-family=\"Helvetica,sans-Serif\" font-size=\"14.00\" fill=\"#000000\">class = Survived</text>\n</g>\n<!-- 4&#45;&gt;10 -->\n<g id=\"edge10\" class=\"edge\">\n<title>4&#45;&gt;10</title>\n<path fill=\"none\" stroke=\"#000000\" d=\"M484.5,-341.8796C484.5,-333.6838 484.5,-324.9891 484.5,-316.5013\"/>\n<polygon fill=\"#000000\" stroke=\"#000000\" points=\"488.0001,-316.298 484.5,-306.2981 481.0001,-316.2981 488.0001,-316.298\"/>\n</g>\n<!-- 6 -->\n<g id=\"node7\" class=\"node\">\n<title>6</title>\n<path fill=\"#45a3e7\" stroke=\"#000000\" d=\"M181,-187C181,-187 82,-187 82,-187 76,-187 70,-181 70,-175 70,-175 70,-116 70,-116 70,-110 76,-104 82,-104 82,-104 181,-104 181,-104 187,-104 193,-110 193,-116 193,-116 193,-175 193,-175 193,-181 187,-187 181,-187\"/>\n<text text-anchor=\"start\" x=\"90.5\" y=\"-171.8\" font-family=\"Helvetica,sans-Serif\" font-size=\"14.00\" fill=\"#000000\">Fare ≤ 13.25</text>\n<text text-anchor=\"start\" x=\"93.5\" y=\"-156.8\" font-family=\"Helvetica,sans-Serif\" font-size=\"14.00\" fill=\"#000000\">gini = 0.106</text>\n<text text-anchor=\"start\" x=\"87.5\" y=\"-141.8\" font-family=\"Helvetica,sans-Serif\" font-size=\"14.00\" fill=\"#000000\">samples = 71</text>\n<text text-anchor=\"start\" x=\"86\" y=\"-126.8\" font-family=\"Helvetica,sans-Serif\" font-size=\"14.00\" fill=\"#000000\">value = [4, 67]</text>\n<text text-anchor=\"start\" x=\"78\" y=\"-111.8\" font-family=\"Helvetica,sans-Serif\" font-size=\"14.00\" fill=\"#000000\">class = Survived</text>\n</g>\n<!-- 5&#45;&gt;6 -->\n<g id=\"edge6\" class=\"edge\">\n<title>5&#45;&gt;6</title>\n<path fill=\"none\" stroke=\"#000000\" d=\"M223.185,-222.8796C212.0868,-213.513 200.2165,-203.4948 188.8223,-193.8784\"/>\n<polygon fill=\"#000000\" stroke=\"#000000\" points=\"190.925,-191.0731 181.0254,-187.2981 186.4101,-196.4225 190.925,-191.0731\"/>\n</g>\n<!-- 9 -->\n<g id=\"node10\" class=\"node\">\n<title>9</title>\n<path fill=\"#9ccef2\" stroke=\"#000000\" d=\"M322,-179.5C322,-179.5 223,-179.5 223,-179.5 217,-179.5 211,-173.5 211,-167.5 211,-167.5 211,-123.5 211,-123.5 211,-117.5 217,-111.5 223,-111.5 223,-111.5 322,-111.5 322,-111.5 328,-111.5 334,-117.5 334,-123.5 334,-123.5 334,-167.5 334,-167.5 334,-173.5 328,-179.5 322,-179.5\"/>\n<text text-anchor=\"start\" x=\"234.5\" y=\"-164.3\" font-family=\"Helvetica,sans-Serif\" font-size=\"14.00\" fill=\"#000000\">gini = 0.444</text>\n<text text-anchor=\"start\" x=\"233\" y=\"-149.3\" font-family=\"Helvetica,sans-Serif\" font-size=\"14.00\" fill=\"#000000\">samples = 3</text>\n<text text-anchor=\"start\" x=\"231\" y=\"-134.3\" font-family=\"Helvetica,sans-Serif\" font-size=\"14.00\" fill=\"#000000\">value = [1, 2]</text>\n<text text-anchor=\"start\" x=\"219\" y=\"-119.3\" font-family=\"Helvetica,sans-Serif\" font-size=\"14.00\" fill=\"#000000\">class = Survived</text>\n</g>\n<!-- 5&#45;&gt;9 -->\n<g id=\"edge9\" class=\"edge\">\n<title>5&#45;&gt;9</title>\n<path fill=\"none\" stroke=\"#000000\" d=\"M272.5,-222.8796C272.5,-212.2134 272.5,-200.7021 272.5,-189.9015\"/>\n<polygon fill=\"#000000\" stroke=\"#000000\" points=\"276.0001,-189.8149 272.5,-179.8149 269.0001,-189.815 276.0001,-189.8149\"/>\n</g>\n<!-- 7 -->\n<g id=\"node8\" class=\"node\">\n<title>7</title>\n<path fill=\"#55abe9\" stroke=\"#000000\" d=\"M111,-68C111,-68 12,-68 12,-68 6,-68 0,-62 0,-56 0,-56 0,-12 0,-12 0,-6 6,0 12,0 12,0 111,0 111,0 117,0 123,-6 123,-12 123,-12 123,-56 123,-56 123,-62 117,-68 111,-68\"/>\n<text text-anchor=\"start\" x=\"23.5\" y=\"-52.8\" font-family=\"Helvetica,sans-Serif\" font-size=\"14.00\" fill=\"#000000\">gini = 0.219</text>\n<text text-anchor=\"start\" x=\"17.5\" y=\"-37.8\" font-family=\"Helvetica,sans-Serif\" font-size=\"14.00\" fill=\"#000000\">samples = 16</text>\n<text text-anchor=\"start\" x=\"16\" y=\"-22.8\" font-family=\"Helvetica,sans-Serif\" font-size=\"14.00\" fill=\"#000000\">value = [2, 14]</text>\n<text text-anchor=\"start\" x=\"8\" y=\"-7.8\" font-family=\"Helvetica,sans-Serif\" font-size=\"14.00\" fill=\"#000000\">class = Survived</text>\n</g>\n<!-- 6&#45;&gt;7 -->\n<g id=\"edge7\" class=\"edge\">\n<title>6&#45;&gt;7</title>\n<path fill=\"none\" stroke=\"#000000\" d=\"M105.4346,-103.9815C99.8955,-95.1585 94.0364,-85.8258 88.4645,-76.9506\"/>\n<polygon fill=\"#000000\" stroke=\"#000000\" points=\"91.2922,-74.872 83.0108,-68.2637 85.3637,-78.594 91.2922,-74.872\"/>\n</g>\n<!-- 8 -->\n<g id=\"node9\" class=\"node\">\n<title>8</title>\n<path fill=\"#40a1e6\" stroke=\"#000000\" d=\"M252,-68C252,-68 153,-68 153,-68 147,-68 141,-62 141,-56 141,-56 141,-12 141,-12 141,-6 147,0 153,0 153,0 252,0 252,0 258,0 264,-6 264,-12 264,-12 264,-56 264,-56 264,-62 258,-68 252,-68\"/>\n<text text-anchor=\"start\" x=\"169\" y=\"-52.8\" font-family=\"Helvetica,sans-Serif\" font-size=\"14.00\" fill=\"#000000\">gini = 0.07</text>\n<text text-anchor=\"start\" x=\"158.5\" y=\"-37.8\" font-family=\"Helvetica,sans-Serif\" font-size=\"14.00\" fill=\"#000000\">samples = 55</text>\n<text text-anchor=\"start\" x=\"157\" y=\"-22.8\" font-family=\"Helvetica,sans-Serif\" font-size=\"14.00\" fill=\"#000000\">value = [2, 53]</text>\n<text text-anchor=\"start\" x=\"149\" y=\"-7.8\" font-family=\"Helvetica,sans-Serif\" font-size=\"14.00\" fill=\"#000000\">class = Survived</text>\n</g>\n<!-- 6&#45;&gt;8 -->\n<g id=\"edge8\" class=\"edge\">\n<title>6&#45;&gt;8</title>\n<path fill=\"none\" stroke=\"#000000\" d=\"M157.9378,-103.9815C163.556,-95.1585 169.4988,-85.8258 175.1503,-76.9506\"/>\n<polygon fill=\"#000000\" stroke=\"#000000\" points=\"178.2629,-78.5787 180.6819,-68.2637 172.3584,-74.8188 178.2629,-78.5787\"/>\n</g>\n<!-- 11 -->\n<g id=\"node12\" class=\"node\">\n<title>11</title>\n<path fill=\"#399de5\" stroke=\"#000000\" d=\"M463,-179.5C463,-179.5 364,-179.5 364,-179.5 358,-179.5 352,-173.5 352,-167.5 352,-167.5 352,-123.5 352,-123.5 352,-117.5 358,-111.5 364,-111.5 364,-111.5 463,-111.5 463,-111.5 469,-111.5 475,-117.5 475,-123.5 475,-123.5 475,-167.5 475,-167.5 475,-173.5 469,-179.5 463,-179.5\"/>\n<text text-anchor=\"start\" x=\"384\" y=\"-164.3\" font-family=\"Helvetica,sans-Serif\" font-size=\"14.00\" fill=\"#000000\">gini = 0.0</text>\n<text text-anchor=\"start\" x=\"369.5\" y=\"-149.3\" font-family=\"Helvetica,sans-Serif\" font-size=\"14.00\" fill=\"#000000\">samples = 90</text>\n<text text-anchor=\"start\" x=\"368\" y=\"-134.3\" font-family=\"Helvetica,sans-Serif\" font-size=\"14.00\" fill=\"#000000\">value = [0, 90]</text>\n<text text-anchor=\"start\" x=\"360\" y=\"-119.3\" font-family=\"Helvetica,sans-Serif\" font-size=\"14.00\" fill=\"#000000\">class = Survived</text>\n</g>\n<!-- 10&#45;&gt;11 -->\n<g id=\"edge11\" class=\"edge\">\n<title>10&#45;&gt;11</title>\n<path fill=\"none\" stroke=\"#000000\" d=\"M459.6676,-222.8796C453.0413,-211.7735 445.8684,-199.7513 439.1967,-188.5691\"/>\n<polygon fill=\"#000000\" stroke=\"#000000\" points=\"442.1031,-186.6093 433.9736,-179.8149 436.0917,-190.1959 442.1031,-186.6093\"/>\n</g>\n<!-- 12 -->\n<g id=\"node13\" class=\"node\">\n<title>12</title>\n<path fill=\"#44a2e6\" stroke=\"#000000\" d=\"M604,-187C604,-187 505,-187 505,-187 499,-187 493,-181 493,-175 493,-175 493,-116 493,-116 493,-110 499,-104 505,-104 505,-104 604,-104 604,-104 610,-104 616,-110 616,-116 616,-116 616,-175 616,-175 616,-181 610,-187 604,-187\"/>\n<text text-anchor=\"start\" x=\"505\" y=\"-171.8\" font-family=\"Helvetica,sans-Serif\" font-size=\"14.00\" fill=\"#000000\">Fare ≤ 135.775</text>\n<text text-anchor=\"start\" x=\"525\" y=\"-156.8\" font-family=\"Helvetica,sans-Serif\" font-size=\"14.00\" fill=\"#000000\">gini = 0.1</text>\n<text text-anchor=\"start\" x=\"510.5\" y=\"-141.8\" font-family=\"Helvetica,sans-Serif\" font-size=\"14.00\" fill=\"#000000\">samples = 19</text>\n<text text-anchor=\"start\" x=\"509\" y=\"-126.8\" font-family=\"Helvetica,sans-Serif\" font-size=\"14.00\" fill=\"#000000\">value = [1, 18]</text>\n<text text-anchor=\"start\" x=\"501\" y=\"-111.8\" font-family=\"Helvetica,sans-Serif\" font-size=\"14.00\" fill=\"#000000\">class = Survived</text>\n</g>\n<!-- 10&#45;&gt;12 -->\n<g id=\"edge12\" class=\"edge\">\n<title>10&#45;&gt;12</title>\n<path fill=\"none\" stroke=\"#000000\" d=\"M508.9826,-222.8796C514.0685,-214.2335 519.4811,-205.0322 524.7328,-196.1042\"/>\n<polygon fill=\"#000000\" stroke=\"#000000\" points=\"527.8594,-197.692 529.9129,-187.2981 521.8259,-194.1428 527.8594,-197.692\"/>\n</g>\n<!-- 13 -->\n<g id=\"node14\" class=\"node\">\n<title>13</title>\n<path fill=\"#399de5\" stroke=\"#000000\" d=\"M463,-68C463,-68 364,-68 364,-68 358,-68 352,-62 352,-56 352,-56 352,-12 352,-12 352,-6 358,0 364,0 364,0 463,0 463,0 469,0 475,-6 475,-12 475,-12 475,-56 475,-56 475,-62 469,-68 463,-68\"/>\n<text text-anchor=\"start\" x=\"384\" y=\"-52.8\" font-family=\"Helvetica,sans-Serif\" font-size=\"14.00\" fill=\"#000000\">gini = 0.0</text>\n<text text-anchor=\"start\" x=\"369.5\" y=\"-37.8\" font-family=\"Helvetica,sans-Serif\" font-size=\"14.00\" fill=\"#000000\">samples = 12</text>\n<text text-anchor=\"start\" x=\"368\" y=\"-22.8\" font-family=\"Helvetica,sans-Serif\" font-size=\"14.00\" fill=\"#000000\">value = [0, 12]</text>\n<text text-anchor=\"start\" x=\"360\" y=\"-7.8\" font-family=\"Helvetica,sans-Serif\" font-size=\"14.00\" fill=\"#000000\">class = Survived</text>\n</g>\n<!-- 12&#45;&gt;13 -->\n<g id=\"edge13\" class=\"edge\">\n<title>12&#45;&gt;13</title>\n<path fill=\"none\" stroke=\"#000000\" d=\"M501.9968,-103.9815C489.7934,-94.3313 476.819,-84.0714 464.6739,-74.4673\"/>\n<polygon fill=\"#000000\" stroke=\"#000000\" points=\"466.8438,-71.7211 456.829,-68.2637 462.5018,-77.2118 466.8438,-71.7211\"/>\n</g>\n<!-- 14 -->\n<g id=\"node15\" class=\"node\">\n<title>14</title>\n<path fill=\"#5aade9\" stroke=\"#000000\" d=\"M604,-68C604,-68 505,-68 505,-68 499,-68 493,-62 493,-56 493,-56 493,-12 493,-12 493,-6 499,0 505,0 505,0 604,0 604,0 610,0 616,-6 616,-12 616,-12 616,-56 616,-56 616,-62 610,-68 604,-68\"/>\n<text text-anchor=\"start\" x=\"516.5\" y=\"-52.8\" font-family=\"Helvetica,sans-Serif\" font-size=\"14.00\" fill=\"#000000\">gini = 0.245</text>\n<text text-anchor=\"start\" x=\"515\" y=\"-37.8\" font-family=\"Helvetica,sans-Serif\" font-size=\"14.00\" fill=\"#000000\">samples = 7</text>\n<text text-anchor=\"start\" x=\"513\" y=\"-22.8\" font-family=\"Helvetica,sans-Serif\" font-size=\"14.00\" fill=\"#000000\">value = [1, 6]</text>\n<text text-anchor=\"start\" x=\"501\" y=\"-7.8\" font-family=\"Helvetica,sans-Serif\" font-size=\"14.00\" fill=\"#000000\">class = Survived</text>\n</g>\n<!-- 12&#45;&gt;14 -->\n<g id=\"edge14\" class=\"edge\">\n<title>12&#45;&gt;14</title>\n<path fill=\"none\" stroke=\"#000000\" d=\"M554.5,-103.9815C554.5,-95.618 554.5,-86.7965 554.5,-78.3409\"/>\n<polygon fill=\"#000000\" stroke=\"#000000\" points=\"558.0001,-78.2636 554.5,-68.2637 551.0001,-78.2637 558.0001,-78.2636\"/>\n</g>\n<!-- 16 -->\n<g id=\"node17\" class=\"node\">\n<title>16</title>\n<path fill=\"#85c3ef\" stroke=\"#000000\" d=\"M1034,-425C1034,-425 935,-425 935,-425 929,-425 923,-419 923,-413 923,-413 923,-354 923,-354 923,-348 929,-342 935,-342 935,-342 1034,-342 1034,-342 1040,-342 1046,-348 1046,-354 1046,-354 1046,-413 1046,-413 1046,-419 1040,-425 1034,-425\"/>\n<text text-anchor=\"start\" x=\"949.5\" y=\"-409.8\" font-family=\"Helvetica,sans-Serif\" font-size=\"14.00\" fill=\"#000000\">Age ≤ 39.0</text>\n<text text-anchor=\"start\" x=\"946.5\" y=\"-394.8\" font-family=\"Helvetica,sans-Serif\" font-size=\"14.00\" fill=\"#000000\">gini = 0.401</text>\n<text text-anchor=\"start\" x=\"936.5\" y=\"-379.8\" font-family=\"Helvetica,sans-Serif\" font-size=\"14.00\" fill=\"#000000\">samples = 108</text>\n<text text-anchor=\"start\" x=\"934.5\" y=\"-364.8\" font-family=\"Helvetica,sans-Serif\" font-size=\"14.00\" fill=\"#000000\">value = [30, 78]</text>\n<text text-anchor=\"start\" x=\"931\" y=\"-349.8\" font-family=\"Helvetica,sans-Serif\" font-size=\"14.00\" fill=\"#000000\">class = Survived</text>\n</g>\n<!-- 15&#45;&gt;16 -->\n<g id=\"edge16\" class=\"edge\">\n<title>15&#45;&gt;16</title>\n<path fill=\"none\" stroke=\"#000000\" d=\"M1038.4706,-460.8796C1032.3145,-452.0534 1025.7549,-442.6485 1019.4064,-433.5466\"/>\n<polygon fill=\"#000000\" stroke=\"#000000\" points=\"1022.2448,-431.4978 1013.6533,-425.2981 1016.5033,-435.5024 1022.2448,-431.4978\"/>\n</g>\n<!-- 25 -->\n<g id=\"node26\" class=\"node\">\n<title>25</title>\n<path fill=\"#eda876\" stroke=\"#000000\" d=\"M1214,-425C1214,-425 1089,-425 1089,-425 1083,-425 1077,-419 1077,-413 1077,-413 1077,-354 1077,-354 1077,-348 1083,-342 1089,-342 1089,-342 1214,-342 1214,-342 1220,-342 1226,-348 1226,-354 1226,-354 1226,-413 1226,-413 1226,-419 1220,-425 1214,-425\"/>\n<text text-anchor=\"start\" x=\"1106\" y=\"-409.8\" font-family=\"Helvetica,sans-Serif\" font-size=\"14.00\" fill=\"#000000\">Fare ≤ 31.331</text>\n<text text-anchor=\"start\" x=\"1118\" y=\"-394.8\" font-family=\"Helvetica,sans-Serif\" font-size=\"14.00\" fill=\"#000000\">gini = 0.36</text>\n<text text-anchor=\"start\" x=\"1107.5\" y=\"-379.8\" font-family=\"Helvetica,sans-Serif\" font-size=\"14.00\" fill=\"#000000\">samples = 17</text>\n<text text-anchor=\"start\" x=\"1106\" y=\"-364.8\" font-family=\"Helvetica,sans-Serif\" font-size=\"14.00\" fill=\"#000000\">value = [13, 4]</text>\n<text text-anchor=\"start\" x=\"1085\" y=\"-349.8\" font-family=\"Helvetica,sans-Serif\" font-size=\"14.00\" fill=\"#000000\">class = Not Survived</text>\n</g>\n<!-- 15&#45;&gt;25 -->\n<g id=\"edge25\" class=\"edge\">\n<title>15&#45;&gt;25</title>\n<path fill=\"none\" stroke=\"#000000\" d=\"M1096.8791,-460.8796C1103.1094,-452.0534 1109.7481,-442.6485 1116.173,-433.5466\"/>\n<polygon fill=\"#000000\" stroke=\"#000000\" points=\"1119.088,-435.4862 1121.9955,-425.2981 1113.3692,-431.4494 1119.088,-435.4862\"/>\n</g>\n<!-- 17 -->\n<g id=\"node18\" class=\"node\">\n<title>17</title>\n<path fill=\"#7dbfee\" stroke=\"#000000\" d=\"M880,-306C880,-306 781,-306 781,-306 775,-306 769,-300 769,-294 769,-294 769,-235 769,-235 769,-229 775,-223 781,-223 781,-223 880,-223 880,-223 886,-223 892,-229 892,-235 892,-235 892,-294 892,-294 892,-300 886,-306 880,-306\"/>\n<text text-anchor=\"start\" x=\"793.5\" y=\"-290.8\" font-family=\"Helvetica,sans-Serif\" font-size=\"14.00\" fill=\"#000000\">Parch ≤ 1.5</text>\n<text text-anchor=\"start\" x=\"797\" y=\"-275.8\" font-family=\"Helvetica,sans-Serif\" font-size=\"14.00\" fill=\"#000000\">gini = 0.38</text>\n<text text-anchor=\"start\" x=\"782.5\" y=\"-260.8\" font-family=\"Helvetica,sans-Serif\" font-size=\"14.00\" fill=\"#000000\">samples = 102</text>\n<text text-anchor=\"start\" x=\"780.5\" y=\"-245.8\" font-family=\"Helvetica,sans-Serif\" font-size=\"14.00\" fill=\"#000000\">value = [26, 76]</text>\n<text text-anchor=\"start\" x=\"777\" y=\"-230.8\" font-family=\"Helvetica,sans-Serif\" font-size=\"14.00\" fill=\"#000000\">class = Survived</text>\n</g>\n<!-- 16&#45;&gt;17 -->\n<g id=\"edge17\" class=\"edge\">\n<title>16&#45;&gt;17</title>\n<path fill=\"none\" stroke=\"#000000\" d=\"M930.6383,-341.8796C918.3291,-332.368 905.1503,-322.1843 892.5296,-312.432\"/>\n<polygon fill=\"#000000\" stroke=\"#000000\" points=\"894.3843,-309.4419 884.3313,-306.0969 890.1041,-314.9809 894.3843,-309.4419\"/>\n</g>\n<!-- 22 -->\n<g id=\"node23\" class=\"node\">\n<title>22</title>\n<path fill=\"#f2c09c\" stroke=\"#000000\" d=\"M1047,-306C1047,-306 922,-306 922,-306 916,-306 910,-300 910,-294 910,-294 910,-235 910,-235 910,-229 916,-223 922,-223 922,-223 1047,-223 1047,-223 1053,-223 1059,-229 1059,-235 1059,-235 1059,-294 1059,-294 1059,-300 1053,-306 1047,-306\"/>\n<text text-anchor=\"start\" x=\"943.5\" y=\"-290.8\" font-family=\"Helvetica,sans-Serif\" font-size=\"14.00\" fill=\"#000000\">Fare ≤ 7.487</text>\n<text text-anchor=\"start\" x=\"946.5\" y=\"-275.8\" font-family=\"Helvetica,sans-Serif\" font-size=\"14.00\" fill=\"#000000\">gini = 0.444</text>\n<text text-anchor=\"start\" x=\"945\" y=\"-260.8\" font-family=\"Helvetica,sans-Serif\" font-size=\"14.00\" fill=\"#000000\">samples = 6</text>\n<text text-anchor=\"start\" x=\"943\" y=\"-245.8\" font-family=\"Helvetica,sans-Serif\" font-size=\"14.00\" fill=\"#000000\">value = [4, 2]</text>\n<text text-anchor=\"start\" x=\"918\" y=\"-230.8\" font-family=\"Helvetica,sans-Serif\" font-size=\"14.00\" fill=\"#000000\">class = Not Survived</text>\n</g>\n<!-- 16&#45;&gt;22 -->\n<g id=\"edge22\" class=\"edge\">\n<title>16&#45;&gt;22</title>\n<path fill=\"none\" stroke=\"#000000\" d=\"M984.5,-341.8796C984.5,-333.6838 984.5,-324.9891 984.5,-316.5013\"/>\n<polygon fill=\"#000000\" stroke=\"#000000\" points=\"988.0001,-316.298 984.5,-306.2981 981.0001,-316.2981 988.0001,-316.298\"/>\n</g>\n<!-- 18 -->\n<g id=\"node19\" class=\"node\">\n<title>18</title>\n<path fill=\"#87c4ef\" stroke=\"#000000\" d=\"M745,-187C745,-187 646,-187 646,-187 640,-187 634,-181 634,-175 634,-175 634,-116 634,-116 634,-110 640,-104 646,-104 646,-104 745,-104 745,-104 751,-104 757,-110 757,-116 757,-116 757,-175 757,-175 757,-181 751,-187 745,-187\"/>\n<text text-anchor=\"start\" x=\"654.5\" y=\"-171.8\" font-family=\"Helvetica,sans-Serif\" font-size=\"14.00\" fill=\"#000000\">Fare ≤ 7.742</text>\n<text text-anchor=\"start\" x=\"657.5\" y=\"-156.8\" font-family=\"Helvetica,sans-Serif\" font-size=\"14.00\" fill=\"#000000\">gini = 0.405</text>\n<text text-anchor=\"start\" x=\"651.5\" y=\"-141.8\" font-family=\"Helvetica,sans-Serif\" font-size=\"14.00\" fill=\"#000000\">samples = 92</text>\n<text text-anchor=\"start\" x=\"645.5\" y=\"-126.8\" font-family=\"Helvetica,sans-Serif\" font-size=\"14.00\" fill=\"#000000\">value = [26, 66]</text>\n<text text-anchor=\"start\" x=\"642\" y=\"-111.8\" font-family=\"Helvetica,sans-Serif\" font-size=\"14.00\" fill=\"#000000\">class = Survived</text>\n</g>\n<!-- 17&#45;&gt;18 -->\n<g id=\"edge18\" class=\"edge\">\n<title>17&#45;&gt;18</title>\n<path fill=\"none\" stroke=\"#000000\" d=\"M783.2836,-222.8796C772.7598,-213.6031 761.5109,-203.6874 750.6979,-194.1559\"/>\n<polygon fill=\"#000000\" stroke=\"#000000\" points=\"752.734,-191.2851 742.918,-187.2981 748.1052,-196.5362 752.734,-191.2851\"/>\n</g>\n<!-- 21 -->\n<g id=\"node22\" class=\"node\">\n<title>21</title>\n<path fill=\"#399de5\" stroke=\"#000000\" d=\"M886,-179.5C886,-179.5 787,-179.5 787,-179.5 781,-179.5 775,-173.5 775,-167.5 775,-167.5 775,-123.5 775,-123.5 775,-117.5 781,-111.5 787,-111.5 787,-111.5 886,-111.5 886,-111.5 892,-111.5 898,-117.5 898,-123.5 898,-123.5 898,-167.5 898,-167.5 898,-173.5 892,-179.5 886,-179.5\"/>\n<text text-anchor=\"start\" x=\"807\" y=\"-164.3\" font-family=\"Helvetica,sans-Serif\" font-size=\"14.00\" fill=\"#000000\">gini = 0.0</text>\n<text text-anchor=\"start\" x=\"792.5\" y=\"-149.3\" font-family=\"Helvetica,sans-Serif\" font-size=\"14.00\" fill=\"#000000\">samples = 10</text>\n<text text-anchor=\"start\" x=\"791\" y=\"-134.3\" font-family=\"Helvetica,sans-Serif\" font-size=\"14.00\" fill=\"#000000\">value = [0, 10]</text>\n<text text-anchor=\"start\" x=\"783\" y=\"-119.3\" font-family=\"Helvetica,sans-Serif\" font-size=\"14.00\" fill=\"#000000\">class = Survived</text>\n</g>\n<!-- 17&#45;&gt;21 -->\n<g id=\"edge21\" class=\"edge\">\n<title>17&#45;&gt;21</title>\n<path fill=\"none\" stroke=\"#000000\" d=\"M832.5985,-222.8796C833.1363,-212.2134 833.7167,-200.7021 834.2613,-189.9015\"/>\n<polygon fill=\"#000000\" stroke=\"#000000\" points=\"837.7617,-189.9785 834.7698,-179.8149 830.7706,-189.626 837.7617,-189.9785\"/>\n</g>\n<!-- 19 -->\n<g id=\"node20\" class=\"node\">\n<title>19</title>\n<path fill=\"#48a5e7\" stroke=\"#000000\" d=\"M745,-68C745,-68 646,-68 646,-68 640,-68 634,-62 634,-56 634,-56 634,-12 634,-12 634,-6 640,0 646,0 646,0 745,0 745,0 751,0 757,-6 757,-12 757,-12 757,-56 757,-56 757,-62 751,-68 745,-68\"/>\n<text text-anchor=\"start\" x=\"657.5\" y=\"-52.8\" font-family=\"Helvetica,sans-Serif\" font-size=\"14.00\" fill=\"#000000\">gini = 0.133</text>\n<text text-anchor=\"start\" x=\"651.5\" y=\"-37.8\" font-family=\"Helvetica,sans-Serif\" font-size=\"14.00\" fill=\"#000000\">samples = 14</text>\n<text text-anchor=\"start\" x=\"650\" y=\"-22.8\" font-family=\"Helvetica,sans-Serif\" font-size=\"14.00\" fill=\"#000000\">value = [1, 13]</text>\n<text text-anchor=\"start\" x=\"642\" y=\"-7.8\" font-family=\"Helvetica,sans-Serif\" font-size=\"14.00\" fill=\"#000000\">class = Survived</text>\n</g>\n<!-- 18&#45;&gt;19 -->\n<g id=\"edge19\" class=\"edge\">\n<title>18&#45;&gt;19</title>\n<path fill=\"none\" stroke=\"#000000\" d=\"M695.5,-103.9815C695.5,-95.618 695.5,-86.7965 695.5,-78.3409\"/>\n<polygon fill=\"#000000\" stroke=\"#000000\" points=\"699.0001,-78.2636 695.5,-68.2637 692.0001,-78.2637 699.0001,-78.2636\"/>\n</g>\n<!-- 20 -->\n<g id=\"node21\" class=\"node\">\n<title>20</title>\n<path fill=\"#96cbf1\" stroke=\"#000000\" d=\"M886,-68C886,-68 787,-68 787,-68 781,-68 775,-62 775,-56 775,-56 775,-12 775,-12 775,-6 781,0 787,0 787,0 886,0 886,0 892,0 898,-6 898,-12 898,-12 898,-56 898,-56 898,-62 892,-68 886,-68\"/>\n<text text-anchor=\"start\" x=\"798.5\" y=\"-52.8\" font-family=\"Helvetica,sans-Serif\" font-size=\"14.00\" fill=\"#000000\">gini = 0.436</text>\n<text text-anchor=\"start\" x=\"792.5\" y=\"-37.8\" font-family=\"Helvetica,sans-Serif\" font-size=\"14.00\" fill=\"#000000\">samples = 78</text>\n<text text-anchor=\"start\" x=\"786.5\" y=\"-22.8\" font-family=\"Helvetica,sans-Serif\" font-size=\"14.00\" fill=\"#000000\">value = [25, 53]</text>\n<text text-anchor=\"start\" x=\"783\" y=\"-7.8\" font-family=\"Helvetica,sans-Serif\" font-size=\"14.00\" fill=\"#000000\">class = Survived</text>\n</g>\n<!-- 18&#45;&gt;20 -->\n<g id=\"edge20\" class=\"edge\">\n<title>18&#45;&gt;20</title>\n<path fill=\"none\" stroke=\"#000000\" d=\"M748.0032,-103.9815C760.2066,-94.3313 773.181,-84.0714 785.3261,-74.4673\"/>\n<polygon fill=\"#000000\" stroke=\"#000000\" points=\"787.4982,-77.2118 793.171,-68.2637 783.1562,-71.7211 787.4982,-77.2118\"/>\n</g>\n<!-- 23 -->\n<g id=\"node24\" class=\"node\">\n<title>23</title>\n<path fill=\"#399de5\" stroke=\"#000000\" d=\"M1027,-179.5C1027,-179.5 928,-179.5 928,-179.5 922,-179.5 916,-173.5 916,-167.5 916,-167.5 916,-123.5 916,-123.5 916,-117.5 922,-111.5 928,-111.5 928,-111.5 1027,-111.5 1027,-111.5 1033,-111.5 1039,-117.5 1039,-123.5 1039,-123.5 1039,-167.5 1039,-167.5 1039,-173.5 1033,-179.5 1027,-179.5\"/>\n<text text-anchor=\"start\" x=\"948\" y=\"-164.3\" font-family=\"Helvetica,sans-Serif\" font-size=\"14.00\" fill=\"#000000\">gini = 0.0</text>\n<text text-anchor=\"start\" x=\"938\" y=\"-149.3\" font-family=\"Helvetica,sans-Serif\" font-size=\"14.00\" fill=\"#000000\">samples = 2</text>\n<text text-anchor=\"start\" x=\"936\" y=\"-134.3\" font-family=\"Helvetica,sans-Serif\" font-size=\"14.00\" fill=\"#000000\">value = [0, 2]</text>\n<text text-anchor=\"start\" x=\"924\" y=\"-119.3\" font-family=\"Helvetica,sans-Serif\" font-size=\"14.00\" fill=\"#000000\">class = Survived</text>\n</g>\n<!-- 22&#45;&gt;23 -->\n<g id=\"edge23\" class=\"edge\">\n<title>22&#45;&gt;23</title>\n<path fill=\"none\" stroke=\"#000000\" d=\"M982.0517,-222.8796C981.4243,-212.2134 980.7472,-200.7021 980.1119,-189.9015\"/>\n<polygon fill=\"#000000\" stroke=\"#000000\" points=\"983.5998,-189.5921 979.5185,-179.8149 976.6119,-190.0032 983.5998,-189.5921\"/>\n</g>\n<!-- 24 -->\n<g id=\"node25\" class=\"node\">\n<title>24</title>\n<path fill=\"#e58139\" stroke=\"#000000\" d=\"M1194,-179.5C1194,-179.5 1069,-179.5 1069,-179.5 1063,-179.5 1057,-173.5 1057,-167.5 1057,-167.5 1057,-123.5 1057,-123.5 1057,-117.5 1063,-111.5 1069,-111.5 1069,-111.5 1194,-111.5 1194,-111.5 1200,-111.5 1206,-117.5 1206,-123.5 1206,-123.5 1206,-167.5 1206,-167.5 1206,-173.5 1200,-179.5 1194,-179.5\"/>\n<text text-anchor=\"start\" x=\"1102\" y=\"-164.3\" font-family=\"Helvetica,sans-Serif\" font-size=\"14.00\" fill=\"#000000\">gini = 0.0</text>\n<text text-anchor=\"start\" x=\"1092\" y=\"-149.3\" font-family=\"Helvetica,sans-Serif\" font-size=\"14.00\" fill=\"#000000\">samples = 4</text>\n<text text-anchor=\"start\" x=\"1090\" y=\"-134.3\" font-family=\"Helvetica,sans-Serif\" font-size=\"14.00\" fill=\"#000000\">value = [4, 0]</text>\n<text text-anchor=\"start\" x=\"1065\" y=\"-119.3\" font-family=\"Helvetica,sans-Serif\" font-size=\"14.00\" fill=\"#000000\">class = Not Survived</text>\n</g>\n<!-- 22&#45;&gt;24 -->\n<g id=\"edge24\" class=\"edge\">\n<title>22&#45;&gt;24</title>\n<path fill=\"none\" stroke=\"#000000\" d=\"M1035.9135,-222.8796C1050.5835,-211.0038 1066.5477,-198.0804 1081.1533,-186.2568\"/>\n<polygon fill=\"#000000\" stroke=\"#000000\" points=\"1083.5407,-188.8273 1089.111,-179.8149 1079.1363,-183.3866 1083.5407,-188.8273\"/>\n</g>\n<!-- 26 -->\n<g id=\"node27\" class=\"node\">\n<title>26</title>\n<path fill=\"#e58139\" stroke=\"#000000\" d=\"M1214,-298.5C1214,-298.5 1089,-298.5 1089,-298.5 1083,-298.5 1077,-292.5 1077,-286.5 1077,-286.5 1077,-242.5 1077,-242.5 1077,-236.5 1083,-230.5 1089,-230.5 1089,-230.5 1214,-230.5 1214,-230.5 1220,-230.5 1226,-236.5 1226,-242.5 1226,-242.5 1226,-286.5 1226,-286.5 1226,-292.5 1220,-298.5 1214,-298.5\"/>\n<text text-anchor=\"start\" x=\"1122\" y=\"-283.3\" font-family=\"Helvetica,sans-Serif\" font-size=\"14.00\" fill=\"#000000\">gini = 0.0</text>\n<text text-anchor=\"start\" x=\"1112\" y=\"-268.3\" font-family=\"Helvetica,sans-Serif\" font-size=\"14.00\" fill=\"#000000\">samples = 8</text>\n<text text-anchor=\"start\" x=\"1110\" y=\"-253.3\" font-family=\"Helvetica,sans-Serif\" font-size=\"14.00\" fill=\"#000000\">value = [8, 0]</text>\n<text text-anchor=\"start\" x=\"1085\" y=\"-238.3\" font-family=\"Helvetica,sans-Serif\" font-size=\"14.00\" fill=\"#000000\">class = Not Survived</text>\n</g>\n<!-- 25&#45;&gt;26 -->\n<g id=\"edge26\" class=\"edge\">\n<title>25&#45;&gt;26</title>\n<path fill=\"none\" stroke=\"#000000\" d=\"M1151.5,-341.8796C1151.5,-331.2134 1151.5,-319.7021 1151.5,-308.9015\"/>\n<polygon fill=\"#000000\" stroke=\"#000000\" points=\"1155.0001,-308.8149 1151.5,-298.8149 1148.0001,-308.815 1155.0001,-308.8149\"/>\n</g>\n<!-- 27 -->\n<g id=\"node28\" class=\"node\">\n<title>27</title>\n<path fill=\"#fae6d7\" stroke=\"#000000\" d=\"M1381,-306C1381,-306 1256,-306 1256,-306 1250,-306 1244,-300 1244,-294 1244,-294 1244,-235 1244,-235 1244,-229 1250,-223 1256,-223 1256,-223 1381,-223 1381,-223 1387,-223 1393,-229 1393,-235 1393,-235 1393,-294 1393,-294 1393,-300 1387,-306 1381,-306\"/>\n<text text-anchor=\"start\" x=\"1273\" y=\"-290.8\" font-family=\"Helvetica,sans-Serif\" font-size=\"14.00\" fill=\"#000000\">Fare ≤ 32.881</text>\n<text text-anchor=\"start\" x=\"1280.5\" y=\"-275.8\" font-family=\"Helvetica,sans-Serif\" font-size=\"14.00\" fill=\"#000000\">gini = 0.494</text>\n<text text-anchor=\"start\" x=\"1279\" y=\"-260.8\" font-family=\"Helvetica,sans-Serif\" font-size=\"14.00\" fill=\"#000000\">samples = 9</text>\n<text text-anchor=\"start\" x=\"1277\" y=\"-245.8\" font-family=\"Helvetica,sans-Serif\" font-size=\"14.00\" fill=\"#000000\">value = [5, 4]</text>\n<text text-anchor=\"start\" x=\"1252\" y=\"-230.8\" font-family=\"Helvetica,sans-Serif\" font-size=\"14.00\" fill=\"#000000\">class = Not Survived</text>\n</g>\n<!-- 25&#45;&gt;27 -->\n<g id=\"edge27\" class=\"edge\">\n<title>25&#45;&gt;27</title>\n<path fill=\"none\" stroke=\"#000000\" d=\"M1209.9085,-341.8796C1223.3839,-332.2774 1237.8203,-321.9903 1251.625,-312.1534\"/>\n<polygon fill=\"#000000\" stroke=\"#000000\" points=\"1254.0117,-314.7505 1260.1245,-306.0969 1249.9494,-309.0497 1254.0117,-314.7505\"/>\n</g>\n<!-- 28 -->\n<g id=\"node29\" class=\"node\">\n<title>28</title>\n<path fill=\"#399de5\" stroke=\"#000000\" d=\"M1335,-179.5C1335,-179.5 1236,-179.5 1236,-179.5 1230,-179.5 1224,-173.5 1224,-167.5 1224,-167.5 1224,-123.5 1224,-123.5 1224,-117.5 1230,-111.5 1236,-111.5 1236,-111.5 1335,-111.5 1335,-111.5 1341,-111.5 1347,-117.5 1347,-123.5 1347,-123.5 1347,-167.5 1347,-167.5 1347,-173.5 1341,-179.5 1335,-179.5\"/>\n<text text-anchor=\"start\" x=\"1256\" y=\"-164.3\" font-family=\"Helvetica,sans-Serif\" font-size=\"14.00\" fill=\"#000000\">gini = 0.0</text>\n<text text-anchor=\"start\" x=\"1246\" y=\"-149.3\" font-family=\"Helvetica,sans-Serif\" font-size=\"14.00\" fill=\"#000000\">samples = 2</text>\n<text text-anchor=\"start\" x=\"1244\" y=\"-134.3\" font-family=\"Helvetica,sans-Serif\" font-size=\"14.00\" fill=\"#000000\">value = [0, 2]</text>\n<text text-anchor=\"start\" x=\"1232\" y=\"-119.3\" font-family=\"Helvetica,sans-Serif\" font-size=\"14.00\" fill=\"#000000\">class = Survived</text>\n</g>\n<!-- 27&#45;&gt;28 -->\n<g id=\"edge28\" class=\"edge\">\n<title>27&#45;&gt;28</title>\n<path fill=\"none\" stroke=\"#000000\" d=\"M1306.9582,-222.8796C1303.9699,-212.1034 1300.7423,-200.4647 1297.7205,-189.5677\"/>\n<polygon fill=\"#000000\" stroke=\"#000000\" points=\"1301.061,-188.516 1295.0159,-179.8149 1294.3155,-190.3866 1301.061,-188.516\"/>\n</g>\n<!-- 29 -->\n<g id=\"node30\" class=\"node\">\n<title>29</title>\n<path fill=\"#efb388\" stroke=\"#000000\" d=\"M1502,-187C1502,-187 1377,-187 1377,-187 1371,-187 1365,-181 1365,-175 1365,-175 1365,-116 1365,-116 1365,-110 1371,-104 1377,-104 1377,-104 1502,-104 1502,-104 1508,-104 1514,-110 1514,-116 1514,-116 1514,-175 1514,-175 1514,-181 1508,-187 1502,-187\"/>\n<text text-anchor=\"start\" x=\"1394\" y=\"-171.8\" font-family=\"Helvetica,sans-Serif\" font-size=\"14.00\" fill=\"#000000\">Fare ≤ 37.031</text>\n<text text-anchor=\"start\" x=\"1401.5\" y=\"-156.8\" font-family=\"Helvetica,sans-Serif\" font-size=\"14.00\" fill=\"#000000\">gini = 0.408</text>\n<text text-anchor=\"start\" x=\"1400\" y=\"-141.8\" font-family=\"Helvetica,sans-Serif\" font-size=\"14.00\" fill=\"#000000\">samples = 7</text>\n<text text-anchor=\"start\" x=\"1398\" y=\"-126.8\" font-family=\"Helvetica,sans-Serif\" font-size=\"14.00\" fill=\"#000000\">value = [5, 2]</text>\n<text text-anchor=\"start\" x=\"1373\" y=\"-111.8\" font-family=\"Helvetica,sans-Serif\" font-size=\"14.00\" fill=\"#000000\">class = Not Survived</text>\n</g>\n<!-- 27&#45;&gt;29 -->\n<g id=\"edge29\" class=\"edge\">\n<title>27&#45;&gt;29</title>\n<path fill=\"none\" stroke=\"#000000\" d=\"M1360.8199,-222.8796C1370.1608,-213.6931 1380.139,-203.8798 1389.744,-194.4336\"/>\n<polygon fill=\"#000000\" stroke=\"#000000\" points=\"1392.3238,-196.8054 1396.9994,-187.2981 1387.4155,-191.8146 1392.3238,-196.8054\"/>\n</g>\n<!-- 30 -->\n<g id=\"node31\" class=\"node\">\n<title>30</title>\n<path fill=\"#e58139\" stroke=\"#000000\" d=\"M1335,-68C1335,-68 1210,-68 1210,-68 1204,-68 1198,-62 1198,-56 1198,-56 1198,-12 1198,-12 1198,-6 1204,0 1210,0 1210,0 1335,0 1335,0 1341,0 1347,-6 1347,-12 1347,-12 1347,-56 1347,-56 1347,-62 1341,-68 1335,-68\"/>\n<text text-anchor=\"start\" x=\"1243\" y=\"-52.8\" font-family=\"Helvetica,sans-Serif\" font-size=\"14.00\" fill=\"#000000\">gini = 0.0</text>\n<text text-anchor=\"start\" x=\"1233\" y=\"-37.8\" font-family=\"Helvetica,sans-Serif\" font-size=\"14.00\" fill=\"#000000\">samples = 3</text>\n<text text-anchor=\"start\" x=\"1231\" y=\"-22.8\" font-family=\"Helvetica,sans-Serif\" font-size=\"14.00\" fill=\"#000000\">value = [3, 0]</text>\n<text text-anchor=\"start\" x=\"1206\" y=\"-7.8\" font-family=\"Helvetica,sans-Serif\" font-size=\"14.00\" fill=\"#000000\">class = Not Survived</text>\n</g>\n<!-- 29&#45;&gt;30 -->\n<g id=\"edge30\" class=\"edge\">\n<title>29&#45;&gt;30</title>\n<path fill=\"none\" stroke=\"#000000\" d=\"M1377.3154,-103.9815C1362.5089,-94.0957 1346.7441,-83.5701 1332.0585,-73.7651\"/>\n<polygon fill=\"#000000\" stroke=\"#000000\" points=\"1333.8122,-70.7276 1323.552,-68.0856 1329.9252,-76.5493 1333.8122,-70.7276\"/>\n</g>\n<!-- 31 -->\n<g id=\"node32\" class=\"node\">\n<title>31</title>\n<path fill=\"#ffffff\" stroke=\"#000000\" d=\"M1502,-68C1502,-68 1377,-68 1377,-68 1371,-68 1365,-62 1365,-56 1365,-56 1365,-12 1365,-12 1365,-6 1371,0 1377,0 1377,0 1502,0 1502,0 1508,0 1514,-6 1514,-12 1514,-12 1514,-56 1514,-56 1514,-62 1508,-68 1502,-68\"/>\n<text text-anchor=\"start\" x=\"1410\" y=\"-52.8\" font-family=\"Helvetica,sans-Serif\" font-size=\"14.00\" fill=\"#000000\">gini = 0.5</text>\n<text text-anchor=\"start\" x=\"1400\" y=\"-37.8\" font-family=\"Helvetica,sans-Serif\" font-size=\"14.00\" fill=\"#000000\">samples = 4</text>\n<text text-anchor=\"start\" x=\"1398\" y=\"-22.8\" font-family=\"Helvetica,sans-Serif\" font-size=\"14.00\" fill=\"#000000\">value = [2, 2]</text>\n<text text-anchor=\"start\" x=\"1373\" y=\"-7.8\" font-family=\"Helvetica,sans-Serif\" font-size=\"14.00\" fill=\"#000000\">class = Not Survived</text>\n</g>\n<!-- 29&#45;&gt;31 -->\n<g id=\"edge31\" class=\"edge\">\n<title>29&#45;&gt;31</title>\n<path fill=\"none\" stroke=\"#000000\" d=\"M1439.5,-103.9815C1439.5,-95.618 1439.5,-86.7965 1439.5,-78.3409\"/>\n<polygon fill=\"#000000\" stroke=\"#000000\" points=\"1443.0001,-78.2636 1439.5,-68.2637 1436.0001,-78.2637 1443.0001,-78.2636\"/>\n</g>\n<!-- 33 -->\n<g id=\"node34\" class=\"node\">\n<title>33</title>\n<path fill=\"#fae8db\" stroke=\"#000000\" d=\"M2292,-544C2292,-544 2167,-544 2167,-544 2161,-544 2155,-538 2155,-532 2155,-532 2155,-473 2155,-473 2155,-467 2161,-461 2167,-461 2167,-461 2292,-461 2292,-461 2298,-461 2304,-467 2304,-473 2304,-473 2304,-532 2304,-532 2304,-538 2298,-544 2292,-544\"/>\n<text text-anchor=\"start\" x=\"2192\" y=\"-528.8\" font-family=\"Helvetica,sans-Serif\" font-size=\"14.00\" fill=\"#000000\">SibSp ≤ 2.5</text>\n<text text-anchor=\"start\" x=\"2191.5\" y=\"-513.8\" font-family=\"Helvetica,sans-Serif\" font-size=\"14.00\" fill=\"#000000\">gini = 0.495</text>\n<text text-anchor=\"start\" x=\"2185.5\" y=\"-498.8\" font-family=\"Helvetica,sans-Serif\" font-size=\"14.00\" fill=\"#000000\">samples = 40</text>\n<text text-anchor=\"start\" x=\"2179.5\" y=\"-483.8\" font-family=\"Helvetica,sans-Serif\" font-size=\"14.00\" fill=\"#000000\">value = [22, 18]</text>\n<text text-anchor=\"start\" x=\"2163\" y=\"-468.8\" font-family=\"Helvetica,sans-Serif\" font-size=\"14.00\" fill=\"#000000\">class = Not Survived</text>\n</g>\n<!-- 32&#45;&gt;33 -->\n<g id=\"edge33\" class=\"edge\">\n<title>32&#45;&gt;33</title>\n<path fill=\"none\" stroke=\"#000000\" d=\"M2229.5,-579.8796C2229.5,-571.6838 2229.5,-562.9891 2229.5,-554.5013\"/>\n<polygon fill=\"#000000\" stroke=\"#000000\" points=\"2233.0001,-554.298 2229.5,-544.2981 2226.0001,-554.2981 2233.0001,-554.298\"/>\n</g>\n<!-- 50 -->\n<g id=\"node51\" class=\"node\">\n<title>50</title>\n<path fill=\"#e89253\" stroke=\"#000000\" d=\"M3151,-544C3151,-544 3026,-544 3026,-544 3020,-544 3014,-538 3014,-532 3014,-532 3014,-473 3014,-473 3014,-467 3020,-461 3026,-461 3026,-461 3151,-461 3151,-461 3157,-461 3163,-467 3163,-473 3163,-473 3163,-532 3163,-532 3163,-538 3157,-544 3151,-544\"/>\n<text text-anchor=\"start\" x=\"3049\" y=\"-528.8\" font-family=\"Helvetica,sans-Serif\" font-size=\"14.00\" fill=\"#000000\">Pclass ≤ 1.5</text>\n<text text-anchor=\"start\" x=\"3050.5\" y=\"-513.8\" font-family=\"Helvetica,sans-Serif\" font-size=\"14.00\" fill=\"#000000\">gini = 0.207</text>\n<text text-anchor=\"start\" x=\"3040.5\" y=\"-498.8\" font-family=\"Helvetica,sans-Serif\" font-size=\"14.00\" fill=\"#000000\">samples = 485</text>\n<text text-anchor=\"start\" x=\"3034.5\" y=\"-483.8\" font-family=\"Helvetica,sans-Serif\" font-size=\"14.00\" fill=\"#000000\">value = [428, 57]</text>\n<text text-anchor=\"start\" x=\"3022\" y=\"-468.8\" font-family=\"Helvetica,sans-Serif\" font-size=\"14.00\" fill=\"#000000\">class = Not Survived</text>\n</g>\n<!-- 32&#45;&gt;50 -->\n<g id=\"edge50\" class=\"edge\">\n<title>32&#45;&gt;50</title>\n<path fill=\"none\" stroke=\"#000000\" d=\"M2304.2279,-611.1477C2463.6322,-589.0649 2836.1351,-537.4609 3003.9228,-514.2168\"/>\n<polygon fill=\"#000000\" stroke=\"#000000\" points=\"3004.5208,-517.6674 3013.9459,-512.8282 3003.5602,-510.7336 3004.5208,-517.6674\"/>\n</g>\n<!-- 34 -->\n<g id=\"node35\" class=\"node\">\n<title>34</title>\n<path fill=\"#a7d3f3\" stroke=\"#000000\" d=\"M2202,-425C2202,-425 2103,-425 2103,-425 2097,-425 2091,-419 2091,-413 2091,-413 2091,-354 2091,-354 2091,-348 2097,-342 2103,-342 2103,-342 2202,-342 2202,-342 2208,-342 2214,-348 2214,-354 2214,-354 2214,-413 2214,-413 2214,-419 2208,-425 2202,-425\"/>\n<text text-anchor=\"start\" x=\"2107\" y=\"-409.8\" font-family=\"Helvetica,sans-Serif\" font-size=\"14.00\" fill=\"#000000\">Fare ≤ 15.573</text>\n<text text-anchor=\"start\" x=\"2114.5\" y=\"-394.8\" font-family=\"Helvetica,sans-Serif\" font-size=\"14.00\" fill=\"#000000\">gini = 0.459</text>\n<text text-anchor=\"start\" x=\"2108.5\" y=\"-379.8\" font-family=\"Helvetica,sans-Serif\" font-size=\"14.00\" fill=\"#000000\">samples = 28</text>\n<text text-anchor=\"start\" x=\"2102.5\" y=\"-364.8\" font-family=\"Helvetica,sans-Serif\" font-size=\"14.00\" fill=\"#000000\">value = [10, 18]</text>\n<text text-anchor=\"start\" x=\"2099\" y=\"-349.8\" font-family=\"Helvetica,sans-Serif\" font-size=\"14.00\" fill=\"#000000\">class = Survived</text>\n</g>\n<!-- 33&#45;&gt;34 -->\n<g id=\"edge34\" class=\"edge\">\n<title>33&#45;&gt;34</title>\n<path fill=\"none\" stroke=\"#000000\" d=\"M2202.5691,-460.8796C2196.9163,-452.1434 2190.8967,-442.8404 2185.0634,-433.8253\"/>\n<polygon fill=\"#000000\" stroke=\"#000000\" points=\"2187.9169,-431.7924 2179.5458,-425.2981 2182.0399,-435.5952 2187.9169,-431.7924\"/>\n</g>\n<!-- 49 -->\n<g id=\"node50\" class=\"node\">\n<title>49</title>\n<path fill=\"#e58139\" stroke=\"#000000\" d=\"M2369,-417.5C2369,-417.5 2244,-417.5 2244,-417.5 2238,-417.5 2232,-411.5 2232,-405.5 2232,-405.5 2232,-361.5 2232,-361.5 2232,-355.5 2238,-349.5 2244,-349.5 2244,-349.5 2369,-349.5 2369,-349.5 2375,-349.5 2381,-355.5 2381,-361.5 2381,-361.5 2381,-405.5 2381,-405.5 2381,-411.5 2375,-417.5 2369,-417.5\"/>\n<text text-anchor=\"start\" x=\"2277\" y=\"-402.3\" font-family=\"Helvetica,sans-Serif\" font-size=\"14.00\" fill=\"#000000\">gini = 0.0</text>\n<text text-anchor=\"start\" x=\"2262.5\" y=\"-387.3\" font-family=\"Helvetica,sans-Serif\" font-size=\"14.00\" fill=\"#000000\">samples = 12</text>\n<text text-anchor=\"start\" x=\"2261\" y=\"-372.3\" font-family=\"Helvetica,sans-Serif\" font-size=\"14.00\" fill=\"#000000\">value = [12, 0]</text>\n<text text-anchor=\"start\" x=\"2240\" y=\"-357.3\" font-family=\"Helvetica,sans-Serif\" font-size=\"14.00\" fill=\"#000000\">class = Not Survived</text>\n</g>\n<!-- 33&#45;&gt;49 -->\n<g id=\"edge49\" class=\"edge\">\n<title>33&#45;&gt;49</title>\n<path fill=\"none\" stroke=\"#000000\" d=\"M2256.4309,-460.8796C2263.6883,-449.6636 2271.5503,-437.5131 2278.8465,-426.2372\"/>\n<polygon fill=\"#000000\" stroke=\"#000000\" points=\"2281.8022,-428.112 2284.2962,-417.8149 2275.9252,-424.3093 2281.8022,-428.112\"/>\n</g>\n<!-- 35 -->\n<g id=\"node36\" class=\"node\">\n<title>35</title>\n<path fill=\"#fbeade\" stroke=\"#000000\" d=\"M2061,-306C2061,-306 1936,-306 1936,-306 1930,-306 1924,-300 1924,-294 1924,-294 1924,-235 1924,-235 1924,-229 1930,-223 1936,-223 1936,-223 2061,-223 2061,-223 2067,-223 2073,-229 2073,-235 2073,-235 2073,-294 2073,-294 2073,-300 2067,-306 2061,-306\"/>\n<text text-anchor=\"start\" x=\"1953\" y=\"-290.8\" font-family=\"Helvetica,sans-Serif\" font-size=\"14.00\" fill=\"#000000\">Fare ≤ 13.125</text>\n<text text-anchor=\"start\" x=\"1960.5\" y=\"-275.8\" font-family=\"Helvetica,sans-Serif\" font-size=\"14.00\" fill=\"#000000\">gini = 0.496</text>\n<text text-anchor=\"start\" x=\"1954.5\" y=\"-260.8\" font-family=\"Helvetica,sans-Serif\" font-size=\"14.00\" fill=\"#000000\">samples = 11</text>\n<text text-anchor=\"start\" x=\"1957\" y=\"-245.8\" font-family=\"Helvetica,sans-Serif\" font-size=\"14.00\" fill=\"#000000\">value = [6, 5]</text>\n<text text-anchor=\"start\" x=\"1932\" y=\"-230.8\" font-family=\"Helvetica,sans-Serif\" font-size=\"14.00\" fill=\"#000000\">class = Not Survived</text>\n</g>\n<!-- 34&#45;&gt;35 -->\n<g id=\"edge35\" class=\"edge\">\n<title>34&#45;&gt;35</title>\n<path fill=\"none\" stroke=\"#000000\" d=\"M2098.6383,-341.8796C2086.3291,-332.368 2073.1503,-322.1843 2060.5296,-312.432\"/>\n<polygon fill=\"#000000\" stroke=\"#000000\" points=\"2062.3843,-309.4419 2052.3313,-306.0969 2058.1041,-314.9809 2062.3843,-309.4419\"/>\n</g>\n<!-- 42 -->\n<g id=\"node43\" class=\"node\">\n<title>42</title>\n<path fill=\"#76bbed\" stroke=\"#000000\" d=\"M2362,-306C2362,-306 2263,-306 2263,-306 2257,-306 2251,-300 2251,-294 2251,-294 2251,-235 2251,-235 2251,-229 2257,-223 2263,-223 2263,-223 2362,-223 2362,-223 2368,-223 2374,-229 2374,-235 2374,-235 2374,-294 2374,-294 2374,-300 2368,-306 2362,-306\"/>\n<text text-anchor=\"start\" x=\"2275\" y=\"-290.8\" font-family=\"Helvetica,sans-Serif\" font-size=\"14.00\" fill=\"#000000\">SibSp ≤ 0.5</text>\n<text text-anchor=\"start\" x=\"2279\" y=\"-275.8\" font-family=\"Helvetica,sans-Serif\" font-size=\"14.00\" fill=\"#000000\">gini = 0.36</text>\n<text text-anchor=\"start\" x=\"2268.5\" y=\"-260.8\" font-family=\"Helvetica,sans-Serif\" font-size=\"14.00\" fill=\"#000000\">samples = 17</text>\n<text text-anchor=\"start\" x=\"2267\" y=\"-245.8\" font-family=\"Helvetica,sans-Serif\" font-size=\"14.00\" fill=\"#000000\">value = [4, 13]</text>\n<text text-anchor=\"start\" x=\"2259\" y=\"-230.8\" font-family=\"Helvetica,sans-Serif\" font-size=\"14.00\" fill=\"#000000\">class = Survived</text>\n</g>\n<!-- 34&#45;&gt;42 -->\n<g id=\"edge42\" class=\"edge\">\n<title>34&#45;&gt;42</title>\n<path fill=\"none\" stroke=\"#000000\" d=\"M2208.4602,-341.8796C2221.3708,-332.2774 2235.2021,-321.9903 2248.4282,-312.1534\"/>\n<polygon fill=\"#000000\" stroke=\"#000000\" points=\"2250.6361,-314.8732 2256.5714,-306.0969 2246.4586,-309.2564 2250.6361,-314.8732\"/>\n</g>\n<!-- 36 -->\n<g id=\"node37\" class=\"node\">\n<title>36</title>\n<path fill=\"#9ccef2\" stroke=\"#000000\" d=\"M1810,-187C1810,-187 1711,-187 1711,-187 1705,-187 1699,-181 1699,-175 1699,-175 1699,-116 1699,-116 1699,-110 1705,-104 1711,-104 1711,-104 1810,-104 1810,-104 1816,-104 1822,-110 1822,-116 1822,-116 1822,-175 1822,-175 1822,-181 1816,-187 1810,-187\"/>\n<text text-anchor=\"start\" x=\"1715\" y=\"-171.8\" font-family=\"Helvetica,sans-Serif\" font-size=\"14.00\" fill=\"#000000\">Fare ≤ 10.242</text>\n<text text-anchor=\"start\" x=\"1722.5\" y=\"-156.8\" font-family=\"Helvetica,sans-Serif\" font-size=\"14.00\" fill=\"#000000\">gini = 0.444</text>\n<text text-anchor=\"start\" x=\"1721\" y=\"-141.8\" font-family=\"Helvetica,sans-Serif\" font-size=\"14.00\" fill=\"#000000\">samples = 6</text>\n<text text-anchor=\"start\" x=\"1719\" y=\"-126.8\" font-family=\"Helvetica,sans-Serif\" font-size=\"14.00\" fill=\"#000000\">value = [2, 4]</text>\n<text text-anchor=\"start\" x=\"1707\" y=\"-111.8\" font-family=\"Helvetica,sans-Serif\" font-size=\"14.00\" fill=\"#000000\">class = Survived</text>\n</g>\n<!-- 35&#45;&gt;36 -->\n<g id=\"edge36\" class=\"edge\">\n<title>35&#45;&gt;36</title>\n<path fill=\"none\" stroke=\"#000000\" d=\"M1923.8483,-227.1742C1894.3258,-212.4129 1860.5536,-195.5268 1831.4086,-180.9543\"/>\n<polygon fill=\"#000000\" stroke=\"#000000\" points=\"1832.6293,-177.6516 1822.1198,-176.3099 1829.4988,-183.9126 1832.6293,-177.6516\"/>\n</g>\n<!-- 39 -->\n<g id=\"node40\" class=\"node\">\n<title>39</title>\n<path fill=\"#eca06a\" stroke=\"#000000\" d=\"M2061,-187C2061,-187 1936,-187 1936,-187 1930,-187 1924,-181 1924,-175 1924,-175 1924,-116 1924,-116 1924,-110 1930,-104 1936,-104 1936,-104 2061,-104 2061,-104 2067,-104 2073,-110 2073,-116 2073,-116 2073,-175 2073,-175 2073,-181 2067,-187 2061,-187\"/>\n<text text-anchor=\"start\" x=\"1963.5\" y=\"-171.8\" font-family=\"Helvetica,sans-Serif\" font-size=\"14.00\" fill=\"#000000\">Age ≤ 0.71</text>\n<text text-anchor=\"start\" x=\"1965\" y=\"-156.8\" font-family=\"Helvetica,sans-Serif\" font-size=\"14.00\" fill=\"#000000\">gini = 0.32</text>\n<text text-anchor=\"start\" x=\"1959\" y=\"-141.8\" font-family=\"Helvetica,sans-Serif\" font-size=\"14.00\" fill=\"#000000\">samples = 5</text>\n<text text-anchor=\"start\" x=\"1957\" y=\"-126.8\" font-family=\"Helvetica,sans-Serif\" font-size=\"14.00\" fill=\"#000000\">value = [4, 1]</text>\n<text text-anchor=\"start\" x=\"1932\" y=\"-111.8\" font-family=\"Helvetica,sans-Serif\" font-size=\"14.00\" fill=\"#000000\">class = Not Survived</text>\n</g>\n<!-- 35&#45;&gt;39 -->\n<g id=\"edge39\" class=\"edge\">\n<title>35&#45;&gt;39</title>\n<path fill=\"none\" stroke=\"#000000\" d=\"M1998.5,-222.8796C1998.5,-214.6838 1998.5,-205.9891 1998.5,-197.5013\"/>\n<polygon fill=\"#000000\" stroke=\"#000000\" points=\"2002.0001,-197.298 1998.5,-187.2981 1995.0001,-197.2981 2002.0001,-197.298\"/>\n</g>\n<!-- 37 -->\n<g id=\"node38\" class=\"node\">\n<title>37</title>\n<path fill=\"#f2c09c\" stroke=\"#000000\" d=\"M1669,-68C1669,-68 1544,-68 1544,-68 1538,-68 1532,-62 1532,-56 1532,-56 1532,-12 1532,-12 1532,-6 1538,0 1544,0 1544,0 1669,0 1669,0 1675,0 1681,-6 1681,-12 1681,-12 1681,-56 1681,-56 1681,-62 1675,-68 1669,-68\"/>\n<text text-anchor=\"start\" x=\"1568.5\" y=\"-52.8\" font-family=\"Helvetica,sans-Serif\" font-size=\"14.00\" fill=\"#000000\">gini = 0.444</text>\n<text text-anchor=\"start\" x=\"1567\" y=\"-37.8\" font-family=\"Helvetica,sans-Serif\" font-size=\"14.00\" fill=\"#000000\">samples = 3</text>\n<text text-anchor=\"start\" x=\"1565\" y=\"-22.8\" font-family=\"Helvetica,sans-Serif\" font-size=\"14.00\" fill=\"#000000\">value = [2, 1]</text>\n<text text-anchor=\"start\" x=\"1540\" y=\"-7.8\" font-family=\"Helvetica,sans-Serif\" font-size=\"14.00\" fill=\"#000000\">class = Not Survived</text>\n</g>\n<!-- 36&#45;&gt;37 -->\n<g id=\"edge37\" class=\"edge\">\n<title>36&#45;&gt;37</title>\n<path fill=\"none\" stroke=\"#000000\" d=\"M1703.1561,-103.9815C1689.7006,-94.2394 1675.3869,-83.8759 1662.0133,-74.193\"/>\n<polygon fill=\"#000000\" stroke=\"#000000\" points=\"1663.9763,-71.2933 1653.8238,-68.2637 1659.8711,-76.9632 1663.9763,-71.2933\"/>\n</g>\n<!-- 38 -->\n<g id=\"node39\" class=\"node\">\n<title>38</title>\n<path fill=\"#399de5\" stroke=\"#000000\" d=\"M1810,-68C1810,-68 1711,-68 1711,-68 1705,-68 1699,-62 1699,-56 1699,-56 1699,-12 1699,-12 1699,-6 1705,0 1711,0 1711,0 1810,0 1810,0 1816,0 1822,-6 1822,-12 1822,-12 1822,-56 1822,-56 1822,-62 1816,-68 1810,-68\"/>\n<text text-anchor=\"start\" x=\"1731\" y=\"-52.8\" font-family=\"Helvetica,sans-Serif\" font-size=\"14.00\" fill=\"#000000\">gini = 0.0</text>\n<text text-anchor=\"start\" x=\"1721\" y=\"-37.8\" font-family=\"Helvetica,sans-Serif\" font-size=\"14.00\" fill=\"#000000\">samples = 3</text>\n<text text-anchor=\"start\" x=\"1719\" y=\"-22.8\" font-family=\"Helvetica,sans-Serif\" font-size=\"14.00\" fill=\"#000000\">value = [0, 3]</text>\n<text text-anchor=\"start\" x=\"1707\" y=\"-7.8\" font-family=\"Helvetica,sans-Serif\" font-size=\"14.00\" fill=\"#000000\">class = Survived</text>\n</g>\n<!-- 36&#45;&gt;38 -->\n<g id=\"edge38\" class=\"edge\">\n<title>36&#45;&gt;38</title>\n<path fill=\"none\" stroke=\"#000000\" d=\"M1760.5,-103.9815C1760.5,-95.618 1760.5,-86.7965 1760.5,-78.3409\"/>\n<polygon fill=\"#000000\" stroke=\"#000000\" points=\"1764.0001,-78.2636 1760.5,-68.2637 1757.0001,-78.2637 1764.0001,-78.2636\"/>\n</g>\n<!-- 40 -->\n<g id=\"node41\" class=\"node\">\n<title>40</title>\n<path fill=\"#ffffff\" stroke=\"#000000\" d=\"M1977,-68C1977,-68 1852,-68 1852,-68 1846,-68 1840,-62 1840,-56 1840,-56 1840,-12 1840,-12 1840,-6 1846,0 1852,0 1852,0 1977,0 1977,0 1983,0 1989,-6 1989,-12 1989,-12 1989,-56 1989,-56 1989,-62 1983,-68 1977,-68\"/>\n<text text-anchor=\"start\" x=\"1885\" y=\"-52.8\" font-family=\"Helvetica,sans-Serif\" font-size=\"14.00\" fill=\"#000000\">gini = 0.5</text>\n<text text-anchor=\"start\" x=\"1875\" y=\"-37.8\" font-family=\"Helvetica,sans-Serif\" font-size=\"14.00\" fill=\"#000000\">samples = 2</text>\n<text text-anchor=\"start\" x=\"1873\" y=\"-22.8\" font-family=\"Helvetica,sans-Serif\" font-size=\"14.00\" fill=\"#000000\">value = [1, 1]</text>\n<text text-anchor=\"start\" x=\"1848\" y=\"-7.8\" font-family=\"Helvetica,sans-Serif\" font-size=\"14.00\" fill=\"#000000\">class = Not Survived</text>\n</g>\n<!-- 39&#45;&gt;40 -->\n<g id=\"edge40\" class=\"edge\">\n<title>39&#45;&gt;40</title>\n<path fill=\"none\" stroke=\"#000000\" d=\"M1967.2215,-103.9815C1960.4361,-94.9747 1953.2505,-85.4367 1946.4399,-76.3965\"/>\n<polygon fill=\"#000000\" stroke=\"#000000\" points=\"1949.1257,-74.1448 1940.313,-68.2637 1943.5347,-78.3568 1949.1257,-74.1448\"/>\n</g>\n<!-- 41 -->\n<g id=\"node42\" class=\"node\">\n<title>41</title>\n<path fill=\"#e58139\" stroke=\"#000000\" d=\"M2144,-68C2144,-68 2019,-68 2019,-68 2013,-68 2007,-62 2007,-56 2007,-56 2007,-12 2007,-12 2007,-6 2013,0 2019,0 2019,0 2144,0 2144,0 2150,0 2156,-6 2156,-12 2156,-12 2156,-56 2156,-56 2156,-62 2150,-68 2144,-68\"/>\n<text text-anchor=\"start\" x=\"2052\" y=\"-52.8\" font-family=\"Helvetica,sans-Serif\" font-size=\"14.00\" fill=\"#000000\">gini = 0.0</text>\n<text text-anchor=\"start\" x=\"2042\" y=\"-37.8\" font-family=\"Helvetica,sans-Serif\" font-size=\"14.00\" fill=\"#000000\">samples = 3</text>\n<text text-anchor=\"start\" x=\"2040\" y=\"-22.8\" font-family=\"Helvetica,sans-Serif\" font-size=\"14.00\" fill=\"#000000\">value = [3, 0]</text>\n<text text-anchor=\"start\" x=\"2015\" y=\"-7.8\" font-family=\"Helvetica,sans-Serif\" font-size=\"14.00\" fill=\"#000000\">class = Not Survived</text>\n</g>\n<!-- 39&#45;&gt;41 -->\n<g id=\"edge41\" class=\"edge\">\n<title>39&#45;&gt;41</title>\n<path fill=\"none\" stroke=\"#000000\" d=\"M2029.4061,-103.9815C2036.1108,-94.9747 2043.2108,-85.4367 2049.9403,-76.3965\"/>\n<polygon fill=\"#000000\" stroke=\"#000000\" points=\"2052.8306,-78.3752 2055.9943,-68.2637 2047.2155,-74.1953 2052.8306,-78.3752\"/>\n</g>\n<!-- 43 -->\n<g id=\"node44\" class=\"node\">\n<title>43</title>\n<path fill=\"#ffffff\" stroke=\"#000000\" d=\"M2375,-187C2375,-187 2250,-187 2250,-187 2244,-187 2238,-181 2238,-175 2238,-175 2238,-116 2238,-116 2238,-110 2244,-104 2250,-104 2250,-104 2375,-104 2375,-104 2381,-104 2387,-110 2387,-116 2387,-116 2387,-175 2387,-175 2387,-181 2381,-187 2375,-187\"/>\n<text text-anchor=\"start\" x=\"2281.5\" y=\"-171.8\" font-family=\"Helvetica,sans-Serif\" font-size=\"14.00\" fill=\"#000000\">Age ≤ 5.0</text>\n<text text-anchor=\"start\" x=\"2283\" y=\"-156.8\" font-family=\"Helvetica,sans-Serif\" font-size=\"14.00\" fill=\"#000000\">gini = 0.5</text>\n<text text-anchor=\"start\" x=\"2273\" y=\"-141.8\" font-family=\"Helvetica,sans-Serif\" font-size=\"14.00\" fill=\"#000000\">samples = 6</text>\n<text text-anchor=\"start\" x=\"2271\" y=\"-126.8\" font-family=\"Helvetica,sans-Serif\" font-size=\"14.00\" fill=\"#000000\">value = [3, 3]</text>\n<text text-anchor=\"start\" x=\"2246\" y=\"-111.8\" font-family=\"Helvetica,sans-Serif\" font-size=\"14.00\" fill=\"#000000\">class = Not Survived</text>\n</g>\n<!-- 42&#45;&gt;43 -->\n<g id=\"edge43\" class=\"edge\">\n<title>42&#45;&gt;43</title>\n<path fill=\"none\" stroke=\"#000000\" d=\"M2312.5,-222.8796C2312.5,-214.6838 2312.5,-205.9891 2312.5,-197.5013\"/>\n<polygon fill=\"#000000\" stroke=\"#000000\" points=\"2316.0001,-197.298 2312.5,-187.2981 2309.0001,-197.2981 2316.0001,-197.298\"/>\n</g>\n<!-- 46 -->\n<g id=\"node47\" class=\"node\">\n<title>46</title>\n<path fill=\"#4da7e8\" stroke=\"#000000\" d=\"M2593,-187C2593,-187 2494,-187 2494,-187 2488,-187 2482,-181 2482,-175 2482,-175 2482,-116 2482,-116 2482,-110 2488,-104 2494,-104 2494,-104 2593,-104 2593,-104 2599,-104 2605,-110 2605,-116 2605,-116 2605,-175 2605,-175 2605,-181 2599,-187 2593,-187\"/>\n<text text-anchor=\"start\" x=\"2512.5\" y=\"-171.8\" font-family=\"Helvetica,sans-Serif\" font-size=\"14.00\" fill=\"#000000\">Age ≤ 2.5</text>\n<text text-anchor=\"start\" x=\"2505.5\" y=\"-156.8\" font-family=\"Helvetica,sans-Serif\" font-size=\"14.00\" fill=\"#000000\">gini = 0.165</text>\n<text text-anchor=\"start\" x=\"2499.5\" y=\"-141.8\" font-family=\"Helvetica,sans-Serif\" font-size=\"14.00\" fill=\"#000000\">samples = 11</text>\n<text text-anchor=\"start\" x=\"2498\" y=\"-126.8\" font-family=\"Helvetica,sans-Serif\" font-size=\"14.00\" fill=\"#000000\">value = [1, 10]</text>\n<text text-anchor=\"start\" x=\"2490\" y=\"-111.8\" font-family=\"Helvetica,sans-Serif\" font-size=\"14.00\" fill=\"#000000\">class = Survived</text>\n</g>\n<!-- 42&#45;&gt;46 -->\n<g id=\"edge46\" class=\"edge\">\n<title>42&#45;&gt;46</title>\n<path fill=\"none\" stroke=\"#000000\" d=\"M2374.1003,-232.7665C2404.39,-217.1627 2441.0548,-198.2748 2472.5166,-182.0672\"/>\n<polygon fill=\"#000000\" stroke=\"#000000\" points=\"2474.3835,-185.0427 2481.6704,-177.3516 2471.1777,-178.8198 2474.3835,-185.0427\"/>\n</g>\n<!-- 44 -->\n<g id=\"node45\" class=\"node\">\n<title>44</title>\n<path fill=\"#399de5\" stroke=\"#000000\" d=\"M2285,-68C2285,-68 2186,-68 2186,-68 2180,-68 2174,-62 2174,-56 2174,-56 2174,-12 2174,-12 2174,-6 2180,0 2186,0 2186,0 2285,0 2285,0 2291,0 2297,-6 2297,-12 2297,-12 2297,-56 2297,-56 2297,-62 2291,-68 2285,-68\"/>\n<text text-anchor=\"start\" x=\"2206\" y=\"-52.8\" font-family=\"Helvetica,sans-Serif\" font-size=\"14.00\" fill=\"#000000\">gini = 0.0</text>\n<text text-anchor=\"start\" x=\"2196\" y=\"-37.8\" font-family=\"Helvetica,sans-Serif\" font-size=\"14.00\" fill=\"#000000\">samples = 2</text>\n<text text-anchor=\"start\" x=\"2194\" y=\"-22.8\" font-family=\"Helvetica,sans-Serif\" font-size=\"14.00\" fill=\"#000000\">value = [0, 2]</text>\n<text text-anchor=\"start\" x=\"2182\" y=\"-7.8\" font-family=\"Helvetica,sans-Serif\" font-size=\"14.00\" fill=\"#000000\">class = Survived</text>\n</g>\n<!-- 43&#45;&gt;44 -->\n<g id=\"edge44\" class=\"edge\">\n<title>43&#45;&gt;44</title>\n<path fill=\"none\" stroke=\"#000000\" d=\"M2283.828,-103.9815C2277.6715,-95.0666 2271.1557,-85.6313 2264.9695,-76.6734\"/>\n<polygon fill=\"#000000\" stroke=\"#000000\" points=\"2267.7245,-74.5034 2259.1619,-68.2637 2261.9645,-78.4811 2267.7245,-74.5034\"/>\n</g>\n<!-- 45 -->\n<g id=\"node46\" class=\"node\">\n<title>45</title>\n<path fill=\"#eeab7b\" stroke=\"#000000\" d=\"M2452,-68C2452,-68 2327,-68 2327,-68 2321,-68 2315,-62 2315,-56 2315,-56 2315,-12 2315,-12 2315,-6 2321,0 2327,0 2327,0 2452,0 2452,0 2458,0 2464,-6 2464,-12 2464,-12 2464,-56 2464,-56 2464,-62 2458,-68 2452,-68\"/>\n<text text-anchor=\"start\" x=\"2351.5\" y=\"-52.8\" font-family=\"Helvetica,sans-Serif\" font-size=\"14.00\" fill=\"#000000\">gini = 0.375</text>\n<text text-anchor=\"start\" x=\"2350\" y=\"-37.8\" font-family=\"Helvetica,sans-Serif\" font-size=\"14.00\" fill=\"#000000\">samples = 4</text>\n<text text-anchor=\"start\" x=\"2348\" y=\"-22.8\" font-family=\"Helvetica,sans-Serif\" font-size=\"14.00\" fill=\"#000000\">value = [3, 1]</text>\n<text text-anchor=\"start\" x=\"2323\" y=\"-7.8\" font-family=\"Helvetica,sans-Serif\" font-size=\"14.00\" fill=\"#000000\">class = Not Survived</text>\n</g>\n<!-- 43&#45;&gt;45 -->\n<g id=\"edge45\" class=\"edge\">\n<title>43&#45;&gt;45</title>\n<path fill=\"none\" stroke=\"#000000\" d=\"M2341.172,-103.9815C2347.3285,-95.0666 2353.8443,-85.6313 2360.0305,-76.6734\"/>\n<polygon fill=\"#000000\" stroke=\"#000000\" points=\"2363.0355,-78.4811 2365.8381,-68.2637 2357.2755,-74.5034 2363.0355,-78.4811\"/>\n</g>\n<!-- 47 -->\n<g id=\"node48\" class=\"node\">\n<title>47</title>\n<path fill=\"#6ab6ec\" stroke=\"#000000\" d=\"M2593,-68C2593,-68 2494,-68 2494,-68 2488,-68 2482,-62 2482,-56 2482,-56 2482,-12 2482,-12 2482,-6 2488,0 2494,0 2494,0 2593,0 2593,0 2599,0 2605,-6 2605,-12 2605,-12 2605,-56 2605,-56 2605,-62 2599,-68 2593,-68\"/>\n<text text-anchor=\"start\" x=\"2510\" y=\"-52.8\" font-family=\"Helvetica,sans-Serif\" font-size=\"14.00\" fill=\"#000000\">gini = 0.32</text>\n<text text-anchor=\"start\" x=\"2504\" y=\"-37.8\" font-family=\"Helvetica,sans-Serif\" font-size=\"14.00\" fill=\"#000000\">samples = 5</text>\n<text text-anchor=\"start\" x=\"2502\" y=\"-22.8\" font-family=\"Helvetica,sans-Serif\" font-size=\"14.00\" fill=\"#000000\">value = [1, 4]</text>\n<text text-anchor=\"start\" x=\"2490\" y=\"-7.8\" font-family=\"Helvetica,sans-Serif\" font-size=\"14.00\" fill=\"#000000\">class = Survived</text>\n</g>\n<!-- 46&#45;&gt;47 -->\n<g id=\"edge47\" class=\"edge\">\n<title>46&#45;&gt;47</title>\n<path fill=\"none\" stroke=\"#000000\" d=\"M2543.5,-103.9815C2543.5,-95.618 2543.5,-86.7965 2543.5,-78.3409\"/>\n<polygon fill=\"#000000\" stroke=\"#000000\" points=\"2547.0001,-78.2636 2543.5,-68.2637 2540.0001,-78.2637 2547.0001,-78.2636\"/>\n</g>\n<!-- 48 -->\n<g id=\"node49\" class=\"node\">\n<title>48</title>\n<path fill=\"#399de5\" stroke=\"#000000\" d=\"M2734,-68C2734,-68 2635,-68 2635,-68 2629,-68 2623,-62 2623,-56 2623,-56 2623,-12 2623,-12 2623,-6 2629,0 2635,0 2635,0 2734,0 2734,0 2740,0 2746,-6 2746,-12 2746,-12 2746,-56 2746,-56 2746,-62 2740,-68 2734,-68\"/>\n<text text-anchor=\"start\" x=\"2655\" y=\"-52.8\" font-family=\"Helvetica,sans-Serif\" font-size=\"14.00\" fill=\"#000000\">gini = 0.0</text>\n<text text-anchor=\"start\" x=\"2645\" y=\"-37.8\" font-family=\"Helvetica,sans-Serif\" font-size=\"14.00\" fill=\"#000000\">samples = 6</text>\n<text text-anchor=\"start\" x=\"2643\" y=\"-22.8\" font-family=\"Helvetica,sans-Serif\" font-size=\"14.00\" fill=\"#000000\">value = [0, 6]</text>\n<text text-anchor=\"start\" x=\"2631\" y=\"-7.8\" font-family=\"Helvetica,sans-Serif\" font-size=\"14.00\" fill=\"#000000\">class = Survived</text>\n</g>\n<!-- 46&#45;&gt;48 -->\n<g id=\"edge48\" class=\"edge\">\n<title>46&#45;&gt;48</title>\n<path fill=\"none\" stroke=\"#000000\" d=\"M2596.0032,-103.9815C2608.2066,-94.3313 2621.181,-84.0714 2633.3261,-74.4673\"/>\n<polygon fill=\"#000000\" stroke=\"#000000\" points=\"2635.4982,-77.2118 2641.171,-68.2637 2631.1562,-71.7211 2635.4982,-77.2118\"/>\n</g>\n<!-- 51 -->\n<g id=\"node52\" class=\"node\">\n<title>51</title>\n<path fill=\"#eeae80\" stroke=\"#000000\" d=\"M3151,-425C3151,-425 3026,-425 3026,-425 3020,-425 3014,-419 3014,-413 3014,-413 3014,-354 3014,-354 3014,-348 3020,-342 3026,-342 3026,-342 3151,-342 3151,-342 3157,-342 3163,-348 3163,-354 3163,-354 3163,-413 3163,-413 3163,-419 3157,-425 3151,-425\"/>\n<text text-anchor=\"start\" x=\"3053.5\" y=\"-409.8\" font-family=\"Helvetica,sans-Serif\" font-size=\"14.00\" fill=\"#000000\">Age ≤ 52.5</text>\n<text text-anchor=\"start\" x=\"3055\" y=\"-394.8\" font-family=\"Helvetica,sans-Serif\" font-size=\"14.00\" fill=\"#000000\">gini = 0.39</text>\n<text text-anchor=\"start\" x=\"3040.5\" y=\"-379.8\" font-family=\"Helvetica,sans-Serif\" font-size=\"14.00\" fill=\"#000000\">samples = 117</text>\n<text text-anchor=\"start\" x=\"3038.5\" y=\"-364.8\" font-family=\"Helvetica,sans-Serif\" font-size=\"14.00\" fill=\"#000000\">value = [86, 31]</text>\n<text text-anchor=\"start\" x=\"3022\" y=\"-349.8\" font-family=\"Helvetica,sans-Serif\" font-size=\"14.00\" fill=\"#000000\">class = Not Survived</text>\n</g>\n<!-- 50&#45;&gt;51 -->\n<g id=\"edge51\" class=\"edge\">\n<title>50&#45;&gt;51</title>\n<path fill=\"none\" stroke=\"#000000\" d=\"M3088.5,-460.8796C3088.5,-452.6838 3088.5,-443.9891 3088.5,-435.5013\"/>\n<polygon fill=\"#000000\" stroke=\"#000000\" points=\"3092.0001,-435.298 3088.5,-425.2981 3085.0001,-435.2981 3092.0001,-435.298\"/>\n</g>\n<!-- 62 -->\n<g id=\"node63\" class=\"node\">\n<title>62</title>\n<path fill=\"#e78b48\" stroke=\"#000000\" d=\"M3819,-425C3819,-425 3694,-425 3694,-425 3688,-425 3682,-419 3682,-413 3682,-413 3682,-354 3682,-354 3682,-348 3688,-342 3694,-342 3694,-342 3819,-342 3819,-342 3825,-342 3831,-348 3831,-354 3831,-354 3831,-413 3831,-413 3831,-419 3825,-425 3819,-425\"/>\n<text text-anchor=\"start\" x=\"3719\" y=\"-409.8\" font-family=\"Helvetica,sans-Serif\" font-size=\"14.00\" fill=\"#000000\">SibSp ≤ 0.5</text>\n<text text-anchor=\"start\" x=\"3718.5\" y=\"-394.8\" font-family=\"Helvetica,sans-Serif\" font-size=\"14.00\" fill=\"#000000\">gini = 0.131</text>\n<text text-anchor=\"start\" x=\"3708.5\" y=\"-379.8\" font-family=\"Helvetica,sans-Serif\" font-size=\"14.00\" fill=\"#000000\">samples = 368</text>\n<text text-anchor=\"start\" x=\"3702.5\" y=\"-364.8\" font-family=\"Helvetica,sans-Serif\" font-size=\"14.00\" fill=\"#000000\">value = [342, 26]</text>\n<text text-anchor=\"start\" x=\"3690\" y=\"-349.8\" font-family=\"Helvetica,sans-Serif\" font-size=\"14.00\" fill=\"#000000\">class = Not Survived</text>\n</g>\n<!-- 50&#45;&gt;62 -->\n<g id=\"edge62\" class=\"edge\">\n<title>50&#45;&gt;62</title>\n<path fill=\"none\" stroke=\"#000000\" d=\"M3163.1837,-489.1956C3288.4417,-466.8816 3540.0495,-422.0593 3671.7426,-398.599\"/>\n<polygon fill=\"#000000\" stroke=\"#000000\" points=\"3672.5556,-402.0094 3681.7867,-396.8097 3671.3279,-395.1179 3672.5556,-402.0094\"/>\n</g>\n<!-- 52 -->\n<g id=\"node53\" class=\"node\">\n<title>52</title>\n<path fill=\"#f1bc96\" stroke=\"#000000\" d=\"M3068,-306C3068,-306 2943,-306 2943,-306 2937,-306 2931,-300 2931,-294 2931,-294 2931,-235 2931,-235 2931,-229 2937,-223 2943,-223 2943,-223 3068,-223 3068,-223 3074,-223 3080,-229 3080,-235 3080,-235 3080,-294 3080,-294 3080,-300 3074,-306 3068,-306\"/>\n<text text-anchor=\"start\" x=\"2960\" y=\"-290.8\" font-family=\"Helvetica,sans-Serif\" font-size=\"14.00\" fill=\"#000000\">Fare ≤ 26.144</text>\n<text text-anchor=\"start\" x=\"2967.5\" y=\"-275.8\" font-family=\"Helvetica,sans-Serif\" font-size=\"14.00\" fill=\"#000000\">gini = 0.434</text>\n<text text-anchor=\"start\" x=\"2961.5\" y=\"-260.8\" font-family=\"Helvetica,sans-Serif\" font-size=\"14.00\" fill=\"#000000\">samples = 91</text>\n<text text-anchor=\"start\" x=\"2955.5\" y=\"-245.8\" font-family=\"Helvetica,sans-Serif\" font-size=\"14.00\" fill=\"#000000\">value = [62, 29]</text>\n<text text-anchor=\"start\" x=\"2939\" y=\"-230.8\" font-family=\"Helvetica,sans-Serif\" font-size=\"14.00\" fill=\"#000000\">class = Not Survived</text>\n</g>\n<!-- 51&#45;&gt;52 -->\n<g id=\"edge52\" class=\"edge\">\n<title>51&#45;&gt;52</title>\n<path fill=\"none\" stroke=\"#000000\" d=\"M3059.4706,-341.8796C3053.3145,-333.0534 3046.7549,-323.6485 3040.4064,-314.5466\"/>\n<polygon fill=\"#000000\" stroke=\"#000000\" points=\"3043.2448,-312.4978 3034.6533,-306.2981 3037.5033,-316.5024 3043.2448,-312.4978\"/>\n</g>\n<!-- 57 -->\n<g id=\"node58\" class=\"node\">\n<title>57</title>\n<path fill=\"#e78c49\" stroke=\"#000000\" d=\"M3235,-306C3235,-306 3110,-306 3110,-306 3104,-306 3098,-300 3098,-294 3098,-294 3098,-235 3098,-235 3098,-229 3104,-223 3110,-223 3110,-223 3235,-223 3235,-223 3241,-223 3247,-229 3247,-235 3247,-235 3247,-294 3247,-294 3247,-300 3241,-306 3235,-306\"/>\n<text text-anchor=\"start\" x=\"3137.5\" y=\"-290.8\" font-family=\"Helvetica,sans-Serif\" font-size=\"14.00\" fill=\"#000000\">Age ≤ 69.0</text>\n<text text-anchor=\"start\" x=\"3134.5\" y=\"-275.8\" font-family=\"Helvetica,sans-Serif\" font-size=\"14.00\" fill=\"#000000\">gini = 0.142</text>\n<text text-anchor=\"start\" x=\"3128.5\" y=\"-260.8\" font-family=\"Helvetica,sans-Serif\" font-size=\"14.00\" fill=\"#000000\">samples = 26</text>\n<text text-anchor=\"start\" x=\"3127\" y=\"-245.8\" font-family=\"Helvetica,sans-Serif\" font-size=\"14.00\" fill=\"#000000\">value = [24, 2]</text>\n<text text-anchor=\"start\" x=\"3106\" y=\"-230.8\" font-family=\"Helvetica,sans-Serif\" font-size=\"14.00\" fill=\"#000000\">class = Not Survived</text>\n</g>\n<!-- 51&#45;&gt;57 -->\n<g id=\"edge57\" class=\"edge\">\n<title>51&#45;&gt;57</title>\n<path fill=\"none\" stroke=\"#000000\" d=\"M3117.8791,-341.8796C3124.1094,-333.0534 3130.7481,-323.6485 3137.173,-314.5466\"/>\n<polygon fill=\"#000000\" stroke=\"#000000\" points=\"3140.088,-316.4862 3142.9955,-306.2981 3134.3692,-312.4494 3140.088,-316.4862\"/>\n</g>\n<!-- 53 -->\n<g id=\"node54\" class=\"node\">\n<title>53</title>\n<path fill=\"#e58139\" stroke=\"#000000\" d=\"M2901,-179.5C2901,-179.5 2776,-179.5 2776,-179.5 2770,-179.5 2764,-173.5 2764,-167.5 2764,-167.5 2764,-123.5 2764,-123.5 2764,-117.5 2770,-111.5 2776,-111.5 2776,-111.5 2901,-111.5 2901,-111.5 2907,-111.5 2913,-117.5 2913,-123.5 2913,-123.5 2913,-167.5 2913,-167.5 2913,-173.5 2907,-179.5 2901,-179.5\"/>\n<text text-anchor=\"start\" x=\"2809\" y=\"-164.3\" font-family=\"Helvetica,sans-Serif\" font-size=\"14.00\" fill=\"#000000\">gini = 0.0</text>\n<text text-anchor=\"start\" x=\"2794.5\" y=\"-149.3\" font-family=\"Helvetica,sans-Serif\" font-size=\"14.00\" fill=\"#000000\">samples = 11</text>\n<text text-anchor=\"start\" x=\"2793\" y=\"-134.3\" font-family=\"Helvetica,sans-Serif\" font-size=\"14.00\" fill=\"#000000\">value = [11, 0]</text>\n<text text-anchor=\"start\" x=\"2772\" y=\"-119.3\" font-family=\"Helvetica,sans-Serif\" font-size=\"14.00\" fill=\"#000000\">class = Not Survived</text>\n</g>\n<!-- 52&#45;&gt;53 -->\n<g id=\"edge53\" class=\"edge\">\n<title>52&#45;&gt;53</title>\n<path fill=\"none\" stroke=\"#000000\" d=\"M2947.0915,-222.8796C2930.036,-210.7263 2911.4409,-197.4759 2894.5359,-185.4297\"/>\n<polygon fill=\"#000000\" stroke=\"#000000\" points=\"2896.562,-182.5759 2886.3869,-179.623 2892.4998,-188.2766 2896.562,-182.5759\"/>\n</g>\n<!-- 54 -->\n<g id=\"node55\" class=\"node\">\n<title>54</title>\n<path fill=\"#f4c9aa\" stroke=\"#000000\" d=\"M3068,-187C3068,-187 2943,-187 2943,-187 2937,-187 2931,-181 2931,-175 2931,-175 2931,-116 2931,-116 2931,-110 2937,-104 2943,-104 2943,-104 3068,-104 3068,-104 3074,-104 3080,-110 3080,-116 3080,-116 3080,-175 3080,-175 3080,-181 3074,-187 3068,-187\"/>\n<text text-anchor=\"start\" x=\"2970.5\" y=\"-171.8\" font-family=\"Helvetica,sans-Serif\" font-size=\"14.00\" fill=\"#000000\">Age ≤ 24.5</text>\n<text text-anchor=\"start\" x=\"2967.5\" y=\"-156.8\" font-family=\"Helvetica,sans-Serif\" font-size=\"14.00\" fill=\"#000000\">gini = 0.462</text>\n<text text-anchor=\"start\" x=\"2961.5\" y=\"-141.8\" font-family=\"Helvetica,sans-Serif\" font-size=\"14.00\" fill=\"#000000\">samples = 80</text>\n<text text-anchor=\"start\" x=\"2955.5\" y=\"-126.8\" font-family=\"Helvetica,sans-Serif\" font-size=\"14.00\" fill=\"#000000\">value = [51, 29]</text>\n<text text-anchor=\"start\" x=\"2939\" y=\"-111.8\" font-family=\"Helvetica,sans-Serif\" font-size=\"14.00\" fill=\"#000000\">class = Not Survived</text>\n</g>\n<!-- 52&#45;&gt;54 -->\n<g id=\"edge54\" class=\"edge\">\n<title>52&#45;&gt;54</title>\n<path fill=\"none\" stroke=\"#000000\" d=\"M3005.5,-222.8796C3005.5,-214.6838 3005.5,-205.9891 3005.5,-197.5013\"/>\n<polygon fill=\"#000000\" stroke=\"#000000\" points=\"3009.0001,-197.298 3005.5,-187.2981 3002.0001,-197.2981 3009.0001,-197.298\"/>\n</g>\n<!-- 55 -->\n<g id=\"node56\" class=\"node\">\n<title>55</title>\n<path fill=\"#e78b48\" stroke=\"#000000\" d=\"M2901,-68C2901,-68 2776,-68 2776,-68 2770,-68 2764,-62 2764,-56 2764,-56 2764,-12 2764,-12 2764,-6 2770,0 2776,0 2776,0 2901,0 2901,0 2907,0 2913,-6 2913,-12 2913,-12 2913,-56 2913,-56 2913,-62 2907,-68 2901,-68\"/>\n<text text-anchor=\"start\" x=\"2800.5\" y=\"-52.8\" font-family=\"Helvetica,sans-Serif\" font-size=\"14.00\" fill=\"#000000\">gini = 0.133</text>\n<text text-anchor=\"start\" x=\"2794.5\" y=\"-37.8\" font-family=\"Helvetica,sans-Serif\" font-size=\"14.00\" fill=\"#000000\">samples = 14</text>\n<text text-anchor=\"start\" x=\"2793\" y=\"-22.8\" font-family=\"Helvetica,sans-Serif\" font-size=\"14.00\" fill=\"#000000\">value = [13, 1]</text>\n<text text-anchor=\"start\" x=\"2772\" y=\"-7.8\" font-family=\"Helvetica,sans-Serif\" font-size=\"14.00\" fill=\"#000000\">class = Not Survived</text>\n</g>\n<!-- 54&#45;&gt;55 -->\n<g id=\"edge55\" class=\"edge\">\n<title>54&#45;&gt;55</title>\n<path fill=\"none\" stroke=\"#000000\" d=\"M2943.3154,-103.9815C2928.5089,-94.0957 2912.7441,-83.5701 2898.0585,-73.7651\"/>\n<polygon fill=\"#000000\" stroke=\"#000000\" points=\"2899.8122,-70.7276 2889.552,-68.0856 2895.9252,-76.5493 2899.8122,-70.7276\"/>\n</g>\n<!-- 56 -->\n<g id=\"node57\" class=\"node\">\n<title>56</title>\n<path fill=\"#f8decb\" stroke=\"#000000\" d=\"M3068,-68C3068,-68 2943,-68 2943,-68 2937,-68 2931,-62 2931,-56 2931,-56 2931,-12 2931,-12 2931,-6 2937,0 2943,0 2943,0 3068,0 3068,0 3074,0 3080,-6 3080,-12 3080,-12 3080,-56 3080,-56 3080,-62 3074,-68 3068,-68\"/>\n<text text-anchor=\"start\" x=\"2967.5\" y=\"-52.8\" font-family=\"Helvetica,sans-Serif\" font-size=\"14.00\" fill=\"#000000\">gini = 0.489</text>\n<text text-anchor=\"start\" x=\"2961.5\" y=\"-37.8\" font-family=\"Helvetica,sans-Serif\" font-size=\"14.00\" fill=\"#000000\">samples = 66</text>\n<text text-anchor=\"start\" x=\"2955.5\" y=\"-22.8\" font-family=\"Helvetica,sans-Serif\" font-size=\"14.00\" fill=\"#000000\">value = [38, 28]</text>\n<text text-anchor=\"start\" x=\"2939\" y=\"-7.8\" font-family=\"Helvetica,sans-Serif\" font-size=\"14.00\" fill=\"#000000\">class = Not Survived</text>\n</g>\n<!-- 54&#45;&gt;56 -->\n<g id=\"edge56\" class=\"edge\">\n<title>54&#45;&gt;56</title>\n<path fill=\"none\" stroke=\"#000000\" d=\"M3005.5,-103.9815C3005.5,-95.618 3005.5,-86.7965 3005.5,-78.3409\"/>\n<polygon fill=\"#000000\" stroke=\"#000000\" points=\"3009.0001,-78.2636 3005.5,-68.2637 3002.0001,-78.2637 3009.0001,-78.2636\"/>\n</g>\n<!-- 58 -->\n<g id=\"node59\" class=\"node\">\n<title>58</title>\n<path fill=\"#e68642\" stroke=\"#000000\" d=\"M3235,-187C3235,-187 3110,-187 3110,-187 3104,-187 3098,-181 3098,-175 3098,-175 3098,-116 3098,-116 3098,-110 3104,-104 3110,-104 3110,-104 3235,-104 3235,-104 3241,-104 3247,-110 3247,-116 3247,-116 3247,-175 3247,-175 3247,-181 3241,-187 3235,-187\"/>\n<text text-anchor=\"start\" x=\"3135.5\" y=\"-171.8\" font-family=\"Helvetica,sans-Serif\" font-size=\"14.00\" fill=\"#000000\">Parch ≤ 0.5</text>\n<text text-anchor=\"start\" x=\"3139\" y=\"-156.8\" font-family=\"Helvetica,sans-Serif\" font-size=\"14.00\" fill=\"#000000\">gini = 0.08</text>\n<text text-anchor=\"start\" x=\"3128.5\" y=\"-141.8\" font-family=\"Helvetica,sans-Serif\" font-size=\"14.00\" fill=\"#000000\">samples = 24</text>\n<text text-anchor=\"start\" x=\"3127\" y=\"-126.8\" font-family=\"Helvetica,sans-Serif\" font-size=\"14.00\" fill=\"#000000\">value = [23, 1]</text>\n<text text-anchor=\"start\" x=\"3106\" y=\"-111.8\" font-family=\"Helvetica,sans-Serif\" font-size=\"14.00\" fill=\"#000000\">class = Not Survived</text>\n</g>\n<!-- 57&#45;&gt;58 -->\n<g id=\"edge58\" class=\"edge\">\n<title>57&#45;&gt;58</title>\n<path fill=\"none\" stroke=\"#000000\" d=\"M3172.5,-222.8796C3172.5,-214.6838 3172.5,-205.9891 3172.5,-197.5013\"/>\n<polygon fill=\"#000000\" stroke=\"#000000\" points=\"3176.0001,-197.298 3172.5,-187.2981 3169.0001,-197.2981 3176.0001,-197.298\"/>\n</g>\n<!-- 61 -->\n<g id=\"node62\" class=\"node\">\n<title>61</title>\n<path fill=\"#ffffff\" stroke=\"#000000\" d=\"M3402,-179.5C3402,-179.5 3277,-179.5 3277,-179.5 3271,-179.5 3265,-173.5 3265,-167.5 3265,-167.5 3265,-123.5 3265,-123.5 3265,-117.5 3271,-111.5 3277,-111.5 3277,-111.5 3402,-111.5 3402,-111.5 3408,-111.5 3414,-117.5 3414,-123.5 3414,-123.5 3414,-167.5 3414,-167.5 3414,-173.5 3408,-179.5 3402,-179.5\"/>\n<text text-anchor=\"start\" x=\"3310\" y=\"-164.3\" font-family=\"Helvetica,sans-Serif\" font-size=\"14.00\" fill=\"#000000\">gini = 0.5</text>\n<text text-anchor=\"start\" x=\"3300\" y=\"-149.3\" font-family=\"Helvetica,sans-Serif\" font-size=\"14.00\" fill=\"#000000\">samples = 2</text>\n<text text-anchor=\"start\" x=\"3298\" y=\"-134.3\" font-family=\"Helvetica,sans-Serif\" font-size=\"14.00\" fill=\"#000000\">value = [1, 1]</text>\n<text text-anchor=\"start\" x=\"3273\" y=\"-119.3\" font-family=\"Helvetica,sans-Serif\" font-size=\"14.00\" fill=\"#000000\">class = Not Survived</text>\n</g>\n<!-- 57&#45;&gt;61 -->\n<g id=\"edge61\" class=\"edge\">\n<title>57&#45;&gt;61</title>\n<path fill=\"none\" stroke=\"#000000\" d=\"M3230.9085,-222.8796C3247.964,-210.7263 3266.5591,-197.4759 3283.4641,-185.4297\"/>\n<polygon fill=\"#000000\" stroke=\"#000000\" points=\"3285.5002,-188.2766 3291.6131,-179.623 3281.438,-182.5759 3285.5002,-188.2766\"/>\n</g>\n<!-- 59 -->\n<g id=\"node60\" class=\"node\">\n<title>59</title>\n<path fill=\"#e58139\" stroke=\"#000000\" d=\"M3235,-68C3235,-68 3110,-68 3110,-68 3104,-68 3098,-62 3098,-56 3098,-56 3098,-12 3098,-12 3098,-6 3104,0 3110,0 3110,0 3235,0 3235,0 3241,0 3247,-6 3247,-12 3247,-12 3247,-56 3247,-56 3247,-62 3241,-68 3235,-68\"/>\n<text text-anchor=\"start\" x=\"3143\" y=\"-52.8\" font-family=\"Helvetica,sans-Serif\" font-size=\"14.00\" fill=\"#000000\">gini = 0.0</text>\n<text text-anchor=\"start\" x=\"3128.5\" y=\"-37.8\" font-family=\"Helvetica,sans-Serif\" font-size=\"14.00\" fill=\"#000000\">samples = 16</text>\n<text text-anchor=\"start\" x=\"3127\" y=\"-22.8\" font-family=\"Helvetica,sans-Serif\" font-size=\"14.00\" fill=\"#000000\">value = [16, 0]</text>\n<text text-anchor=\"start\" x=\"3106\" y=\"-7.8\" font-family=\"Helvetica,sans-Serif\" font-size=\"14.00\" fill=\"#000000\">class = Not Survived</text>\n</g>\n<!-- 58&#45;&gt;59 -->\n<g id=\"edge59\" class=\"edge\">\n<title>58&#45;&gt;59</title>\n<path fill=\"none\" stroke=\"#000000\" d=\"M3172.5,-103.9815C3172.5,-95.618 3172.5,-86.7965 3172.5,-78.3409\"/>\n<polygon fill=\"#000000\" stroke=\"#000000\" points=\"3176.0001,-78.2636 3172.5,-68.2637 3169.0001,-78.2637 3176.0001,-78.2636\"/>\n</g>\n<!-- 60 -->\n<g id=\"node61\" class=\"node\">\n<title>60</title>\n<path fill=\"#e99355\" stroke=\"#000000\" d=\"M3402,-68C3402,-68 3277,-68 3277,-68 3271,-68 3265,-62 3265,-56 3265,-56 3265,-12 3265,-12 3265,-6 3271,0 3277,0 3277,0 3402,0 3402,0 3408,0 3414,-6 3414,-12 3414,-12 3414,-56 3414,-56 3414,-62 3408,-68 3402,-68\"/>\n<text text-anchor=\"start\" x=\"3301.5\" y=\"-52.8\" font-family=\"Helvetica,sans-Serif\" font-size=\"14.00\" fill=\"#000000\">gini = 0.219</text>\n<text text-anchor=\"start\" x=\"3300\" y=\"-37.8\" font-family=\"Helvetica,sans-Serif\" font-size=\"14.00\" fill=\"#000000\">samples = 8</text>\n<text text-anchor=\"start\" x=\"3298\" y=\"-22.8\" font-family=\"Helvetica,sans-Serif\" font-size=\"14.00\" fill=\"#000000\">value = [7, 1]</text>\n<text text-anchor=\"start\" x=\"3273\" y=\"-7.8\" font-family=\"Helvetica,sans-Serif\" font-size=\"14.00\" fill=\"#000000\">class = Not Survived</text>\n</g>\n<!-- 58&#45;&gt;60 -->\n<g id=\"edge60\" class=\"edge\">\n<title>58&#45;&gt;60</title>\n<path fill=\"none\" stroke=\"#000000\" d=\"M3234.6846,-103.9815C3249.4911,-94.0957 3265.2559,-83.5701 3279.9415,-73.7651\"/>\n<polygon fill=\"#000000\" stroke=\"#000000\" points=\"3282.0748,-76.5493 3288.448,-68.0856 3278.1878,-70.7276 3282.0748,-76.5493\"/>\n</g>\n<!-- 63 -->\n<g id=\"node64\" class=\"node\">\n<title>63</title>\n<path fill=\"#e78c4b\" stroke=\"#000000\" d=\"M3819,-306C3819,-306 3694,-306 3694,-306 3688,-306 3682,-300 3682,-294 3682,-294 3682,-235 3682,-235 3682,-229 3688,-223 3694,-223 3694,-223 3819,-223 3819,-223 3825,-223 3831,-229 3831,-235 3831,-235 3831,-294 3831,-294 3831,-300 3825,-306 3819,-306\"/>\n<text text-anchor=\"start\" x=\"3719.5\" y=\"-290.8\" font-family=\"Helvetica,sans-Serif\" font-size=\"14.00\" fill=\"#000000\">Fare ≤ 7.91</text>\n<text text-anchor=\"start\" x=\"3718.5\" y=\"-275.8\" font-family=\"Helvetica,sans-Serif\" font-size=\"14.00\" fill=\"#000000\">gini = 0.152</text>\n<text text-anchor=\"start\" x=\"3708.5\" y=\"-260.8\" font-family=\"Helvetica,sans-Serif\" font-size=\"14.00\" fill=\"#000000\">samples = 290</text>\n<text text-anchor=\"start\" x=\"3702.5\" y=\"-245.8\" font-family=\"Helvetica,sans-Serif\" font-size=\"14.00\" fill=\"#000000\">value = [266, 24]</text>\n<text text-anchor=\"start\" x=\"3690\" y=\"-230.8\" font-family=\"Helvetica,sans-Serif\" font-size=\"14.00\" fill=\"#000000\">class = Not Survived</text>\n</g>\n<!-- 62&#45;&gt;63 -->\n<g id=\"edge63\" class=\"edge\">\n<title>62&#45;&gt;63</title>\n<path fill=\"none\" stroke=\"#000000\" d=\"M3756.5,-341.8796C3756.5,-333.6838 3756.5,-324.9891 3756.5,-316.5013\"/>\n<polygon fill=\"#000000\" stroke=\"#000000\" points=\"3760.0001,-316.298 3756.5,-306.2981 3753.0001,-316.2981 3760.0001,-316.298\"/>\n</g>\n<!-- 70 -->\n<g id=\"node71\" class=\"node\">\n<title>70</title>\n<path fill=\"#e6843e\" stroke=\"#000000\" d=\"M4237,-306C4237,-306 4112,-306 4112,-306 4106,-306 4100,-300 4100,-294 4100,-294 4100,-235 4100,-235 4100,-229 4106,-223 4112,-223 4112,-223 4237,-223 4237,-223 4243,-223 4249,-229 4249,-235 4249,-235 4249,-294 4249,-294 4249,-300 4243,-306 4237,-306\"/>\n<text text-anchor=\"start\" x=\"4135\" y=\"-290.8\" font-family=\"Helvetica,sans-Serif\" font-size=\"14.00\" fill=\"#000000\">Age ≤ 32.25</text>\n<text text-anchor=\"start\" x=\"4141\" y=\"-275.8\" font-family=\"Helvetica,sans-Serif\" font-size=\"14.00\" fill=\"#000000\">gini = 0.05</text>\n<text text-anchor=\"start\" x=\"4130.5\" y=\"-260.8\" font-family=\"Helvetica,sans-Serif\" font-size=\"14.00\" fill=\"#000000\">samples = 78</text>\n<text text-anchor=\"start\" x=\"4129\" y=\"-245.8\" font-family=\"Helvetica,sans-Serif\" font-size=\"14.00\" fill=\"#000000\">value = [76, 2]</text>\n<text text-anchor=\"start\" x=\"4108\" y=\"-230.8\" font-family=\"Helvetica,sans-Serif\" font-size=\"14.00\" fill=\"#000000\">class = Not Survived</text>\n</g>\n<!-- 62&#45;&gt;70 -->\n<g id=\"edge70\" class=\"edge\">\n<title>62&#45;&gt;70</title>\n<path fill=\"none\" stroke=\"#000000\" d=\"M3831.23,-362.2252C3903.8201,-341.5596 4013.885,-310.2253 4089.7134,-288.6378\"/>\n<polygon fill=\"#000000\" stroke=\"#000000\" points=\"4091.054,-291.8953 4099.7135,-285.7909 4089.1373,-285.1628 4091.054,-291.8953\"/>\n</g>\n<!-- 64 -->\n<g id=\"node65\" class=\"node\">\n<title>64</title>\n<path fill=\"#e68743\" stroke=\"#000000\" d=\"M3736,-187C3736,-187 3611,-187 3611,-187 3605,-187 3599,-181 3599,-175 3599,-175 3599,-116 3599,-116 3599,-110 3605,-104 3611,-104 3611,-104 3736,-104 3736,-104 3742,-104 3748,-110 3748,-116 3748,-116 3748,-175 3748,-175 3748,-181 3742,-187 3736,-187\"/>\n<text text-anchor=\"start\" x=\"3638.5\" y=\"-171.8\" font-family=\"Helvetica,sans-Serif\" font-size=\"14.00\" fill=\"#000000\">Age ≤ 32.5</text>\n<text text-anchor=\"start\" x=\"3635.5\" y=\"-156.8\" font-family=\"Helvetica,sans-Serif\" font-size=\"14.00\" fill=\"#000000\">gini = 0.092</text>\n<text text-anchor=\"start\" x=\"3625.5\" y=\"-141.8\" font-family=\"Helvetica,sans-Serif\" font-size=\"14.00\" fill=\"#000000\">samples = 124</text>\n<text text-anchor=\"start\" x=\"3623.5\" y=\"-126.8\" font-family=\"Helvetica,sans-Serif\" font-size=\"14.00\" fill=\"#000000\">value = [118, 6]</text>\n<text text-anchor=\"start\" x=\"3607\" y=\"-111.8\" font-family=\"Helvetica,sans-Serif\" font-size=\"14.00\" fill=\"#000000\">class = Not Survived</text>\n</g>\n<!-- 63&#45;&gt;64 -->\n<g id=\"edge64\" class=\"edge\">\n<title>63&#45;&gt;64</title>\n<path fill=\"none\" stroke=\"#000000\" d=\"M3727.4706,-222.8796C3721.3145,-214.0534 3714.7549,-204.6485 3708.4064,-195.5466\"/>\n<polygon fill=\"#000000\" stroke=\"#000000\" points=\"3711.2448,-193.4978 3702.6533,-187.2981 3705.5033,-197.5024 3711.2448,-193.4978\"/>\n</g>\n<!-- 67 -->\n<g id=\"node68\" class=\"node\">\n<title>67</title>\n<path fill=\"#e89051\" stroke=\"#000000\" d=\"M3903,-187C3903,-187 3778,-187 3778,-187 3772,-187 3766,-181 3766,-175 3766,-175 3766,-116 3766,-116 3766,-110 3772,-104 3778,-104 3778,-104 3903,-104 3903,-104 3909,-104 3915,-110 3915,-116 3915,-116 3915,-175 3915,-175 3915,-181 3909,-187 3903,-187\"/>\n<text text-anchor=\"start\" x=\"3799.5\" y=\"-171.8\" font-family=\"Helvetica,sans-Serif\" font-size=\"14.00\" fill=\"#000000\">Fare ≤ 8.104</text>\n<text text-anchor=\"start\" x=\"3802.5\" y=\"-156.8\" font-family=\"Helvetica,sans-Serif\" font-size=\"14.00\" fill=\"#000000\">gini = 0.193</text>\n<text text-anchor=\"start\" x=\"3792.5\" y=\"-141.8\" font-family=\"Helvetica,sans-Serif\" font-size=\"14.00\" fill=\"#000000\">samples = 166</text>\n<text text-anchor=\"start\" x=\"3786.5\" y=\"-126.8\" font-family=\"Helvetica,sans-Serif\" font-size=\"14.00\" fill=\"#000000\">value = [148, 18]</text>\n<text text-anchor=\"start\" x=\"3774\" y=\"-111.8\" font-family=\"Helvetica,sans-Serif\" font-size=\"14.00\" fill=\"#000000\">class = Not Survived</text>\n</g>\n<!-- 63&#45;&gt;67 -->\n<g id=\"edge67\" class=\"edge\">\n<title>63&#45;&gt;67</title>\n<path fill=\"none\" stroke=\"#000000\" d=\"M3785.8791,-222.8796C3792.1094,-214.0534 3798.7481,-204.6485 3805.173,-195.5466\"/>\n<polygon fill=\"#000000\" stroke=\"#000000\" points=\"3808.088,-197.4862 3810.9955,-187.2981 3802.3692,-193.4494 3808.088,-197.4862\"/>\n</g>\n<!-- 65 -->\n<g id=\"node66\" class=\"node\">\n<title>65</title>\n<path fill=\"#e78a47\" stroke=\"#000000\" d=\"M3569,-68C3569,-68 3444,-68 3444,-68 3438,-68 3432,-62 3432,-56 3432,-56 3432,-12 3432,-12 3432,-6 3438,0 3444,0 3444,0 3569,0 3569,0 3575,0 3581,-6 3581,-12 3581,-12 3581,-56 3581,-56 3581,-62 3575,-68 3569,-68\"/>\n<text text-anchor=\"start\" x=\"3468.5\" y=\"-52.8\" font-family=\"Helvetica,sans-Serif\" font-size=\"14.00\" fill=\"#000000\">gini = 0.124</text>\n<text text-anchor=\"start\" x=\"3462.5\" y=\"-37.8\" font-family=\"Helvetica,sans-Serif\" font-size=\"14.00\" fill=\"#000000\">samples = 90</text>\n<text text-anchor=\"start\" x=\"3461\" y=\"-22.8\" font-family=\"Helvetica,sans-Serif\" font-size=\"14.00\" fill=\"#000000\">value = [84, 6]</text>\n<text text-anchor=\"start\" x=\"3440\" y=\"-7.8\" font-family=\"Helvetica,sans-Serif\" font-size=\"14.00\" fill=\"#000000\">class = Not Survived</text>\n</g>\n<!-- 64&#45;&gt;65 -->\n<g id=\"edge65\" class=\"edge\">\n<title>64&#45;&gt;65</title>\n<path fill=\"none\" stroke=\"#000000\" d=\"M3611.3154,-103.9815C3596.5089,-94.0957 3580.7441,-83.5701 3566.0585,-73.7651\"/>\n<polygon fill=\"#000000\" stroke=\"#000000\" points=\"3567.8122,-70.7276 3557.552,-68.0856 3563.9252,-76.5493 3567.8122,-70.7276\"/>\n</g>\n<!-- 66 -->\n<g id=\"node67\" class=\"node\">\n<title>66</title>\n<path fill=\"#e58139\" stroke=\"#000000\" d=\"M3736,-68C3736,-68 3611,-68 3611,-68 3605,-68 3599,-62 3599,-56 3599,-56 3599,-12 3599,-12 3599,-6 3605,0 3611,0 3611,0 3736,0 3736,0 3742,0 3748,-6 3748,-12 3748,-12 3748,-56 3748,-56 3748,-62 3742,-68 3736,-68\"/>\n<text text-anchor=\"start\" x=\"3644\" y=\"-52.8\" font-family=\"Helvetica,sans-Serif\" font-size=\"14.00\" fill=\"#000000\">gini = 0.0</text>\n<text text-anchor=\"start\" x=\"3629.5\" y=\"-37.8\" font-family=\"Helvetica,sans-Serif\" font-size=\"14.00\" fill=\"#000000\">samples = 34</text>\n<text text-anchor=\"start\" x=\"3628\" y=\"-22.8\" font-family=\"Helvetica,sans-Serif\" font-size=\"14.00\" fill=\"#000000\">value = [34, 0]</text>\n<text text-anchor=\"start\" x=\"3607\" y=\"-7.8\" font-family=\"Helvetica,sans-Serif\" font-size=\"14.00\" fill=\"#000000\">class = Not Survived</text>\n</g>\n<!-- 64&#45;&gt;66 -->\n<g id=\"edge66\" class=\"edge\">\n<title>64&#45;&gt;66</title>\n<path fill=\"none\" stroke=\"#000000\" d=\"M3673.5,-103.9815C3673.5,-95.618 3673.5,-86.7965 3673.5,-78.3409\"/>\n<polygon fill=\"#000000\" stroke=\"#000000\" points=\"3677.0001,-78.2636 3673.5,-68.2637 3670.0001,-78.2637 3677.0001,-78.2636\"/>\n</g>\n<!-- 68 -->\n<g id=\"node69\" class=\"node\">\n<title>68</title>\n<path fill=\"#eca470\" stroke=\"#000000\" d=\"M3903,-68C3903,-68 3778,-68 3778,-68 3772,-68 3766,-62 3766,-56 3766,-56 3766,-12 3766,-12 3766,-6 3772,0 3778,0 3778,0 3903,0 3903,0 3909,0 3915,-6 3915,-12 3915,-12 3915,-56 3915,-56 3915,-62 3909,-68 3903,-68\"/>\n<text text-anchor=\"start\" x=\"3802.5\" y=\"-52.8\" font-family=\"Helvetica,sans-Serif\" font-size=\"14.00\" fill=\"#000000\">gini = 0.339</text>\n<text text-anchor=\"start\" x=\"3796.5\" y=\"-37.8\" font-family=\"Helvetica,sans-Serif\" font-size=\"14.00\" fill=\"#000000\">samples = 37</text>\n<text text-anchor=\"start\" x=\"3795\" y=\"-22.8\" font-family=\"Helvetica,sans-Serif\" font-size=\"14.00\" fill=\"#000000\">value = [29, 8]</text>\n<text text-anchor=\"start\" x=\"3774\" y=\"-7.8\" font-family=\"Helvetica,sans-Serif\" font-size=\"14.00\" fill=\"#000000\">class = Not Survived</text>\n</g>\n<!-- 67&#45;&gt;68 -->\n<g id=\"edge68\" class=\"edge\">\n<title>67&#45;&gt;68</title>\n<path fill=\"none\" stroke=\"#000000\" d=\"M3840.5,-103.9815C3840.5,-95.618 3840.5,-86.7965 3840.5,-78.3409\"/>\n<polygon fill=\"#000000\" stroke=\"#000000\" points=\"3844.0001,-78.2636 3840.5,-68.2637 3837.0001,-78.2637 3844.0001,-78.2636\"/>\n</g>\n<!-- 69 -->\n<g id=\"node70\" class=\"node\">\n<title>69</title>\n<path fill=\"#e78c4a\" stroke=\"#000000\" d=\"M4070,-68C4070,-68 3945,-68 3945,-68 3939,-68 3933,-62 3933,-56 3933,-56 3933,-12 3933,-12 3933,-6 3939,0 3945,0 3945,0 4070,0 4070,0 4076,0 4082,-6 4082,-12 4082,-12 4082,-56 4082,-56 4082,-62 4076,-68 4070,-68\"/>\n<text text-anchor=\"start\" x=\"3969.5\" y=\"-52.8\" font-family=\"Helvetica,sans-Serif\" font-size=\"14.00\" fill=\"#000000\">gini = 0.143</text>\n<text text-anchor=\"start\" x=\"3959.5\" y=\"-37.8\" font-family=\"Helvetica,sans-Serif\" font-size=\"14.00\" fill=\"#000000\">samples = 129</text>\n<text text-anchor=\"start\" x=\"3953.5\" y=\"-22.8\" font-family=\"Helvetica,sans-Serif\" font-size=\"14.00\" fill=\"#000000\">value = [119, 10]</text>\n<text text-anchor=\"start\" x=\"3941\" y=\"-7.8\" font-family=\"Helvetica,sans-Serif\" font-size=\"14.00\" fill=\"#000000\">class = Not Survived</text>\n</g>\n<!-- 67&#45;&gt;69 -->\n<g id=\"edge69\" class=\"edge\">\n<title>67&#45;&gt;69</title>\n<path fill=\"none\" stroke=\"#000000\" d=\"M3902.6846,-103.9815C3917.4911,-94.0957 3933.2559,-83.5701 3947.9415,-73.7651\"/>\n<polygon fill=\"#000000\" stroke=\"#000000\" points=\"3950.0748,-76.5493 3956.448,-68.0856 3946.1878,-70.7276 3950.0748,-76.5493\"/>\n</g>\n<!-- 71 -->\n<g id=\"node72\" class=\"node\">\n<title>71</title>\n<path fill=\"#e68641\" stroke=\"#000000\" d=\"M4237,-187C4237,-187 4112,-187 4112,-187 4106,-187 4100,-181 4100,-175 4100,-175 4100,-116 4100,-116 4100,-110 4106,-104 4112,-104 4112,-104 4237,-104 4237,-104 4243,-104 4249,-110 4249,-116 4249,-116 4249,-175 4249,-175 4249,-181 4243,-187 4237,-187\"/>\n<text text-anchor=\"start\" x=\"4139.5\" y=\"-171.8\" font-family=\"Helvetica,sans-Serif\" font-size=\"14.00\" fill=\"#000000\">Age ≤ 31.5</text>\n<text text-anchor=\"start\" x=\"4136.5\" y=\"-156.8\" font-family=\"Helvetica,sans-Serif\" font-size=\"14.00\" fill=\"#000000\">gini = 0.077</text>\n<text text-anchor=\"start\" x=\"4130.5\" y=\"-141.8\" font-family=\"Helvetica,sans-Serif\" font-size=\"14.00\" fill=\"#000000\">samples = 50</text>\n<text text-anchor=\"start\" x=\"4129\" y=\"-126.8\" font-family=\"Helvetica,sans-Serif\" font-size=\"14.00\" fill=\"#000000\">value = [48, 2]</text>\n<text text-anchor=\"start\" x=\"4108\" y=\"-111.8\" font-family=\"Helvetica,sans-Serif\" font-size=\"14.00\" fill=\"#000000\">class = Not Survived</text>\n</g>\n<!-- 70&#45;&gt;71 -->\n<g id=\"edge71\" class=\"edge\">\n<title>70&#45;&gt;71</title>\n<path fill=\"none\" stroke=\"#000000\" d=\"M4174.5,-222.8796C4174.5,-214.6838 4174.5,-205.9891 4174.5,-197.5013\"/>\n<polygon fill=\"#000000\" stroke=\"#000000\" points=\"4178.0001,-197.298 4174.5,-187.2981 4171.0001,-197.2981 4178.0001,-197.298\"/>\n</g>\n<!-- 74 -->\n<g id=\"node75\" class=\"node\">\n<title>74</title>\n<path fill=\"#e58139\" stroke=\"#000000\" d=\"M4404,-179.5C4404,-179.5 4279,-179.5 4279,-179.5 4273,-179.5 4267,-173.5 4267,-167.5 4267,-167.5 4267,-123.5 4267,-123.5 4267,-117.5 4273,-111.5 4279,-111.5 4279,-111.5 4404,-111.5 4404,-111.5 4410,-111.5 4416,-117.5 4416,-123.5 4416,-123.5 4416,-167.5 4416,-167.5 4416,-173.5 4410,-179.5 4404,-179.5\"/>\n<text text-anchor=\"start\" x=\"4312\" y=\"-164.3\" font-family=\"Helvetica,sans-Serif\" font-size=\"14.00\" fill=\"#000000\">gini = 0.0</text>\n<text text-anchor=\"start\" x=\"4297.5\" y=\"-149.3\" font-family=\"Helvetica,sans-Serif\" font-size=\"14.00\" fill=\"#000000\">samples = 28</text>\n<text text-anchor=\"start\" x=\"4296\" y=\"-134.3\" font-family=\"Helvetica,sans-Serif\" font-size=\"14.00\" fill=\"#000000\">value = [28, 0]</text>\n<text text-anchor=\"start\" x=\"4275\" y=\"-119.3\" font-family=\"Helvetica,sans-Serif\" font-size=\"14.00\" fill=\"#000000\">class = Not Survived</text>\n</g>\n<!-- 70&#45;&gt;74 -->\n<g id=\"edge74\" class=\"edge\">\n<title>70&#45;&gt;74</title>\n<path fill=\"none\" stroke=\"#000000\" d=\"M4232.9085,-222.8796C4249.964,-210.7263 4268.5591,-197.4759 4285.4641,-185.4297\"/>\n<polygon fill=\"#000000\" stroke=\"#000000\" points=\"4287.5002,-188.2766 4293.6131,-179.623 4283.438,-182.5759 4287.5002,-188.2766\"/>\n</g>\n<!-- 72 -->\n<g id=\"node73\" class=\"node\">\n<title>72</title>\n<path fill=\"#e6843d\" stroke=\"#000000\" d=\"M4237,-68C4237,-68 4112,-68 4112,-68 4106,-68 4100,-62 4100,-56 4100,-56 4100,-12 4100,-12 4100,-6 4106,0 4112,0 4112,0 4237,0 4237,0 4243,0 4249,-6 4249,-12 4249,-12 4249,-56 4249,-56 4249,-62 4243,-68 4237,-68\"/>\n<text text-anchor=\"start\" x=\"4136.5\" y=\"-52.8\" font-family=\"Helvetica,sans-Serif\" font-size=\"14.00\" fill=\"#000000\">gini = 0.041</text>\n<text text-anchor=\"start\" x=\"4130.5\" y=\"-37.8\" font-family=\"Helvetica,sans-Serif\" font-size=\"14.00\" fill=\"#000000\">samples = 48</text>\n<text text-anchor=\"start\" x=\"4129\" y=\"-22.8\" font-family=\"Helvetica,sans-Serif\" font-size=\"14.00\" fill=\"#000000\">value = [47, 1]</text>\n<text text-anchor=\"start\" x=\"4108\" y=\"-7.8\" font-family=\"Helvetica,sans-Serif\" font-size=\"14.00\" fill=\"#000000\">class = Not Survived</text>\n</g>\n<!-- 71&#45;&gt;72 -->\n<g id=\"edge72\" class=\"edge\">\n<title>71&#45;&gt;72</title>\n<path fill=\"none\" stroke=\"#000000\" d=\"M4174.5,-103.9815C4174.5,-95.618 4174.5,-86.7965 4174.5,-78.3409\"/>\n<polygon fill=\"#000000\" stroke=\"#000000\" points=\"4178.0001,-78.2636 4174.5,-68.2637 4171.0001,-78.2637 4178.0001,-78.2636\"/>\n</g>\n<!-- 73 -->\n<g id=\"node74\" class=\"node\">\n<title>73</title>\n<path fill=\"#ffffff\" stroke=\"#000000\" d=\"M4404,-68C4404,-68 4279,-68 4279,-68 4273,-68 4267,-62 4267,-56 4267,-56 4267,-12 4267,-12 4267,-6 4273,0 4279,0 4279,0 4404,0 4404,0 4410,0 4416,-6 4416,-12 4416,-12 4416,-56 4416,-56 4416,-62 4410,-68 4404,-68\"/>\n<text text-anchor=\"start\" x=\"4312\" y=\"-52.8\" font-family=\"Helvetica,sans-Serif\" font-size=\"14.00\" fill=\"#000000\">gini = 0.5</text>\n<text text-anchor=\"start\" x=\"4302\" y=\"-37.8\" font-family=\"Helvetica,sans-Serif\" font-size=\"14.00\" fill=\"#000000\">samples = 2</text>\n<text text-anchor=\"start\" x=\"4300\" y=\"-22.8\" font-family=\"Helvetica,sans-Serif\" font-size=\"14.00\" fill=\"#000000\">value = [1, 1]</text>\n<text text-anchor=\"start\" x=\"4275\" y=\"-7.8\" font-family=\"Helvetica,sans-Serif\" font-size=\"14.00\" fill=\"#000000\">class = Not Survived</text>\n</g>\n<!-- 71&#45;&gt;73 -->\n<g id=\"edge73\" class=\"edge\">\n<title>71&#45;&gt;73</title>\n<path fill=\"none\" stroke=\"#000000\" d=\"M4236.6846,-103.9815C4251.4911,-94.0957 4267.2559,-83.5701 4281.9415,-73.7651\"/>\n<polygon fill=\"#000000\" stroke=\"#000000\" points=\"4284.0748,-76.5493 4290.448,-68.0856 4280.1878,-70.7276 4284.0748,-76.5493\"/>\n</g>\n</g>\n</svg>\n"
          },
          "metadata": {},
          "execution_count": 81
        }
      ]
    },
    {
      "cell_type": "markdown",
      "source": [
        "**gini** : 불순도 척도. 0일 경우, 모든 샘플이 하나의 분류값을 갖으며, 0이 아닐 경우, 1에 가까울수록, 여러 분류값이 한 노드에 존재합니다.  \n",
        "**samples** : 노드 안에 들어 있는 데이터의 갯수  \n",
        "**value** : 분류값 별 데이터의 갯수   \n",
        "**class** :  분류값"
      ],
      "metadata": {
        "id": "3xQi3oFI0n2W"
      }
    },
    {
      "cell_type": "markdown",
      "source": [
        "https://hwangtoemat.github.io/dataanalysis-with-python/2019-06-11-%ED%83%80%EC%9D%B4%ED%83%80%EB%8B%89-%EC%83%9D%EC%A1%B4%EC%9E%90-%EC%98%88%EC%B8%A1-Decision-tree-%EC%99%80-Randomforest-%EB%B9%84%EA%B5%90%ED%95%98%EA%B8%B0/\n",
        "참조"
      ],
      "metadata": {
        "id": "CqkCjPXT09lm"
      }
    },
    {
      "cell_type": "code",
      "source": [
        ""
      ],
      "metadata": {
        "id": "dVxN85Cy0_z8"
      },
      "execution_count": null,
      "outputs": []
    }
  ]
}